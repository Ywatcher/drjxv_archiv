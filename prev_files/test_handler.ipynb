{
 "cells": [
  {
   "cell_type": "code",
   "execution_count": 1,
   "id": "507102ac-cdde-4eb4-97da-4e80424d4bda",
   "metadata": {},
   "outputs": [],
   "source": [
    "from git import Repo\n",
    "import os\n",
    "from pathlib import Path"
   ]
  },
  {
   "cell_type": "code",
   "execution_count": 2,
   "id": "1a885e05-efb2-4edc-af07-80fb1da9c4ab",
   "metadata": {},
   "outputs": [],
   "source": [
    "from util.repo import git_repo,git_repo_test"
   ]
  },
  {
   "cell_type": "code",
   "execution_count": 3,
   "id": "e20e6b5d-1cf0-47a9-91a0-2e64bf67b84e",
   "metadata": {},
   "outputs": [
    {
     "name": "stdout",
     "output_type": "stream",
     "text": [
      "/media/ywatcher/ExtDisk1/Files/web_archiv_/git_repo_test\n",
      "True\n",
      "True\n"
     ]
    }
   ],
   "source": [
    "print(git_repo_test)\n",
    "print(os.path.exists(git_repo_test))\n",
    "print(os.path.isdir(git_repo_test))\n"
   ]
  },
  {
   "cell_type": "code",
   "execution_count": 4,
   "id": "be92a309-97a8-4b11-81b3-ec55e0254f33",
   "metadata": {},
   "outputs": [],
   "source": [
    "author = \"test<test@mal.com>\""
   ]
  },
  {
   "cell_type": "code",
   "execution_count": 20,
   "id": "98bd3abc-6a14-4b1e-928e-50af5f1ad164",
   "metadata": {},
   "outputs": [],
   "source": [
    "from datetime import datetime\n",
    "d = datetime.strptime('2011-03-07','%Y-%m-%d')"
   ]
  },
  {
   "cell_type": "code",
   "execution_count": 21,
   "id": "a9569a70-2851-442a-b138-b01276746b97",
   "metadata": {},
   "outputs": [],
   "source": [
    "from git.exc import (\n",
    "    GitCommandError,\n",
    "    InvalidGitRepositoryError,\n",
    "    NoSuchPathError,\n",
    ")\n",
    "try:\n",
    "    test_repo = Repo(git_repo_test)\n",
    "except InvalidGitRepositoryError as e:\n",
    "    test_repo = Repo.init(git_repo_test, bare=False)\n",
    "# TODO: auto add save directory"
   ]
  },
  {
   "cell_type": "code",
   "execution_count": 27,
   "id": "560c6ce5-c831-410b-b917-af77efafe655",
   "metadata": {},
   "outputs": [
    {
     "ename": "GitCommandError",
     "evalue": "Cmd('git') failed due to: exit code(128)\n  cmdline: git show 6d15f:/media/ywatcher/ExtDisk1/Files/web_archiv_/git_repo_test/test_hello\n  stderr: 'fatal: path '/media/ywatcher/ExtDisk1/Files/web_archiv_/git_repo_test/test_hello' exists on disk, but not in '6d15f''",
     "output_type": "error",
     "traceback": [
      "\u001b[0;31m---------------------------------------------------------------------------\u001b[0m",
      "\u001b[0;31mGitCommandError\u001b[0m                           Traceback (most recent call last)",
      "Cell \u001b[0;32mIn[27], line 1\u001b[0m\n\u001b[0;32m----> 1\u001b[0m \u001b[43mtest_repo\u001b[49m\u001b[38;5;241;43m.\u001b[39;49m\u001b[43mgit\u001b[49m\u001b[38;5;241;43m.\u001b[39;49m\u001b[43mshow\u001b[49m\u001b[43m(\u001b[49m\n\u001b[1;32m      2\u001b[0m \u001b[43m    \u001b[49m\u001b[38;5;124;43m\"\u001b[39;49m\u001b[38;5;132;43;01m{}\u001b[39;49;00m\u001b[38;5;124;43m:\u001b[39;49m\u001b[38;5;132;43;01m{}\u001b[39;49;00m\u001b[38;5;124;43m\"\u001b[39;49m\u001b[38;5;241;43m.\u001b[39;49m\u001b[43mformat\u001b[49m\u001b[43m(\u001b[49m\n\u001b[1;32m      3\u001b[0m \u001b[43m    \u001b[49m\u001b[38;5;66;43;03m# \"1357bc\",\u001b[39;49;00m\n\u001b[1;32m      4\u001b[0m \u001b[43m    \u001b[49m\u001b[38;5;124;43m\"\u001b[39;49m\u001b[38;5;124;43m6d15f\u001b[39;49m\u001b[38;5;124;43m\"\u001b[39;49m\u001b[43m,\u001b[49m\n\u001b[1;32m      5\u001b[0m \u001b[43m    \u001b[49m\u001b[43mos\u001b[49m\u001b[38;5;241;43m.\u001b[39;49m\u001b[43mpath\u001b[49m\u001b[38;5;241;43m.\u001b[39;49m\u001b[43mjoin\u001b[49m\u001b[43m(\u001b[49m\u001b[43mgit_repo_test\u001b[49m\u001b[43m,\u001b[49m\u001b[43m \u001b[49m\u001b[38;5;124;43m\"\u001b[39;49m\u001b[38;5;124;43mtest_hello\u001b[39;49m\u001b[38;5;124;43m\"\u001b[39;49m\u001b[43m)\u001b[49m\n\u001b[1;32m      6\u001b[0m \u001b[43m    \u001b[49m\u001b[43m)\u001b[49m\n\u001b[1;32m      7\u001b[0m \u001b[43m)\u001b[49m\n",
      "File \u001b[0;32m~/anaconda3/envs/web/lib/python3.9/site-packages/git/cmd.py:736\u001b[0m, in \u001b[0;36mGit.__getattr__.<locals>.<lambda>\u001b[0;34m(*args, **kwargs)\u001b[0m\n\u001b[1;32m    734\u001b[0m \u001b[38;5;28;01mif\u001b[39;00m name[\u001b[38;5;241m0\u001b[39m] \u001b[38;5;241m==\u001b[39m \u001b[38;5;124m\"\u001b[39m\u001b[38;5;124m_\u001b[39m\u001b[38;5;124m\"\u001b[39m:\n\u001b[1;32m    735\u001b[0m     \u001b[38;5;28;01mreturn\u001b[39;00m LazyMixin\u001b[38;5;241m.\u001b[39m\u001b[38;5;21m__getattr__\u001b[39m(\u001b[38;5;28mself\u001b[39m, name)\n\u001b[0;32m--> 736\u001b[0m \u001b[38;5;28;01mreturn\u001b[39;00m \u001b[38;5;28;01mlambda\u001b[39;00m \u001b[38;5;241m*\u001b[39margs, \u001b[38;5;241m*\u001b[39m\u001b[38;5;241m*\u001b[39mkwargs: \u001b[38;5;28;43mself\u001b[39;49m\u001b[38;5;241;43m.\u001b[39;49m\u001b[43m_call_process\u001b[49m\u001b[43m(\u001b[49m\u001b[43mname\u001b[49m\u001b[43m,\u001b[49m\u001b[43m \u001b[49m\u001b[38;5;241;43m*\u001b[39;49m\u001b[43margs\u001b[49m\u001b[43m,\u001b[49m\u001b[43m \u001b[49m\u001b[38;5;241;43m*\u001b[39;49m\u001b[38;5;241;43m*\u001b[39;49m\u001b[43mkwargs\u001b[49m\u001b[43m)\u001b[49m\n",
      "File \u001b[0;32m~/anaconda3/envs/web/lib/python3.9/site-packages/git/cmd.py:1316\u001b[0m, in \u001b[0;36mGit._call_process\u001b[0;34m(self, method, *args, **kwargs)\u001b[0m\n\u001b[1;32m   1313\u001b[0m call\u001b[38;5;241m.\u001b[39mappend(dashify(method))\n\u001b[1;32m   1314\u001b[0m call\u001b[38;5;241m.\u001b[39mextend(args_list)\n\u001b[0;32m-> 1316\u001b[0m \u001b[38;5;28;01mreturn\u001b[39;00m \u001b[38;5;28;43mself\u001b[39;49m\u001b[38;5;241;43m.\u001b[39;49m\u001b[43mexecute\u001b[49m\u001b[43m(\u001b[49m\u001b[43mcall\u001b[49m\u001b[43m,\u001b[49m\u001b[43m \u001b[49m\u001b[38;5;241;43m*\u001b[39;49m\u001b[38;5;241;43m*\u001b[39;49m\u001b[43mexec_kwargs\u001b[49m\u001b[43m)\u001b[49m\n",
      "File \u001b[0;32m~/anaconda3/envs/web/lib/python3.9/site-packages/git/cmd.py:1111\u001b[0m, in \u001b[0;36mGit.execute\u001b[0;34m(self, command, istream, with_extended_output, with_exceptions, as_process, output_stream, stdout_as_string, kill_after_timeout, with_stdout, universal_newlines, shell, env, max_chunk_size, strip_newline_in_stdout, **subprocess_kwargs)\u001b[0m\n\u001b[1;32m   1108\u001b[0m \u001b[38;5;66;03m# END handle debug printing\u001b[39;00m\n\u001b[1;32m   1110\u001b[0m \u001b[38;5;28;01mif\u001b[39;00m with_exceptions \u001b[38;5;129;01mand\u001b[39;00m status \u001b[38;5;241m!=\u001b[39m \u001b[38;5;241m0\u001b[39m:\n\u001b[0;32m-> 1111\u001b[0m     \u001b[38;5;28;01mraise\u001b[39;00m GitCommandError(redacted_command, status, stderr_value, stdout_value)\n\u001b[1;32m   1113\u001b[0m \u001b[38;5;28;01mif\u001b[39;00m \u001b[38;5;28misinstance\u001b[39m(stdout_value, \u001b[38;5;28mbytes\u001b[39m) \u001b[38;5;129;01mand\u001b[39;00m stdout_as_string:  \u001b[38;5;66;03m# could also be output_stream\u001b[39;00m\n\u001b[1;32m   1114\u001b[0m     stdout_value \u001b[38;5;241m=\u001b[39m safe_decode(stdout_value)\n",
      "\u001b[0;31mGitCommandError\u001b[0m: Cmd('git') failed due to: exit code(128)\n  cmdline: git show 6d15f:/media/ywatcher/ExtDisk1/Files/web_archiv_/git_repo_test/test_hello\n  stderr: 'fatal: path '/media/ywatcher/ExtDisk1/Files/web_archiv_/git_repo_test/test_hello' exists on disk, but not in '6d15f''"
     ]
    }
   ],
   "source": []
  },
  {
   "cell_type": "code",
   "execution_count": 102,
   "id": "c22d127b-61cc-4335-9972-b4a5ecde83bc",
   "metadata": {},
   "outputs": [],
   "source": [
    "_ = test_repo.git.commit(\"--allow-empty\", \"-m\",\"test_commit\", author=author)"
   ]
  },
  {
   "cell_type": "code",
   "execution_count": 130,
   "id": "02d52400-abdb-41fb-a6b9-6334b8da81e0",
   "metadata": {},
   "outputs": [],
   "source": [
    "time_str = \"2023-10-13T18:14:15.000Z\"\n",
    "time_str_  = \"2023-10-13T18:14:15.+00:00\""
   ]
  },
  {
   "cell_type": "code",
   "execution_count": 131,
   "id": "1b9366bd-7281-458e-afc5-1c9e2ecec2b6",
   "metadata": {},
   "outputs": [],
   "source": [
    "# d = datetime.strptime(time_str,\"%Y-%m-%dT%H:%M:%S.%fZ\")"
   ]
  },
  {
   "cell_type": "code",
   "execution_count": 33,
   "id": "b0e90664-069b-4179-84f1-1b0d61345cc0",
   "metadata": {},
   "outputs": [],
   "source": [
    "# format: \"%Y-%m-%dT%H:%M:%S.%fZ\"\n",
    "# example: \"2023-10-13T18:14:15.000Z\"\n",
    "d = datetime.fromisoformat('2012-11-01T04:16:13-04:00')"
   ]
  },
  {
   "cell_type": "code",
   "execution_count": 5,
   "id": "79cb0cd9-bfa1-4c34-ba5e-ce74b4c31ed3",
   "metadata": {},
   "outputs": [
    {
     "ename": "NameError",
     "evalue": "name 'test_repo' is not defined",
     "output_type": "error",
     "traceback": [
      "\u001b[0;31m---------------------------------------------------------------------------\u001b[0m",
      "\u001b[0;31mNameError\u001b[0m                                 Traceback (most recent call last)",
      "Cell \u001b[0;32mIn[5], line 3\u001b[0m\n\u001b[1;32m      1\u001b[0m \u001b[38;5;66;03m# test_repo.git.add\u001b[39;00m\n\u001b[0;32m----> 3\u001b[0m \u001b[43mtest_repo\u001b[49m\u001b[38;5;241m.\u001b[39mgit\u001b[38;5;241m.\u001b[39madd(test_file)\n\u001b[1;32m      4\u001b[0m cm \u001b[38;5;241m=\u001b[39m  Actor(name\u001b[38;5;241m=\u001b[39m\u001b[38;5;124m\"\u001b[39m\u001b[38;5;124mtest\u001b[39m\u001b[38;5;124m\"\u001b[39m, email\u001b[38;5;241m=\u001b[39m\u001b[38;5;124m\"\u001b[39m\u001b[38;5;124mtest@mal.com\u001b[39m\u001b[38;5;124m\"\u001b[39m)\n\u001b[1;32m      5\u001b[0m a \u001b[38;5;241m=\u001b[39m Actor(name\u001b[38;5;241m=\u001b[39m\u001b[38;5;124m\"\u001b[39m\u001b[38;5;124mtest\u001b[39m\u001b[38;5;124m\"\u001b[39m,email\u001b[38;5;241m=\u001b[39m\u001b[38;5;124m\"\u001b[39m\u001b[38;5;124m\"\u001b[39m)\n",
      "\u001b[0;31mNameError\u001b[0m: name 'test_repo' is not defined"
     ]
    }
   ],
   "source": [
    "# test_repo.git.add\n",
    "\n",
    "test_repo.git.add(test_file)\n",
    "cm =  Actor(name=\"test\", email=\"test@mal.com\")\n",
    "a = Actor(name=\"test\",email=\"\")\n",
    "_ = test_repo.index.commit(\n",
    "    parent_commits=[c], message=\"test_commit\", author=a, commit_date=d, author_date=d)"
   ]
  },
  {
   "cell_type": "code",
   "execution_count": 6,
   "id": "d8c53375-a679-4793-a41d-3e0b812a7ba1",
   "metadata": {},
   "outputs": [
    {
     "ename": "NameError",
     "evalue": "name 'd' is not defined",
     "output_type": "error",
     "traceback": [
      "\u001b[0;31m---------------------------------------------------------------------------\u001b[0m",
      "\u001b[0;31mNameError\u001b[0m                                 Traceback (most recent call last)",
      "Cell \u001b[0;32mIn[6], line 1\u001b[0m\n\u001b[0;32m----> 1\u001b[0m \u001b[38;5;28mtype\u001b[39m(\u001b[43md\u001b[49m)\n",
      "\u001b[0;31mNameError\u001b[0m: name 'd' is not defined"
     ]
    }
   ],
   "source": [
    "type(d)"
   ]
  },
  {
   "cell_type": "code",
   "execution_count": 12,
   "id": "575213c7-f1e6-4bed-95ed-54d6a78f203e",
   "metadata": {},
   "outputs": [],
   "source": [
    "from git.objects.commit import Commit"
   ]
  },
  {
   "cell_type": "code",
   "execution_count": 14,
   "id": "64050c4b-6cfd-441f-aaa9-27eecf0a681b",
   "metadata": {},
   "outputs": [
    {
     "ename": "TypeError",
     "evalue": "__init__() missing 2 required positional arguments: 'repo' and 'binsha'",
     "output_type": "error",
     "traceback": [
      "\u001b[0;31m---------------------------------------------------------------------------\u001b[0m",
      "\u001b[0;31mTypeError\u001b[0m                                 Traceback (most recent call last)",
      "Cell \u001b[0;32mIn[14], line 1\u001b[0m\n\u001b[0;32m----> 1\u001b[0m c_ \u001b[38;5;241m=\u001b[39m \u001b[43mCommit\u001b[49m\u001b[43m(\u001b[49m\u001b[43m)\u001b[49m\n",
      "\u001b[0;31mTypeError\u001b[0m: __init__() missing 2 required positional arguments: 'repo' and 'binsha'"
     ]
    }
   ],
   "source": [
    "Commit.sh"
   ]
  },
  {
   "cell_type": "code",
   "execution_count": 7,
   "id": "f2fc65f3-a104-4fa9-9ab6-ca73baa5d5da",
   "metadata": {},
   "outputs": [],
   "source": [
    "import sqlite3"
   ]
  },
  {
   "cell_type": "code",
   "execution_count": 8,
   "id": "99c460cf-646a-4a36-a2cd-39deab9fe0a1",
   "metadata": {},
   "outputs": [],
   "source": [
    "from git.util import Actor\n",
    "from datetime import datetime\n",
    "import os\n",
    "from git import Repo\n",
    "from typing import Optional\n",
    "\n",
    "class GitOperator:\n",
    "    from git.objects.commit import Commit\n",
    "    \n",
    "    @staticmethod\n",
    "    def create_repo(repo_path:str):\n",
    "        raise NotImplementedError\n",
    "    \n",
    "    def __init__(\n",
    "        self,\n",
    "        repo_path: str,\n",
    "        commiter_name: str, \n",
    "        commiter_email: str,\n",
    "    ):\n",
    "        \"\"\"\n",
    "        :param commiter_name: name of recorder of this repo\n",
    "        :param commiter_email: url of recorder of this repo\n",
    "        :param repo_path: absolute path of this repo, should be a git repo\n",
    "        \"\"\"\n",
    "        self.repo_path = repo_path\n",
    "        self.repo = Repo(repo_path)\n",
    "        self.commiter = Actor(name=commiter_name, email=commiter_email)\n",
    "        \n",
    "    def commit_file(\n",
    "        self,\n",
    "        file_name:str,\n",
    "        message:str,\n",
    "        modified_datetime:datetime,\n",
    "        fetched_datetime:datetime,\n",
    "        author:str=\"unknown\",\n",
    "        author_url:str=\"unknown\",\n",
    "        parent_sha:Optional[str]=None\n",
    "    )-> Commit:\n",
    "                            \n",
    "        \"\"\"\n",
    "        :param file_name: relative name to repo\n",
    "        :param message: commit message\n",
    "        :param modified_datetime\n",
    "        :param fetched_datetime\n",
    "        \"\"\"\n",
    "        # TODO: assert path is relative\n",
    "        # file name should be {answer/question}_{id}\n",
    "        file_path_full = os.path.join(self.repo_path, file_name)\n",
    "        self.repo.git.add(file_path_full)\n",
    "        author = Actor(name=str(author), email=str(author_url))\n",
    "        try:\n",
    "            parent_commit = self.get_commit_by_sha(parent_sha)\n",
    "        except:\n",
    "            parent_commit = self.repo.head.commit\n",
    "        self.repo.index.commit(\n",
    "            parent_commits=[parent_commit],\n",
    "            message=message, \n",
    "            author=author,\n",
    "            committer=self.commiter,\n",
    "            commit_date=fetched_datetime, \n",
    "            author_date=modified_datetime\n",
    "        )\n",
    "        return self.repo.head.commit\n",
    "    \n",
    "    def get_commit_by_sha(\n",
    "        self,\n",
    "        sha:str\n",
    "    ) -> Commit: \n",
    "        \"\"\"\n",
    "        :param sha: full hexsha str of this commit\n",
    "        \"\"\"\n",
    "        commits = list(self.repo.iter_commits(\n",
    "            sha, \"\", \n",
    "            # ancestry_path=True\n",
    "        ))[0]\n",
    "        return commits \n",
    "    \n",
    "    def show_file_at_version(\n",
    "        self,\n",
    "        sha:str,\n",
    "        file_name:str\n",
    "    ) -> str:\n",
    "        \"\"\"\n",
    "        :param sha: full or partial shahex of commit\n",
    "        :param filename: filename without prefix\n",
    "        \"\"\"\n",
    "        return self.repo.git.show(\n",
    "            \"{}:{}\".format(sha, file_name)\n",
    "        )\n",
    "    \n",
    "    def file_diff_with_version(\n",
    "        self,\n",
    "        sha:str,\n",
    "        file_name:str,\n",
    "        file_content:str\n",
    "    ) -> bool:\n",
    "        prev_content = self.show_file_at_version(\n",
    "            sha=sha,\n",
    "            file_name=file_name\n",
    "        )\n",
    "        return prev_content == file_content\n",
    "    \n",
    "    def get_full_name(self, file_name) -> str:\n",
    "        return os.path.join(self.repo_path, file_name)\n",
    "    \n",
    "    \n",
    "\n",
    "    \n",
    "    \n",
    "               "
   ]
  },
  {
   "cell_type": "code",
   "execution_count": 9,
   "id": "4372181d-a69e-4ff2-a70b-5224bf65d898",
   "metadata": {},
   "outputs": [],
   "source": [
    "operator = GitOperator(\n",
    "    repo_path=git_repo_test,\n",
    "    commiter_name=\"test\",\n",
    "    commiter_email=\"test@mal.com\"\n",
    ")\n"
   ]
  },
  {
   "cell_type": "code",
   "execution_count": 40,
   "id": "33c583cc-6b88-4be1-a70c-62e52f355869",
   "metadata": {},
   "outputs": [],
   "source": [
    "s = \"hello_v2\\nthis is v2\"\n",
    "test_file = os.path.join(git_repo_test, \"test_hello\")\n",
    "with open(test_file, \"w\") as f:\n",
    "    f.write(s)\n",
    "# c = wrapper.commit(test_file, commit_message='v1')\n",
    "commit = operator.commit_file(\n",
    "    file_name=test_file,\n",
    "    message=\"v2\",\n",
    "    modified_datetime=d,\n",
    "    fetched_datetime=d\n",
    ")"
   ]
  },
  {
   "cell_type": "code",
   "execution_count": 45,
   "id": "d79267f3-dbd2-4e2c-84b8-b0c1c311d293",
   "metadata": {},
   "outputs": [
    {
     "data": {
      "text/plain": [
       "'hello_v1\\nthis is v1'"
      ]
     },
     "execution_count": 45,
     "metadata": {},
     "output_type": "execute_result"
    }
   ],
   "source": [
    "\n",
    "test_repo.git.show(\n",
    "    \"{}:{}\".format(\n",
    "        # '3e3d16',\n",
    "    \"1357bc\",\n",
    "    # \"34397b\",\n",
    "    # os.path.join(git_repo_test, \"test_hello\")\n",
    "        'test_hello'\n",
    "    )\n",
    "    # '1357bc'\n",
    "   # '3e3d16'\n",
    ")"
   ]
  },
  {
   "cell_type": "markdown",
   "id": "d17a91bc-72b5-4e58-9a99-8a69775f36ec",
   "metadata": {},
   "source": [
    "huthottps://stackoverflow.com/questions/14371556/how-can-i-specify-the-committed-date-of-a-commit-using-gitpython<br>\n",
    "https://www.solveforum.com/forums/threads/solved-gitpython-how-can-i-access-the-contents-of-a-file-in-a-commit-in-gitpython.552159/<br>\n",
    "https://www.gloomycorner.com/getting-contents-of-a-file-in-a-specific-commit-in-git/"
   ]
  },
  {
   "cell_type": "code",
   "execution_count": 46,
   "id": "b5dec739-c1da-4e64-bea4-6b5825518cc1",
   "metadata": {},
   "outputs": [
    {
     "data": {
      "text/plain": [
       "'[master 2a9041e] test_commit\\n Author: test <test@mal.com>'"
      ]
     },
     "execution_count": 46,
     "metadata": {},
     "output_type": "execute_result"
    }
   ],
   "source": [
    "from util.repo import database_root, root, driver_root\n",
    "db_test_1 = os.path.join(database_root, \"test.1.db\")"
   ]
  },
  {
   "cell_type": "code",
   "execution_count": 7,
   "id": "777e0275-5705-408c-bc89-34700f11b6c0",
   "metadata": {},
   "outputs": [],
   "source": []
  },
  {
   "cell_type": "code",
   "execution_count": 75,
   "id": "d7bd8d03-9c2d-40b0-aad7-8716d663f1d5",
   "metadata": {},
   "outputs": [],
   "source": [
    "d = datetime.datetime.today"
   ]
  },
  {
   "cell_type": "code",
   "execution_count": 20,
   "id": "3e06f924-d9c6-42fa-a57a-628d3fa47327",
   "metadata": {},
   "outputs": [],
   "source": [
    "from common import AnswerBriefInfo, QuestionBriefInfo\n",
    "from typing import Union\n",
    "import datetime\n",
    "\n",
    "class DBHandler:\n",
    "    from git.objects.commit import Commit\n",
    "    def __init__(\n",
    "        self, \n",
    "        db_path:str,\n",
    "        git_repo_path:str\n",
    "    ):\n",
    "        self.db_path = db_path\n",
    "        self.git_repo_path = git_repo_path\n",
    "        \n",
    "    @staticmethod\n",
    "    def get_answer_filename(answer_id) -> str:\n",
    "        return f\"answer_{answer_id}\"\n",
    "    \n",
    "    @staticmethod\n",
    "    def get_question_filename(question_id) -> str:\n",
    "        return f\"question_{question_id}\"\n",
    "        \n",
    "    @staticmethod\n",
    "    def handle(\n",
    "        db:DataBase, \n",
    "        git_operator: GitOperator,\n",
    "        result: Union[AnswerBriefInfo, QuestionBriefInfo]\n",
    "    ):\n",
    "        if isinstance(result, AnswerBriefInfo):\n",
    "            answer_id = result.answer_id\n",
    "            filename = self.get_answer_filename(answer_id)\n",
    "            file_content = result.to_markdown_()\n",
    "            to_update = False\n",
    "            head = db.get_git_head()\n",
    "            if db.has_answer(answer_id):\n",
    "                # commit and make a new version\n",
    "                to_update = git_operator.file_diff_with_version(\n",
    "                    file_content=file_content,\n",
    "                    sha=head\n",
    "                )\n",
    "            else: \n",
    "                db.add_answer(\n",
    "                    answer_id=int(answer_id),\n",
    "                    question_id=int(result.question_id),\n",
    "                    dateCreated=result.dateCreate_d,\n",
    "                    # FIXME: author id\n",
    "                )\n",
    "                to_update = True\n",
    "            if to_update:\n",
    "                fetchedDatetime_d = datetime.datetime.now()\n",
    "                with open(\n",
    "                    git_operator.get_full_name(filename),\n",
    "                    \"w\"\n",
    "                ) as f:\n",
    "                    f.write(file_content)\n",
    "                git_latest_commit = git_operator.commit_file(\n",
    "                    file_name=filename,\n",
    "                    message=\"..\",  # TODO\n",
    "                    modified_datetime=result.dateModified_d,\n",
    "                    fetched_datetime=fetchedDatetime_d,\n",
    "                    parent_sha=head\n",
    "                    # author = .., author_url=..\n",
    "                )\n",
    "                sha = git_latest_commit.hexsha # FIXME\n",
    "                db.update_git_head(sha=sha)\n",
    "                db.add_answer_version(\n",
    "                    answer_id=int(answer_id),\n",
    "                    commit_id=sha,\n",
    "                    dateFetched=fetchedDatetime_d,\n",
    "                    dateModified=result.dateModified_d,\n",
    "                    commentCount=int(result.commentCount)\n",
    "                )\n",
    "        elif isinstance(result, QuestionBriefInfo):\n",
    "            question_id = result.question_id\n",
    "            filename = self.get_question_filename(question_id)\n",
    "            file_content = result.to_markdown_()\n",
    "            to_update = False\n",
    "            head = db.get_git_head()\n",
    "            if db.has_question(question_id):\n",
    "                # commit and make a new version\n",
    "                to_update = git_operator.file_diff_with_version(\n",
    "                    file_content=file_content,\n",
    "                    sha=head\n",
    "                )\n",
    "            else: \n",
    "                db.add_question(\n",
    "                    question_id=int(question_id),\n",
    "                    dateCreated=result.dateCreate_d\n",
    "                    # FIXME: author id\n",
    "                )\n",
    "                to_update = True\n",
    "            if to_update:\n",
    "                fetchedDatetime_d = datetime.datetime.now()\n",
    "                with open(\n",
    "                    git_operator.get_full_name(filename),\n",
    "                    \"w\"\n",
    "                ) as f:\n",
    "                    f.write(file_content)\n",
    "                git_latest_commit = git_operator.commit_file(\n",
    "                    file_name=filename,\n",
    "                    message=\"..\",  # TODO\n",
    "                    modified_datetime=result.dateModified_d,\n",
    "                    fetched_datetime=fetchedDatetime_d,\n",
    "                    parent_sha=head\n",
    "                    # author = .., author_url=..\n",
    "                )\n",
    "                sha = git_latest_commit.hexsha # FIXME\n",
    "                db.update_git_head(sha=sha)\n",
    "                db.add_question_version(\n",
    "                    question_id=int(question_id),\n",
    "                    commit_id=sha,\n",
    "                    dateFetched=fetchedDatetime_d,\n",
    "                    dateModified=result.dateCreate_d,\n",
    "                    answerCount=int(result.answerCount)\n",
    "                )\n",
    "        else:\n",
    "            raise NotImplementedError"
   ]
  },
  {
   "cell_type": "code",
   "execution_count": 2,
   "id": "16ffb757-1ca3-4e8b-919f-81f9d489c8b9",
   "metadata": {},
   "outputs": [],
   "source": [
    "import yaml\n"
   ]
  },
  {
   "cell_type": "code",
   "execution_count": 5,
   "id": "46e71b8f-f413-4953-ad4b-6922e72e143c",
   "metadata": {},
   "outputs": [
    {
     "data": {
      "text/plain": [
       "\"'1': 1\\n'2': 2\\n\""
      ]
     },
     "execution_count": 5,
     "metadata": {},
     "output_type": "execute_result"
    }
   ],
   "source": [
    "test_dict = {\n",
    "    \"1\":1,\n",
    "    \"2\":2\n",
    "}\n",
    "yaml.dump(test_dict)"
   ]
  },
  {
   "cell_type": "code",
   "execution_count": 22,
   "id": "c778a341-8d37-4d08-9d20-cf3ab94549a9",
   "metadata": {},
   "outputs": [
    {
     "data": {
      "text/plain": [
       "<git.Head \"refs/heads/master\">"
      ]
     },
     "execution_count": 22,
     "metadata": {},
     "output_type": "execute_result"
    }
   ],
   "source": [
    "test_repo.active_branch"
   ]
  },
  {
   "cell_type": "code",
   "execution_count": 41,
   "id": "832b3e47-a202-48c8-a59f-72831aa8a024",
   "metadata": {},
   "outputs": [
    {
     "data": {
      "text/plain": [
       "[<git.Commit \"f97d3c09c7583841429d861be772d1d0c00d5a58\">]"
      ]
     },
     "execution_count": 41,
     "metadata": {},
     "output_type": "execute_result"
    }
   ],
   "source": [
    "list(test_repo.iter_commits(\"master\"))"
   ]
  },
  {
   "cell_type": "code",
   "execution_count": 143,
   "id": "bd57b4d2-9463-43b6-8f76-167726767bfd",
   "metadata": {},
   "outputs": [],
   "source": [
    "c = test_repo.head.commit"
   ]
  },
  {
   "cell_type": "code",
   "execution_count": 111,
   "id": "ddeb1164-ff48-497c-85bd-32a328d04ead",
   "metadata": {},
   "outputs": [
    {
     "data": {
      "text/plain": [
       "git.objects.commit.Commit"
      ]
     },
     "execution_count": 111,
     "metadata": {},
     "output_type": "execute_result"
    }
   ],
   "source": [
    "type(c)"
   ]
  },
  {
   "cell_type": "code",
   "execution_count": 92,
   "id": "e7e78587-9165-4046-9f63-b25163380e82",
   "metadata": {},
   "outputs": [],
   "source": [
    "from git import *\n",
    "from time import (time, altzone)\n",
    "import datetime\n",
    "# from cStringIO import StringIO\n",
    "from gitdb import IStream\n",
    "\n",
    "repo = test_repo\n",
    "\n",
    "message = 'Commit message'\n",
    "\n",
    "tree = repo.index.write_tree()\n",
    "parents = [ repo.head.commit ]\n",
    "\n",
    "# Committer and Author\n",
    "cr = repo.config_reader()\n",
    "committer = Actor.committer(cr)\n",
    "author = Actor.author(cr)\n",
    "\n",
    "# Custom Date\n",
    "time = int(datetime.date(2013, 1, 1).strftime('%s'))\n",
    "offset = altzone\n",
    "author_time, author_offset = time, offset\n",
    "committer_time, committer_offset = time, offset\n",
    "\n",
    "# UTF-8 Default\n",
    "conf_encoding = 'UTF-8'\n",
    "\n",
    "comm = Commit(repo, Commit.NULL_BIN_SHA, tree, \n",
    "      author, author_time, author_offset, \n",
    "      committer, committer_time, committer_offset,\n",
    "      message, parents, conf_encoding)"
   ]
  },
  {
   "cell_type": "code",
   "execution_count": 94,
   "id": "77f45393-a607-4454-a00b-5c434fc47237",
   "metadata": {},
   "outputs": [
    {
     "data": {
      "text/plain": [
       "<git.HEAD \"HEAD\">"
      ]
     },
     "execution_count": 94,
     "metadata": {},
     "output_type": "execute_result"
    }
   ],
   "source": [
    "repo.head.set_commit(comm, logmsg=\"commit: %s\" % message)"
   ]
  },
  {
   "cell_type": "code",
   "execution_count": 83,
   "id": "ccf6e5f5-a2e5-4677-8cce-001899a075d5",
   "metadata": {},
   "outputs": [
    {
     "data": {
      "text/plain": [
       "[<git.Commit \"f97d3c09c7583841429d861be772d1d0c00d5a58\">]"
      ]
     },
     "execution_count": 83,
     "metadata": {},
     "output_type": "execute_result"
    }
   ],
   "source": []
  },
  {
   "cell_type": "code",
   "execution_count": 48,
   "id": "17479663-c21c-4d0c-bc6b-5e749f43fb72",
   "metadata": {},
   "outputs": [],
   "source": [
    "\n",
    "\n",
    "def init_database_file(\n",
    "    db_file:str\n",
    "):\n",
    "    pass\n",
    "\n"
   ]
  },
  {
   "cell_type": "code",
   "execution_count": 49,
   "id": "b8e480e9-ec3a-47f9-a939-8b93655346fc",
   "metadata": {},
   "outputs": [],
   "source": [
    "if True:\n",
    "    def create_connection(db_file):\n",
    "        \"\"\" create a database connection to a SQLite database \"\"\"\n",
    "        conn = None\n",
    "        try:\n",
    "            conn = sqlite3.connect(db_file)\n",
    "            print(sqlite3.version)\n",
    "        except Error as e:\n",
    "            print(e)\n",
    "        finally:\n",
    "            if conn:\n",
    "                conn.close()\n",
    "else:\n",
    "    def create_connection():\n",
    "        \"\"\" create a database connection to a database that resides\n",
    "            in the memory\n",
    "        \"\"\"\n",
    "        conn = None;\n",
    "        try:\n",
    "            conn = sqlite3.connect(':memory:')\n",
    "            print(sqlite3.version)\n",
    "        except Error as e:\n",
    "            print(e)\n",
    "        finally:\n",
    "            if conn:\n",
    "                conn.close()"
   ]
  },
  {
   "cell_type": "code",
   "execution_count": 16,
   "id": "99ff957d-e82c-4908-855a-39a4e840b82d",
   "metadata": {},
   "outputs": [],
   "source": [
    "import datetime\n",
    "import sqlite3\n",
    "from sqlite3 import Error\n",
    "# answer_table:\n",
    "title_4_answer_table = \"Answers\"\n",
    "title_4_question_table = \"Questions\"\n",
    "title_4_comment_table = \"Comments\"\n",
    "query_create_answer_table = f\"\"\"\n",
    "CREATE TABLE IF NOT EXISTS {title_4_answer_table} (\n",
    "    id integer PRIMARY KEY,\n",
    "    authorId integer,\n",
    "    questionId integer NOT NULL,\n",
    "    dateCreated text\n",
    "    )\n",
    "\"\"\"\n",
    "query_create_answer_vcs_table = f\"\"\"\n",
    "CREATE TABLE IF NOT EXISTS {title_4_answer_table}VCS (\n",
    "    commitId text PRIMARY KEY,\n",
    "    answerId interger NOT NULL,\n",
    "    dateFetched text,\n",
    "    dateModified text\n",
    "    commentCount integer\n",
    "    )\n",
    "\"\"\"\n",
    "query_create_question_table = f\"\"\"\n",
    "CREATE TABLE IF NOT EXISTS {title_4_question_table} (\n",
    "    id integer PRIMARY KEY,\n",
    "    authorId integer,\n",
    "    dateCreated text, \n",
    "    )\n",
    "\"\"\"\n",
    "query_create_question_vcs_table = f\"\"\"\n",
    "CREATE TABLE IF NOT EXISTS {title_4_question_table}VCS (\n",
    "    commitId text PRIMARY KEY,\n",
    "    questionId interger NOT NULL,\n",
    "    dateFetched text,\n",
    "    dateModified text,\n",
    "    answerCount integer\n",
    "    )\n",
    "\"\"\"\n",
    "# create a table named GitHead\n",
    "# to maintain the current head\n",
    "# of git repository, sha of \n",
    "# which is stored;\n",
    "# This table aims to prevent\n",
    "# unexpected effects caused by\n",
    "# manual git operations\n",
    "query_create_head_table = f\"\"\"\n",
    "CREATE TABLE GitHead (\n",
    "    id INTEGER PRIMARY KEY CHECK (id = 0),\n",
    "    sha text\n",
    ");\n",
    "CREATE TRIGGER git_head_no_insert\n",
    "BEFORE INSERT ON GitHead\n",
    "WHEN (SELECT COUNT(*) FROM GitHead) >= 1   -- limit here\n",
    "BEGIN\n",
    "    SELECT RAISE(FAIL, 'only one row!');\n",
    "END;\n",
    "\"\"\"\n",
    "def init_database_tables(\n",
    "    conn: sqlite3.Connection\n",
    ") -> int:\n",
    "    # TODO: create database file,\n",
    "    # assert that file does not exist\n",
    "    # if forced create: overwrite=True\n",
    "    try: \n",
    "        c = conn.cursor()\n",
    "        c.execute(query_create_question_table)\n",
    "        c.execute(query_create_answer_vcs_table)\n",
    "        c.execute(query_create_answer_table)\n",
    "        c.execute(query_create_question_vcs_table)\n",
    "        c.executescript(query_create_head_table)\n",
    "        conn.commit()\n",
    "        return 0\n",
    "    except Error as e:\n",
    "        print(e)\n",
    "        return -1\n",
    "    \n",
    "\n",
    "\n",
    "class DataBase:\n",
    "    @staticmethod\n",
    "    def init_database(\n",
    "        db_file:str\n",
    "    ):\n",
    "        conn = None;\n",
    "        \"\"\" create a database connection to a SQLite database \"\"\"\n",
    "        conn = None\n",
    "        try:\n",
    "            conn = sqlite3.connect(db_file)\n",
    "            print(sqlite3.version)\n",
    "            init_database_tables(conn)\n",
    "        except Error as e:\n",
    "            print(e)\n",
    "        finally:\n",
    "            if conn:\n",
    "                conn.close()\n",
    "        \n",
    "    def __init__(\n",
    "        self,\n",
    "        db_file:str\n",
    "    ):\n",
    "        self.db_file = db_file\n",
    "        \n",
    "    def __start__(self):\n",
    "        self.conn = sqlite3.connect(self.db_file)\n",
    "        \n",
    "    def __exit__(self):\n",
    "        self.conn.close()\n",
    "    \n",
    "    def get_git_head(self) -> str:\n",
    "        c = self.conn.cursor()\n",
    "        result = c.execute(\"\"\"\n",
    "        SELECT sha\n",
    "        FROM GitHead\n",
    "        \"\"\")\n",
    "        l = list(result)\n",
    "        return l[0][0]\n",
    "    \n",
    "    def update_git_head(self, sha:str):    \n",
    "        c = self.conn.cursor()\n",
    "        if is_empty(c,\"GitHead\"):\n",
    "            c.execute(f\"\"\"\n",
    "            INSERT INTO GitHead\n",
    "            (id, sha)\n",
    "            VALUES (0,'{sha}')\n",
    "            \"\"\")\n",
    "        else:\n",
    "            c.execute(f\"\"\"\n",
    "            UPDATE GitHead\n",
    "            SET sha = '{sha}'\n",
    "            WHERE id==0\n",
    "            \"\"\")\n",
    "        self.conn.commit()\n",
    "    \n",
    "    def has_answer(self, answer_id:str) -> bool:\n",
    "        c = self.conn.cursor()\n",
    "        return is_empty(\n",
    "            c, title_4_answer_table,\n",
    "            condition=f\"WHERE answerId=={answer_id}\"\n",
    "        )\n",
    "    \n",
    "    def has_question(self, question_id:str) -> bool:\n",
    "        c = self.conn.cursor()\n",
    "        return is_empty(\n",
    "            c, title_4_question_table,\n",
    "            condition=f\"WHERE questionId=={question_id}\"\n",
    "        )\n",
    "    \n",
    "    def _date2str(self, d:datetime.datetime) -> str:\n",
    "        #FIXME\n",
    "        return str(d)\n",
    "    \n",
    "    def add_answer(\n",
    "        self, answer_id: int, \n",
    "        dateCreated:datetime.datetime, \n",
    "        question_id: str, author_id = \"NULL\", #FIXME\n",
    "    ):\n",
    "        c = self.conn.cursor()\n",
    "        dateCreated_s = self._date2str(dateCreated)\n",
    "        c.executescript(f\"\"\"\n",
    "        INSERT INTO {title_4_answer_table}\n",
    "        (id, authorId, questionId, dateCreated)\n",
    "        VALUES \n",
    "        ({answer_id}, {author_id}, \n",
    "        {question_id}, '{dateCreated_s}')\n",
    "        \"\"\")\n",
    "        self.conn.commit()\n",
    "        \n",
    "    \n",
    "    def add_question(\n",
    "        self, \n",
    "        dateCreated: datetime.datetime,\n",
    "        question_id: int,\n",
    "        author_id =\"NULL\", #FIXME\n",
    "    ):\n",
    "        c = self.conn.cursor()\n",
    "        dateCreated_s = self._date2str(dateCreated)\n",
    "        c.executescript(f\"\"\"\n",
    "        INSERT INTO {title_4_question_table}\n",
    "        (id, authorId, dateCreated)\n",
    "        VALUES ({question_id}, {author_id}, '{dateCreated_s}')        \n",
    "        \"\"\")\n",
    "        self.conn.commit()\n",
    "        \n",
    "    \n",
    "    def add_answer_version(\n",
    "        self, \n",
    "        answer_id: int, commit_id:str, \n",
    "        dateFetched: datetime.datetime, \n",
    "        dateModified: datetime.datetime,\n",
    "        commentCount:int\n",
    "    ):\n",
    "                      #  dateFetched, dateModified, \n",
    "        c = self.conn.cursor()\n",
    "        dateFetched_s = self._date2str(dateFetched)\n",
    "        dateModified_s = self._date2str(dateModified)\n",
    "        c.executescript(f\"\"\"\n",
    "        INSERT INTO {title_4_answer_table}VCS\n",
    "        (commitId, answerId, \n",
    "        dateFetched, dateModified,\n",
    "        commentCount)\n",
    "        VALUES\n",
    "        ('{commit_id}',{answer_id},\n",
    "        '{dateFetched_s}','{dateModified_s}',\n",
    "        {commentCount})\"\"\")\n",
    "        self.conn.commit()\n",
    "        \n",
    "                        \n",
    "    \n",
    "    def add_question_version(\n",
    "        self,\n",
    "        question_id:int, commit_id:str,\n",
    "        dateFetched:datetime.datetime, \n",
    "        dateModified:datetime.datetime,\n",
    "        answerCount:int\n",
    "    ):\n",
    "        c = self.conn.cursor()\n",
    "        dateFetched_s = self._date2str(dateFetched)\n",
    "        dateModified_s = self._date2str(dateModified)\n",
    "        c.executescript(f\"\"\"\n",
    "        INSERT INTO {title_4_question_table}VCS\n",
    "        (commitId, questionId,\n",
    "        dateFetched, dateModified,\n",
    "        answerCount)\n",
    "        VALUES\n",
    "        ('{commit_id}', {answer_id},\n",
    "        '{dateFetched_s}', '{dateModified_s}'\n",
    "        {answerCount})\"\"\")\n",
    "        self.conn.commit()"
   ]
  },
  {
   "cell_type": "code",
   "execution_count": 86,
   "id": "1706a2b3-7f88-447b-82ec-f5e8f6fdfb25",
   "metadata": {},
   "outputs": [],
   "source": [
    "from util.repo import database_root"
   ]
  },
  {
   "cell_type": "code",
   "execution_count": 89,
   "id": "c0df58f1-57cb-4a70-b62c-d654ed3cc15a",
   "metadata": {},
   "outputs": [
    {
     "name": "stdout",
     "output_type": "stream",
     "text": [
      "2.6.0\n",
      "[('table', 'Questions', 'Questions', 2, 'CREATE TABLE Questions (\\n    id integer PRIMARY KEY,\\n    authorId integer\\n    )'), ('table', 'AnswersVCS', 'AnswersVCS', 3, 'CREATE TABLE AnswersVCS (\\n    commitId text PRIMARY KEY,\\n    answerId interger NOT NULL,\\n    dateFetched text,\\n    dateAmended text,\\n    contentDiff text\\n    )'), ('table', 'Answers', 'Answers', 5, 'CREATE TABLE Answers (\\n    id integer PRIMARY KEY,\\n    authorId integer,\\n    questionId integer NOT NULL,\\n    content text\\n    )'), ('table', 'QuestionsVCS', 'QuestionsVCS', 6, 'CREATE TABLE QuestionsVCS (\\n    commitId text PRIMARY KEY,\\n    questionId interger NOT NULL,\\n    dateFetched text,\\n    dateAmended text,\\n    titleDiff text,\\n    contentDiff text\\n    )'), ('table', 'GitHead', 'GitHead', 8, 'CREATE TABLE GitHead (\\n    id INTEGER PRIMARY KEY CHECK (id = 0),\\n    sha text\\n)')]\n"
     ]
    }
   ],
   "source": [
    "db_test_1 = os.path.join(database_root,\"test.1.db\")\n",
    "if os.path.exists(db_test_1):\n",
    "    os.remove(db_test_1)\n",
    "DataBase.init_database(db_test_1)"
   ]
  },
  {
   "cell_type": "code",
   "execution_count": 112,
   "id": "7eb63af8-84d0-4d9c-82af-8c3b4e8b9d94",
   "metadata": {},
   "outputs": [],
   "source": [
    "conn = sqlite3.connect(db_test_1)\n",
    "c = conn.cursor()"
   ]
  },
  {
   "cell_type": "code",
   "execution_count": 141,
   "id": "59fd3013-206c-4978-a6a9-6b1d58414d8c",
   "metadata": {},
   "outputs": [],
   "source": []
  },
  {
   "cell_type": "code",
   "execution_count": 114,
   "id": "25f6a66c-b625-4070-b8cc-72036db196b3",
   "metadata": {},
   "outputs": [],
   "source": [
    "\n",
    "_ = c.execute(\"SELECT * FROM sqlite_master WHERE type='table'\")"
   ]
  },
  {
   "cell_type": "code",
   "execution_count": 146,
   "id": "2f938f2e-137d-421e-a983-e9ba34901055",
   "metadata": {},
   "outputs": [],
   "source": []
  },
  {
   "cell_type": "code",
   "execution_count": 147,
   "id": "4436381b-1c82-4e48-b978-10f8c8e9650a",
   "metadata": {},
   "outputs": [
    {
     "data": {
      "text/plain": [
       "[('asda',)]"
      ]
     },
     "execution_count": 147,
     "metadata": {},
     "output_type": "execute_result"
    }
   ],
   "source": [
    "list(_)"
   ]
  },
  {
   "cell_type": "code",
   "execution_count": 145,
   "id": "7f136abe-b91f-4d6f-b2a2-77613aba22e5",
   "metadata": {},
   "outputs": [],
   "source": [
    "def is_empty(cursor, table:str, condition:str='') -> bool:\n",
    "    # condition: empty or begin with \"WHERE\"\n",
    "    result = cursor.execute(f\"SELECT EXISTS (SELECT 1 FROM {table} {condition});\")\n",
    "    l = list(_)\n",
    "    return l[0][0] == 0 \n",
    "\n"
   ]
  },
  {
   "cell_type": "code",
   "execution_count": 133,
   "id": "d1280bc3-3d60-4b81-9e15-4ab926c129d7",
   "metadata": {},
   "outputs": [],
   "source": []
  },
  {
   "cell_type": "code",
   "execution_count": 136,
   "id": "8d9d8c12-e15e-4658-ba86-46ada57e5abe",
   "metadata": {},
   "outputs": [
    {
     "data": {
      "text/plain": [
       "False"
      ]
     },
     "execution_count": 136,
     "metadata": {},
     "output_type": "execute_result"
    }
   ],
   "source": [
    "is_empty(c, \"GitHead\")"
   ]
  },
  {
   "cell_type": "code",
   "execution_count": 139,
   "id": "628acd10-4bc8-40d6-a987-7cfa16328c2c",
   "metadata": {},
   "outputs": [],
   "source": [
    "result = c.execute(f\"SELECT EXISTS (SELECT 1 FROM GitHead);\")\n",
    "l = list(_)"
   ]
  },
  {
   "cell_type": "code",
   "execution_count": 140,
   "id": "1acbe859-03d9-4c15-98ea-3deb6cf42989",
   "metadata": {},
   "outputs": [
    {
     "data": {
      "text/plain": [
       "[(1,)]"
      ]
     },
     "execution_count": 140,
     "metadata": {},
     "output_type": "execute_result"
    }
   ],
   "source": []
  },
  {
   "cell_type": "code",
   "execution_count": null,
   "id": "08ece090-0223-49a3-b517-8cb52d377e70",
   "metadata": {},
   "outputs": [],
   "source": []
  }
 ],
 "metadata": {
  "kernelspec": {
   "display_name": "web",
   "language": "python",
   "name": "web"
  },
  "language_info": {
   "codemirror_mode": {
    "name": "ipython",
    "version": 3
   },
   "file_extension": ".py",
   "mimetype": "text/x-python",
   "name": "python",
   "nbconvert_exporter": "python",
   "pygments_lexer": "ipython3",
   "version": "3.9.18"
  }
 },
 "nbformat": 4,
 "nbformat_minor": 5
}
