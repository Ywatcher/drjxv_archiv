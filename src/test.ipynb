{
 "cells": [
  {
   "cell_type": "code",
   "execution_count": null,
   "outputs": [],
   "source": [
    "from urllib.request import urlopen\n",
    "from typing import List\n",
    "\n",
    "# 导入BeautifulSoup\n",
    "from bs4 import BeautifulSoup as bf\n",
    "from bs4.element import Tag\n",
    "from test import zhihu_question_url, zhihu_answer_url\n",
    "\n",
    "\n",
    "# 导入urllib库的urlopen函数\n",
    "\n",
    "# 发出请求，获取html\n",
    "# url = \"https://www.baidu.com/\"\n",
    "url = zhihu_question_url(20785173)\n",
    "html = urlopen(url)\n",
    "# 获取的html内容是字节，将其转化为字符串\n",
    "html_text = bytes.decode(html.read())\n",
    "# 打印html内容\n",
    "# print(html_text)\n",
    "\n",
    "# 请求获取HTML\n",
    "\n",
    "# 用BeautifulSoup解析html\n",
    "obj = bf(html_text, 'html.parser')\n",
    "\n",
    "# 从标签head、title里提取标题\n"
   ],
   "metadata": {
    "collapsed": false,
    "pycharm": {
     "name": "#%%\n"
    }
   }
  },
  {
   "cell_type": "code",
   "execution_count": null,
   "outputs": [],
   "source": [
    "class Author:\n",
    "    pass\n",
    "class Answer:\n",
    "    def __init__(\n",
    "        self, \n",
    "        data_za_index:int,\n",
    "        author_name:str,\n",
    "        answer_id:int,\n",
    "        itemprop: str,\n",
    "        meta:List[Tag],\n",
    "        content=None,\n",
    "        comments=None\n",
    "    ):\n",
    "        self.data_za_index = data_za_index\n",
    "        self.author_name = author_name\n",
    "        self.answer_id = answer_id\n",
    "        self.itemprop = itemprop\n",
    "        self.content = content\n",
    "        self.comments = comments\n",
    "        self.meta = meta\n",
    "        \n",
    "    def get_content_and_comment(self):\n",
    "        url = zhihu_answe\n",
    "        pass"
   ],
   "metadata": {
    "collapsed": false,
    "pycharm": {
     "name": "#%%\n"
    }
   }
  },
  {
   "cell_type": "code",
   "execution_count": null,
   "outputs": [],
   "source": [
    "title = obj.head.title\n",
    "# 打印标题\n",
    "print(title)\n",
    "answers = obj.find_all('div',class_=\"ContentItem AnswerItem\")"
   ],
   "metadata": {
    "collapsed": false,
    "pycharm": {
     "name": "#%%\n"
    }
   }
  },
  {
   "cell_type": "code",
   "execution_count": null,
   "outputs": [],
   "source": [
    "def parse_answer_block_from_question(answer:Tag):\n",
    "    index = answer.get(\"data-za-index\")\n",
    "    data_zop_dict = ast.literal_eval(answers[0].get(\"data-zop\"))\n",
    "    author_name = data_zop_dict[\"authorName\"]\n",
    "    answer_id = data_zop_dict[\"itemId\"]\n",
    "    itemprop = answer.get(\"itemprop\")\n",
    "    meta = answer.find_all(\"meta\") \n",
    "    return Answer(\n",
    "        data_za_index=index,\n",
    "        author_name=author_name,\n",
    "        answer_id=answer_id,\n",
    "        itemprop=itemprop,\n",
    "        meta= meta,\n",
    "    )\n",
    "    \n",
    "    \n"
   ],
   "metadata": {
    "collapsed": false,
    "pycharm": {
     "name": "#%%\n"
    }
   }
  },
  {
   "cell_type": "code",
   "execution_count": null,
   "outputs": [],
   "source": [
    "import ast\n",
    "d = "
   ],
   "metadata": {
    "collapsed": false,
    "pycharm": {
     "name": "#%%\n"
    }
   }
  },
  {
   "cell_type": "code",
   "execution_count": null,
   "outputs": [],
   "source": [
    "type(d)"
   ],
   "metadata": {
    "collapsed": false,
    "pycharm": {
     "name": "#%%\n"
    }
   }
  },
  {
   "cell_type": "code",
   "execution_count": null,
   "outputs": [],
   "source": [],
   "metadata": {
    "collapsed": false,
    "pycharm": {
     "name": "#%%\n"
    }
   }
  },
  {
   "cell_type": "code",
   "execution_count": null,
   "outputs": [],
   "source": [
    "answers[0]"
   ],
   "metadata": {
    "collapsed": false,
    "pycharm": {
     "name": "#%%\n"
    }
   }
  },
  {
   "cell_type": "code",
   "execution_count": 56,
   "metadata": {},
   "outputs": [
    {
     "data": {
      "text/plain": [
       "[<meta content=\"知乎用户\" itemprop=\"name\"/>,\n",
       " <meta content=\"https://pic1.zhimg.com/v2-abed1a8c04700ba7d72b45195223e0ff_l.jpg?source=1940ef5c\" itemprop=\"image\"/>,\n",
       " <meta content=\"https://www.zhihu.com/people/\" itemprop=\"url\"/>,\n",
       " <meta content=\"12756\" itemprop=\"zhihu:followerCount\"/>,\n",
       " <meta itemprop=\"image\"/>,\n",
       " <meta content=\"7\" itemprop=\"upvoteCount\"/>,\n",
       " <meta content=\"https://www.zhihu.com/question/20785173/answer/16171216\" itemprop=\"url\"/>,\n",
       " <meta content=\"2013-02-18T10:59:45.000Z\" itemprop=\"dateCreated\"/>,\n",
       " <meta content=\"2017-06-09T09:32:40.000Z\" itemprop=\"dateModified\"/>,\n",
       " <meta content=\"1\" itemprop=\"commentCount\"/>]"
      ]
     },
     "execution_count": 56,
     "metadata": {},
     "output_type": "execute_result"
    }
   ],
   "source": [
    "answers[0]"
   ]
  },
  {
   "cell_type": "code",
   "execution_count": null,
   "metadata": {},
   "outputs": [],
   "source": []
  }
 ],
 "metadata": {
  "kernelspec": {
   "display_name": "web",
   "language": "python",
   "name": "web"
  },
  "language_info": {
   "codemirror_mode": {
    "name": "ipython",
    "version": 3
   },
   "file_extension": ".py",
   "mimetype": "text/x-python",
   "name": "python",
   "nbconvert_exporter": "python",
   "pygments_lexer": "ipython3",
   "version": "3.9.16"
  }
 },
 "nbformat": 4,
 "nbformat_minor": 4
}