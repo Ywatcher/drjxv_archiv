{
 "cells": [
  {
   "cell_type": "code",
   "execution_count": 1,
   "id": "e7f1e03c-4f48-4b2e-a0f6-fea98f25bfb2",
   "metadata": {},
   "outputs": [],
   "source": [
    "from selenium import webdriver\n",
    "# from selenium.webdriver.chrome.options import Options, ChromiumOptions"
   ]
  },
  {
   "cell_type": "code",
   "execution_count": 2,
   "id": "acbf7362-6e7b-41e0-bd02-badf8e69747b",
   "metadata": {},
   "outputs": [],
   "source": [
    "from pathlib import Path\n",
    "import os"
   ]
  },
  {
   "cell_type": "code",
   "execution_count": 3,
   "id": "03770de3-1826-444d-9bed-05e0b87d0118",
   "metadata": {},
   "outputs": [],
   "source": [
    "from util.repo import database_root, root, driver_root\n",
    "db_test = os.path.join(database_root, \"test.db\")"
   ]
  },
  {
   "cell_type": "code",
   "execution_count": 14,
   "id": "49f6d494-bc62-4893-b84b-3927511f7ef9",
   "metadata": {},
   "outputs": [],
   "source": [
    "# root = \"/media/ywatcher/ExtDisk1/Files/py/archiv\"\n",
    "driver_root = os.path.join(root, \"driver\")\n",
    "drivers = {\n",
    "    \"chrome\" : os.path.join(\n",
    "        # driver_root, \n",
    "        \"chromedriver-linux64\",\n",
    "        # \"/home/ywatcher/.cache/selenium/chromedriver/linux64/118.0.5993.70\",\n",
    "        \"chromedriver\"),\n",
    "        \n",
    "    \"firefox\" : os.path.join(\n",
    "        driver_root, \"geckodriver-v0.33.0-linux64\", \"geckodriver\"),\n",
    "    \"edge\": os.path.join(\n",
    "        driver_root, \"edgedriver_linux64\", \"msedgedriver\")\n",
    "}\n",
    "# get drivers from https://googlechromelabs.github.io/chrome-for-testing/"
   ]
  },
  {
   "cell_type": "code",
   "execution_count": 15,
   "id": "951b7a44-1791-4876-9ad7-538b96b736e9",
   "metadata": {},
   "outputs": [
    {
     "name": "stdout",
     "output_type": "stream",
     "text": [
      "False\n",
      "False\n"
     ]
    }
   ],
   "source": [
    "t = \"chrome\"\n",
    "# t = \"firefox\"\n",
    "# t = \"edge\"\n",
    "print(os.path.exists(drivers[t]))\n",
    "print(Path(drivers[t]).is_file())"
   ]
  },
  {
   "cell_type": "code",
   "execution_count": 42,
   "id": "1723b253-5ec5-4b25-9cf1-5d953bc011fb",
   "metadata": {},
   "outputs": [
    {
     "name": "stdout",
     "output_type": "stream",
     "text": [
      "/home/ywatcher/.cache/selenium/chromedriver/linux64/118.0.5993.70chromedriver\n"
     ]
    }
   ],
   "source": [
    "print(drivers[t])"
   ]
  },
  {
   "cell_type": "code",
   "execution_count": 20,
   "id": "f17db5ff-4b51-458c-987d-796aa729b7ea",
   "metadata": {
    "tags": []
   },
   "outputs": [
    {
     "name": "stdout",
     "output_type": "stream",
     "text": [
      "/media/ywatcher/ExtDisk1/Files/Packages/web_archiv/driver/chromedriver-linux64/chromedriver\n"
     ]
    },
    {
     "data": {
      "text/plain": [
       "'/media/ywatcher/ExtDisk1/Files/Packages/web_archiv/driver/chromedriver-linux64/chromedriver'"
      ]
     },
     "execution_count": 20,
     "metadata": {},
     "output_type": "execute_result"
    }
   ],
   "source": [
    "# from selenium.webdriver.common.driver_finder import DriverFinder\n",
    "# from selenium.webdriver.common.service import Service\n",
    "service = None  #Service()\n",
    "\n",
    "_DriverFinder.get_path(service, options)"
   ]
  },
  {
   "cell_type": "code",
   "execution_count": 7,
   "id": "ec02c67c-0443-4ce4-aebd-8731e2f1db83",
   "metadata": {},
   "outputs": [],
   "source": [
    "from selenium.webdriver.common.selenium_manager import SeleniumManager "
   ]
  },
  {
   "cell_type": "code",
   "execution_count": 8,
   "id": "c1e4a7be-531f-4257-87a4-368961ce81c6",
   "metadata": {},
   "outputs": [
    {
     "ename": "NameError",
     "evalue": "name 'options' is not defined",
     "output_type": "error",
     "traceback": [
      "\u001b[0;31m---------------------------------------------------------------------------\u001b[0m",
      "\u001b[0;31mNameError\u001b[0m                                 Traceback (most recent call last)",
      "Cell \u001b[0;32mIn[8], line 1\u001b[0m\n\u001b[0;32m----> 1\u001b[0m SeleniumManager()\u001b[38;5;241m.\u001b[39mdriver_location(\u001b[43moptions\u001b[49m)\n",
      "\u001b[0;31mNameError\u001b[0m: name 'options' is not defined"
     ]
    }
   ],
   "source": [
    "SeleniumManager().driver_location(options)"
   ]
  },
  {
   "cell_type": "code",
   "execution_count": 5,
   "id": "7a978de9-1b09-40d5-9cbd-a286832cd7ae",
   "metadata": {
    "jupyter": {
     "source_hidden": true
    },
    "tags": []
   },
   "outputs": [
    {
     "ename": "NameError",
     "evalue": "name 'Options' is not defined",
     "output_type": "error",
     "traceback": [
      "\u001b[0;31m---------------------------------------------------------------------------\u001b[0m",
      "\u001b[0;31mNameError\u001b[0m                                 Traceback (most recent call last)",
      "Cell \u001b[0;32mIn[5], line 231\u001b[0m\n\u001b[1;32m    227\u001b[0m             \u001b[38;5;28mself\u001b[39m\u001b[38;5;241m.\u001b[39mservice\u001b[38;5;241m.\u001b[39mstop()\n\u001b[1;32m    228\u001b[0m \u001b[38;5;28;01mfrom\u001b[39;00m \u001b[38;5;21;01mselenium\u001b[39;00m\u001b[38;5;21;01m.\u001b[39;00m\u001b[38;5;21;01mwebdriver\u001b[39;00m\u001b[38;5;21;01m.\u001b[39;00m\u001b[38;5;21;01mcommon\u001b[39;00m\u001b[38;5;21;01m.\u001b[39;00m\u001b[38;5;21;01mdesired_capabilities\u001b[39;00m \u001b[38;5;28;01mimport\u001b[39;00m DesiredCapabilities\n\u001b[0;32m--> 231\u001b[0m \u001b[38;5;28;01mclass\u001b[39;00m \u001b[38;5;21;01mWebDriver\u001b[39;00m(ChromiumDriver):\n\u001b[1;32m    232\u001b[0m \u001b[38;5;250m    \u001b[39m\u001b[38;5;124;03m\"\"\"Controls the ChromeDriver and allows you to drive the browser.\"\"\"\u001b[39;00m\n\u001b[1;32m    234\u001b[0m     \u001b[38;5;28;01mdef\u001b[39;00m \u001b[38;5;21m__init__\u001b[39m(\n\u001b[1;32m    235\u001b[0m         \u001b[38;5;28mself\u001b[39m,\n\u001b[1;32m    236\u001b[0m         options: Options \u001b[38;5;241m=\u001b[39m \u001b[38;5;28;01mNone\u001b[39;00m,\n\u001b[1;32m    237\u001b[0m         service: Service \u001b[38;5;241m=\u001b[39m \u001b[38;5;28;01mNone\u001b[39;00m,\n\u001b[1;32m    238\u001b[0m         keep_alive: \u001b[38;5;28mbool\u001b[39m \u001b[38;5;241m=\u001b[39m \u001b[38;5;28;01mTrue\u001b[39;00m,\n\u001b[1;32m    239\u001b[0m     ) \u001b[38;5;241m-\u001b[39m\u001b[38;5;241m>\u001b[39m \u001b[38;5;28;01mNone\u001b[39;00m:\n",
      "Cell \u001b[0;32mIn[5], line 236\u001b[0m, in \u001b[0;36mWebDriver\u001b[0;34m()\u001b[0m\n\u001b[1;32m    231\u001b[0m \u001b[38;5;28;01mclass\u001b[39;00m \u001b[38;5;21;01mWebDriver\u001b[39;00m(ChromiumDriver):\n\u001b[1;32m    232\u001b[0m \u001b[38;5;250m    \u001b[39m\u001b[38;5;124;03m\"\"\"Controls the ChromeDriver and allows you to drive the browser.\"\"\"\u001b[39;00m\n\u001b[1;32m    234\u001b[0m     \u001b[38;5;28;01mdef\u001b[39;00m \u001b[38;5;21m__init__\u001b[39m(\n\u001b[1;32m    235\u001b[0m         \u001b[38;5;28mself\u001b[39m,\n\u001b[0;32m--> 236\u001b[0m         options: \u001b[43mOptions\u001b[49m \u001b[38;5;241m=\u001b[39m \u001b[38;5;28;01mNone\u001b[39;00m,\n\u001b[1;32m    237\u001b[0m         service: Service \u001b[38;5;241m=\u001b[39m \u001b[38;5;28;01mNone\u001b[39;00m,\n\u001b[1;32m    238\u001b[0m         keep_alive: \u001b[38;5;28mbool\u001b[39m \u001b[38;5;241m=\u001b[39m \u001b[38;5;28;01mTrue\u001b[39;00m,\n\u001b[1;32m    239\u001b[0m     ) \u001b[38;5;241m-\u001b[39m\u001b[38;5;241m>\u001b[39m \u001b[38;5;28;01mNone\u001b[39;00m:\n\u001b[1;32m    240\u001b[0m \u001b[38;5;250m        \u001b[39m\u001b[38;5;124;03m\"\"\"Creates a new instance of the chrome driver. Starts the service and\u001b[39;00m\n\u001b[1;32m    241\u001b[0m \u001b[38;5;124;03m        then creates new instance of chrome driver.\u001b[39;00m\n\u001b[1;32m    242\u001b[0m \n\u001b[0;32m   (...)\u001b[0m\n\u001b[1;32m    246\u001b[0m \u001b[38;5;124;03m         - keep_alive - Whether to configure ChromeRemoteConnection to use HTTP keep-alive.\u001b[39;00m\n\u001b[1;32m    247\u001b[0m \u001b[38;5;124;03m        \"\"\"\u001b[39;00m\n\u001b[1;32m    248\u001b[0m         service \u001b[38;5;241m=\u001b[39m service \u001b[38;5;28;01mif\u001b[39;00m service \u001b[38;5;28;01melse\u001b[39;00m Service()\n",
      "\u001b[0;31mNameError\u001b[0m: name 'Options' is not defined"
     ]
    }
   ],
   "source": [
    "import typing\n",
    "\n",
    "from selenium.types import SubprocessStdAlias\n",
    "from selenium.webdriver.chromium import service\n",
    "\n",
    "\n",
    "class Service(service.ChromiumService):\n",
    "    \"\"\"A Service class that is responsible for the starting and stopping of\n",
    "    `chromedriver`.\n",
    "\n",
    "    :param executable_path: install path of the chromedriver executable, defaults to `chromedriver`.\n",
    "    :param port: Port for the service to run on, defaults to 0 where the operating system will decide.\n",
    "    :param service_args: (Optional) List of args to be passed to the subprocess when launching the executable.\n",
    "    :param log_output: (Optional) int representation of STDOUT/DEVNULL, any IO instance or String path to file.\n",
    "    :param env: (Optional) Mapping of environment variables for the new process, defaults to `os.environ`.\n",
    "    \"\"\"\n",
    "\n",
    "    def __init__(\n",
    "        self,\n",
    "        executable_path=None,\n",
    "        port: int = 0,\n",
    "        service_args: typing.Optional[typing.List[str]] = None,\n",
    "        log_output: SubprocessStdAlias = None,\n",
    "        env: typing.Optional[typing.Mapping[str, str]] = None,\n",
    "        **kwargs,\n",
    "    ) -> None:\n",
    "        super().__init__(\n",
    "            executable_path=executable_path,\n",
    "            port=port,\n",
    "            service_args=service_args,\n",
    "            log_output=log_output,\n",
    "            env=env,\n",
    "            **kwargs,\n",
    "        )\n",
    "# Licensed to the Software Freedom Conservancy (SFC) under one\n",
    "# or more contributor license agreements.  See the NOTICE file\n",
    "# distributed with this work for additional information\n",
    "# regarding copyright ownership.  The SFC licenses this file\n",
    "# to you under the Apache License, Version 2.0 (the\n",
    "# \"License\"); you may not use this file except in compliance\n",
    "# with the License.  You may obtain a copy of the License at\n",
    "#\n",
    "#   http://www.apache.org/licenses/LICENSE-2.0\n",
    "#\n",
    "# Unless required by applicable law or agreed to in writing,\n",
    "# software distributed under the License is distributed on an\n",
    "# \"AS IS\" BASIS, WITHOUT WARRANTIES OR CONDITIONS OF ANY\n",
    "# KIND, either express or implied.  See the License for the\n",
    "# specific language governing permissions and limitations\n",
    "# under the License.\n",
    "\n",
    "from selenium.webdriver.chromium.remote_connection import ChromiumRemoteConnection\n",
    "# from selenium.webdriver.common.driver_finder import DriverFinder\n",
    "from selenium.webdriver.common.options import ArgOptions\n",
    "\n",
    "from selenium.webdriver.remote.webdriver import WebDriver as RemoteWebDriver\n",
    "\n",
    "\n",
    "class ChromiumDriver(RemoteWebDriver):\n",
    "    from selenium.webdriver.common.service import Service\n",
    "    \"\"\"Controls the WebDriver instance of ChromiumDriver and allows you to\n",
    "    drive the browser.\"\"\"\n",
    "\n",
    "    def __init__(\n",
    "        self,\n",
    "        browser_name,\n",
    "        vendor_prefix,\n",
    "        options: ArgOptions,\n",
    "        service: Service,\n",
    "        keep_alive=True,\n",
    "    ) -> None:\n",
    "        \"\"\"Creates a new WebDriver instance of the ChromiumDriver. Starts the\n",
    "        service and then creates new WebDriver instance of ChromiumDriver.\n",
    "\n",
    "        :Args:\n",
    "         - browser_name - Browser name used when matching capabilities.\n",
    "         - vendor_prefix - Company prefix to apply to vendor-specific WebDriver extension commands.\n",
    "         - options - this takes an instance of ChromiumOptions\n",
    "         - service - Service object for handling the browser driver if you need to pass extra details\n",
    "         - keep_alive - Whether to configure ChromiumRemoteConnection to use HTTP keep-alive.\n",
    "        \"\"\"\n",
    "        self.vendor_prefix = vendor_prefix\n",
    "\n",
    "        self.service = service\n",
    "\n",
    "        self.service.path = _DriverFinder.get_path(self.service, options)\n",
    "\n",
    "        self.service.start()\n",
    "\n",
    "        try:\n",
    "            super().__init__(\n",
    "                command_executor=ChromiumRemoteConnection(\n",
    "                    remote_server_addr=self.service.service_url,\n",
    "                    browser_name=browser_name,\n",
    "                    vendor_prefix=vendor_prefix,\n",
    "                    keep_alive=keep_alive,\n",
    "                    ignore_proxy=options._ignore_local_proxy,\n",
    "                ),\n",
    "                options=options,\n",
    "            )\n",
    "        except Exception:\n",
    "            self.quit()\n",
    "            raise\n",
    "        self._is_remote = False\n",
    "\n",
    "    def launch_app(self, id):\n",
    "        \"\"\"Launches Chromium app specified by id.\"\"\"\n",
    "        return self.execute(\"launchApp\", {\"id\": id})\n",
    "\n",
    "    def get_network_conditions(self):\n",
    "        \"\"\"Gets Chromium network emulation settings.\n",
    "\n",
    "        :Returns:     A dict. For example:     {'latency': 4,\n",
    "        'download_throughput': 2, 'upload_throughput': 2,     'offline':\n",
    "        False}\n",
    "        \"\"\"\n",
    "        return self.execute(\"getNetworkConditions\")[\"value\"]\n",
    "\n",
    "    def set_network_conditions(self, **network_conditions) -> None:\n",
    "        \"\"\"Sets Chromium network emulation settings.\n",
    "\n",
    "        :Args:\n",
    "         - network_conditions: A dict with conditions specification.\n",
    "\n",
    "        :Usage:\n",
    "            ::\n",
    "\n",
    "                driver.set_network_conditions(\n",
    "                    offline=False,\n",
    "                    latency=5,  # additional latency (ms)\n",
    "                    download_throughput=500 * 1024,  # maximal throughput\n",
    "                    upload_throughput=500 * 1024)  # maximal throughput\n",
    "\n",
    "            Note: 'throughput' can be used to set both (for download and upload).\n",
    "        \"\"\"\n",
    "        self.execute(\"setNetworkConditions\", {\"network_conditions\": network_conditions})\n",
    "\n",
    "    def delete_network_conditions(self) -> None:\n",
    "        \"\"\"Resets Chromium network emulation settings.\"\"\"\n",
    "        self.execute(\"deleteNetworkConditions\")\n",
    "\n",
    "    def set_permissions(self, name: str, value: str) -> None:\n",
    "        \"\"\"Sets Applicable Permission.\n",
    "\n",
    "        :Args:\n",
    "         - name: The item to set the permission on.\n",
    "         - value: The value to set on the item\n",
    "\n",
    "        :Usage:\n",
    "            ::\n",
    "\n",
    "                driver.set_permissions('clipboard-read', 'denied')\n",
    "        \"\"\"\n",
    "        self.execute(\"setPermissions\", {\"descriptor\": {\"name\": name}, \"state\": value})\n",
    "\n",
    "    def execute_cdp_cmd(self, cmd: str, cmd_args: dict):\n",
    "        \"\"\"Execute Chrome Devtools Protocol command and get returned result The\n",
    "        command and command args should follow chrome devtools protocol\n",
    "        domains/commands, refer to link\n",
    "        https://chromedevtools.github.io/devtools-protocol/\n",
    "\n",
    "        :Args:\n",
    "         - cmd: A str, command name\n",
    "         - cmd_args: A dict, command args. empty dict {} if there is no command args\n",
    "        :Usage:\n",
    "            ::\n",
    "\n",
    "                driver.execute_cdp_cmd('Network.getResponseBody', {'requestId': requestId})\n",
    "        :Returns:\n",
    "            A dict, empty dict {} if there is no result to return.\n",
    "            For example to getResponseBody:\n",
    "            {'base64Encoded': False, 'body': 'response body string'}\n",
    "        \"\"\"\n",
    "        return self.execute(\"executeCdpCommand\", {\"cmd\": cmd, \"params\": cmd_args})[\"value\"]\n",
    "\n",
    "    def get_sinks(self) -> list:\n",
    "        \"\"\":Returns: A list of sinks available for Cast.\"\"\"\n",
    "        return self.execute(\"getSinks\")[\"value\"]\n",
    "\n",
    "    def get_issue_message(self):\n",
    "        \"\"\":Returns: An error message when there is any issue in a Cast\n",
    "        session.\"\"\"\n",
    "        return self.execute(\"getIssueMessage\")[\"value\"]\n",
    "\n",
    "    def set_sink_to_use(self, sink_name: str) -> dict:\n",
    "        \"\"\"Sets a specific sink, using its name, as a Cast session receiver\n",
    "        target.\n",
    "\n",
    "        :Args:\n",
    "         - sink_name: Name of the sink to use as the target.\n",
    "        \"\"\"\n",
    "        return self.execute(\"setSinkToUse\", {\"sinkName\": sink_name})\n",
    "\n",
    "    def start_desktop_mirroring(self, sink_name: str) -> dict:\n",
    "        \"\"\"Starts a desktop mirroring session on a specific receiver target.\n",
    "\n",
    "        :Args:\n",
    "         - sink_name: Name of the sink to use as the target.\n",
    "        \"\"\"\n",
    "        return self.execute(\"startDesktopMirroring\", {\"sinkName\": sink_name})\n",
    "\n",
    "    def start_tab_mirroring(self, sink_name: str) -> dict:\n",
    "        \"\"\"Starts a tab mirroring session on a specific receiver target.\n",
    "\n",
    "        :Args:\n",
    "         - sink_name: Name of the sink to use as the target.\n",
    "        \"\"\"\n",
    "        return self.execute(\"startTabMirroring\", {\"sinkName\": sink_name})\n",
    "\n",
    "    def stop_casting(self, sink_name: str) -> dict:\n",
    "        \"\"\"Stops the existing Cast session on a specific receiver target.\n",
    "\n",
    "        :Args:\n",
    "         - sink_name: Name of the sink to stop the Cast session.\n",
    "        \"\"\"\n",
    "        return self.execute(\"stopCasting\", {\"sinkName\": sink_name})\n",
    "\n",
    "    def quit(self) -> None:\n",
    "        \"\"\"Closes the browser and shuts down the ChromiumDriver executable that\n",
    "        is started when starting the ChromiumDriver.\"\"\"\n",
    "        try:\n",
    "            super().quit()\n",
    "        except Exception:\n",
    "            # We don't care about the message because something probably has gone wrong\n",
    "            pass\n",
    "        finally:\n",
    "            self.service.stop()\n",
    "from selenium.webdriver.common.desired_capabilities import DesiredCapabilities\n",
    "\n",
    "\n",
    "class WebDriver(ChromiumDriver):\n",
    "    \"\"\"Controls the ChromeDriver and allows you to drive the browser.\"\"\"\n",
    "\n",
    "    def __init__(\n",
    "        self,\n",
    "        options: Options = None,\n",
    "        service: Service = None,\n",
    "        keep_alive: bool = True,\n",
    "    ) -> None:\n",
    "        \"\"\"Creates a new instance of the chrome driver. Starts the service and\n",
    "        then creates new instance of chrome driver.\n",
    "\n",
    "        :Args:\n",
    "         - options - this takes an instance of ChromeOptions\n",
    "         - service - Service object for handling the browser driver if you need to pass extra details\n",
    "         - keep_alive - Whether to configure ChromeRemoteConnection to use HTTP keep-alive.\n",
    "        \"\"\"\n",
    "        service = service if service else Service()\n",
    "        options = options if options else Options()\n",
    "\n",
    "        super().__init__(\n",
    "            DesiredCapabilities.CHROME[\"browserName\"],\n",
    "            \"goog\",\n",
    "            options,\n",
    "            service,\n",
    "            keep_alive,\n",
    "        )\n",
    "        \n",
    "import logging\n",
    "from pathlib import Path\n",
    "\n",
    "from selenium.common.exceptions import NoSuchDriverException\n",
    "from selenium.webdriver.common.options import BaseOptions\n",
    "from selenium.webdriver.common.selenium_manager import SeleniumManager\n",
    "from selenium.webdriver.common.service import Service\n",
    "\n",
    "logger = logging.getLogger(__name__)\n",
    "\n",
    "\n",
    "class _DriverFinder:\n",
    "    \"\"\"Utility to find if a given file is present and executable.\n",
    "\n",
    "    This implementation is still in beta, and may change.\n",
    "    \"\"\"\n",
    "\n",
    "    @staticmethod\n",
    "    def get_path(service: Service, options: BaseOptions) -> str:\n",
    "        path = service.path\n",
    "        # path = None\n",
    "        try:\n",
    "            path = SeleniumManager().driver_location(options) if path is None else path\n",
    "            print(path)\n",
    "        except Exception as err:\n",
    "            msg = f\"Unable to obtain driver for {options.capabilities['browserName']} using Selenium Manager.\"\n",
    "            raise NoSuchDriverException(msg) from err\n",
    "\n",
    "        if path is None or not Path(path).is_file():\n",
    "            raise NoSuchDriverException(f\"Unable to locate or obtain driver for {options.capabilities['browserName']}\")\n",
    "\n",
    "        return path"
   ]
  },
  {
   "cell_type": "code",
   "execution_count": 7,
   "id": "5c9a8478-882e-4af1-a4ee-dc8880194dd4",
   "metadata": {},
   "outputs": [],
   "source": [
    "q_id = 625769474"
   ]
  },
  {
   "cell_type": "code",
   "execution_count": 6,
   "id": "b18352f2-ef48-4bed-8f2f-367f47fedc9a",
   "metadata": {},
   "outputs": [
    {
     "ename": "AttributeError",
     "evalue": "module 'selenium.webdriver' has no attribute 'FirefoxOptions'",
     "output_type": "error",
     "traceback": [
      "\u001b[0;31m---------------------------------------------------------------------------\u001b[0m",
      "\u001b[0;31mAttributeError\u001b[0m                            Traceback (most recent call last)",
      "Cell \u001b[0;32mIn[6], line 2\u001b[0m\n\u001b[1;32m      1\u001b[0m \u001b[38;5;66;03m# from selenium.webdriver import FirefoxService, FirefoxOptions\u001b[39;00m\n\u001b[0;32m----> 2\u001b[0m firefoxOptions \u001b[38;5;241m=\u001b[39m \u001b[43mwebdriver\u001b[49m\u001b[38;5;241;43m.\u001b[39;49m\u001b[43mFirefoxOptions\u001b[49m()\n\u001b[1;32m      3\u001b[0m firefoxOptions\u001b[38;5;241m.\u001b[39mbinary_location \u001b[38;5;241m=\u001b[39m drivers[\u001b[38;5;124m\"\u001b[39m\u001b[38;5;124mfirefox\u001b[39m\u001b[38;5;124m\"\u001b[39m]\n\u001b[1;32m      4\u001b[0m service \u001b[38;5;241m=\u001b[39m webdriver\u001b[38;5;241m.\u001b[39mFirefoxService(executable_path\u001b[38;5;241m=\u001b[39mdrivers[\u001b[38;5;124m\"\u001b[39m\u001b[38;5;124mfirefox\u001b[39m\u001b[38;5;124m\"\u001b[39m])\n",
      "\u001b[0;31mAttributeError\u001b[0m: module 'selenium.webdriver' has no attribute 'FirefoxOptions'"
     ]
    }
   ],
   "source": [
    "\n",
    "# from selenium.webdriver import FirefoxService, FirefoxOptions\n",
    "firefoxOptions = webdriver.FirefoxOptions()\n",
    "firefoxOptions.binary_location = drivers[\"firefox\"]\n",
    "service = webdriver.FirefoxService(executable_path=drivers[\"firefox\"])\n",
    "driver = webdriver.Firefox(\n",
    "    service=service,\n",
    "    options=firefoxOptions\n",
    ")"
   ]
  },
  {
   "cell_type": "code",
   "execution_count": 7,
   "id": "f54c53e2-db86-456c-8fb5-5ad891388347",
   "metadata": {},
   "outputs": [
    {
     "ename": "WebDriverException",
     "evalue": "Message: The browser appears to have exited before we could connect. If you specified a log_file in the FirefoxBinary constructor, check it for details.\n",
     "output_type": "error",
     "traceback": [
      "\u001b[0;31m---------------------------------------------------------------------------\u001b[0m",
      "\u001b[0;31mWebDriverException\u001b[0m                        Traceback (most recent call last)",
      "Cell \u001b[0;32mIn[7], line 5\u001b[0m\n\u001b[1;32m      2\u001b[0m \u001b[38;5;28;01mfrom\u001b[39;00m \u001b[38;5;21;01mselenium\u001b[39;00m\u001b[38;5;21;01m.\u001b[39;00m\u001b[38;5;21;01mwebdriver\u001b[39;00m\u001b[38;5;21;01m.\u001b[39;00m\u001b[38;5;21;01mcommon\u001b[39;00m\u001b[38;5;21;01m.\u001b[39;00m\u001b[38;5;21;01mkeys\u001b[39;00m \u001b[38;5;28;01mimport\u001b[39;00m Keys\n\u001b[1;32m      3\u001b[0m \u001b[38;5;28;01mfrom\u001b[39;00m \u001b[38;5;21;01mselenium\u001b[39;00m\u001b[38;5;21;01m.\u001b[39;00m\u001b[38;5;21;01mwebdriver\u001b[39;00m\u001b[38;5;21;01m.\u001b[39;00m\u001b[38;5;21;01mcommon\u001b[39;00m\u001b[38;5;21;01m.\u001b[39;00m\u001b[38;5;21;01mby\u001b[39;00m \u001b[38;5;28;01mimport\u001b[39;00m By\n\u001b[0;32m----> 5\u001b[0m driver \u001b[38;5;241m=\u001b[39m \u001b[43mwebdriver\u001b[49m\u001b[38;5;241;43m.\u001b[39;49m\u001b[43mFirefox\u001b[49m\u001b[43m(\u001b[49m\u001b[43m)\u001b[49m\n\u001b[1;32m      6\u001b[0m driver\u001b[38;5;241m.\u001b[39mget(\u001b[38;5;124m\"\u001b[39m\u001b[38;5;124mhttp://www.python.org\u001b[39m\u001b[38;5;124m\"\u001b[39m)\n\u001b[1;32m      7\u001b[0m \u001b[38;5;28;01massert\u001b[39;00m \u001b[38;5;124m\"\u001b[39m\u001b[38;5;124mPython\u001b[39m\u001b[38;5;124m\"\u001b[39m \u001b[38;5;129;01min\u001b[39;00m driver\u001b[38;5;241m.\u001b[39mtitle\n",
      "File \u001b[0;32m~/anaconda3/envs/web/lib/python3.9/site-packages/selenium/webdriver/firefox/webdriver.py:77\u001b[0m, in \u001b[0;36mWebDriver.__init__\u001b[0;34m(self, firefox_profile, firefox_binary, timeout, capabilities, proxy, executable_path)\u001b[0m\n\u001b[1;32m     74\u001b[0m     \u001b[38;5;28;01mif\u001b[39;00m proxy \u001b[38;5;129;01mis\u001b[39;00m \u001b[38;5;129;01mnot\u001b[39;00m \u001b[38;5;28;01mNone\u001b[39;00m:\n\u001b[1;32m     75\u001b[0m         proxy\u001b[38;5;241m.\u001b[39madd_to_capabilities(capabilities)\n\u001b[0;32m---> 77\u001b[0m     executor \u001b[38;5;241m=\u001b[39m \u001b[43mExtensionConnection\u001b[49m\u001b[43m(\u001b[49m\u001b[38;5;124;43m\"\u001b[39;49m\u001b[38;5;124;43m127.0.0.1\u001b[39;49m\u001b[38;5;124;43m\"\u001b[39;49m\u001b[43m,\u001b[49m\u001b[43m \u001b[49m\u001b[38;5;28;43mself\u001b[39;49m\u001b[38;5;241;43m.\u001b[39;49m\u001b[43mprofile\u001b[49m\u001b[43m,\u001b[49m\n\u001b[1;32m     78\u001b[0m \u001b[43m                                   \u001b[49m\u001b[38;5;28;43mself\u001b[39;49m\u001b[38;5;241;43m.\u001b[39;49m\u001b[43mbinary\u001b[49m\u001b[43m,\u001b[49m\u001b[43m \u001b[49m\u001b[43mtimeout\u001b[49m\u001b[43m)\u001b[49m\n\u001b[1;32m     79\u001b[0m     RemoteWebDriver\u001b[38;5;241m.\u001b[39m\u001b[38;5;21m__init__\u001b[39m(\u001b[38;5;28mself\u001b[39m,\n\u001b[1;32m     80\u001b[0m         command_executor\u001b[38;5;241m=\u001b[39mexecutor,\n\u001b[1;32m     81\u001b[0m     desired_capabilities\u001b[38;5;241m=\u001b[39mcapabilities,\n\u001b[1;32m     82\u001b[0m     keep_alive\u001b[38;5;241m=\u001b[39m\u001b[38;5;28;01mTrue\u001b[39;00m)\n\u001b[1;32m     85\u001b[0m \u001b[38;5;28mself\u001b[39m\u001b[38;5;241m.\u001b[39m_is_remote \u001b[38;5;241m=\u001b[39m \u001b[38;5;28;01mFalse\u001b[39;00m\n",
      "File \u001b[0;32m~/anaconda3/envs/web/lib/python3.9/site-packages/selenium/webdriver/firefox/extension_connection.py:51\u001b[0m, in \u001b[0;36mExtensionConnection.__init__\u001b[0;34m(self, host, firefox_profile, firefox_binary, timeout)\u001b[0m\n\u001b[1;32m     47\u001b[0m \u001b[38;5;28mself\u001b[39m\u001b[38;5;241m.\u001b[39mprofile\u001b[38;5;241m.\u001b[39mupdate_preferences()\n\u001b[1;32m     49\u001b[0m \u001b[38;5;28mself\u001b[39m\u001b[38;5;241m.\u001b[39mprofile\u001b[38;5;241m.\u001b[39madd_extension()\n\u001b[0;32m---> 51\u001b[0m \u001b[38;5;28;43mself\u001b[39;49m\u001b[38;5;241;43m.\u001b[39;49m\u001b[43mbinary\u001b[49m\u001b[38;5;241;43m.\u001b[39;49m\u001b[43mlaunch_browser\u001b[49m\u001b[43m(\u001b[49m\u001b[38;5;28;43mself\u001b[39;49m\u001b[38;5;241;43m.\u001b[39;49m\u001b[43mprofile\u001b[49m\u001b[43m,\u001b[49m\u001b[43m \u001b[49m\u001b[43mtimeout\u001b[49m\u001b[38;5;241;43m=\u001b[39;49m\u001b[43mtimeout\u001b[49m\u001b[43m)\u001b[49m\n\u001b[1;32m     52\u001b[0m _URL \u001b[38;5;241m=\u001b[39m \u001b[38;5;124m\"\u001b[39m\u001b[38;5;124mhttp://\u001b[39m\u001b[38;5;132;01m%s\u001b[39;00m\u001b[38;5;124m:\u001b[39m\u001b[38;5;132;01m%d\u001b[39;00m\u001b[38;5;124m/hub\u001b[39m\u001b[38;5;124m\"\u001b[39m \u001b[38;5;241m%\u001b[39m (HOST, PORT)\n\u001b[1;32m     53\u001b[0m RemoteConnection\u001b[38;5;241m.\u001b[39m\u001b[38;5;21m__init__\u001b[39m(\n\u001b[1;32m     54\u001b[0m     \u001b[38;5;28mself\u001b[39m, _URL, keep_alive\u001b[38;5;241m=\u001b[39m\u001b[38;5;28;01mTrue\u001b[39;00m)\n",
      "File \u001b[0;32m~/anaconda3/envs/web/lib/python3.9/site-packages/selenium/webdriver/firefox/firefox_binary.py:68\u001b[0m, in \u001b[0;36mFirefoxBinary.launch_browser\u001b[0;34m(self, profile, timeout)\u001b[0m\n\u001b[1;32m     65\u001b[0m \u001b[38;5;28mself\u001b[39m\u001b[38;5;241m.\u001b[39mprofile \u001b[38;5;241m=\u001b[39m profile\n\u001b[1;32m     67\u001b[0m \u001b[38;5;28mself\u001b[39m\u001b[38;5;241m.\u001b[39m_start_from_profile_path(\u001b[38;5;28mself\u001b[39m\u001b[38;5;241m.\u001b[39mprofile\u001b[38;5;241m.\u001b[39mpath)\n\u001b[0;32m---> 68\u001b[0m \u001b[38;5;28;43mself\u001b[39;49m\u001b[38;5;241;43m.\u001b[39;49m\u001b[43m_wait_until_connectable\u001b[49m\u001b[43m(\u001b[49m\u001b[43mtimeout\u001b[49m\u001b[38;5;241;43m=\u001b[39;49m\u001b[43mtimeout\u001b[49m\u001b[43m)\u001b[49m\n",
      "File \u001b[0;32m~/anaconda3/envs/web/lib/python3.9/site-packages/selenium/webdriver/firefox/firefox_binary.py:98\u001b[0m, in \u001b[0;36mFirefoxBinary._wait_until_connectable\u001b[0;34m(self, timeout)\u001b[0m\n\u001b[1;32m     95\u001b[0m \u001b[38;5;28;01mwhile\u001b[39;00m \u001b[38;5;129;01mnot\u001b[39;00m utils\u001b[38;5;241m.\u001b[39mis_connectable(\u001b[38;5;28mself\u001b[39m\u001b[38;5;241m.\u001b[39mprofile\u001b[38;5;241m.\u001b[39mport):\n\u001b[1;32m     96\u001b[0m     \u001b[38;5;28;01mif\u001b[39;00m \u001b[38;5;28mself\u001b[39m\u001b[38;5;241m.\u001b[39mprocess\u001b[38;5;241m.\u001b[39mpoll() \u001b[38;5;129;01mis\u001b[39;00m \u001b[38;5;129;01mnot\u001b[39;00m \u001b[38;5;28;01mNone\u001b[39;00m:\n\u001b[1;32m     97\u001b[0m         \u001b[38;5;66;03m# Browser has exited\u001b[39;00m\n\u001b[0;32m---> 98\u001b[0m         \u001b[38;5;28;01mraise\u001b[39;00m WebDriverException(\u001b[38;5;124m\"\u001b[39m\u001b[38;5;124mThe browser appears to have exited \u001b[39m\u001b[38;5;124m\"\u001b[39m\n\u001b[1;32m     99\u001b[0m               \u001b[38;5;124m\"\u001b[39m\u001b[38;5;124mbefore we could connect. If you specified a log_file in \u001b[39m\u001b[38;5;124m\"\u001b[39m\n\u001b[1;32m    100\u001b[0m               \u001b[38;5;124m\"\u001b[39m\u001b[38;5;124mthe FirefoxBinary constructor, check it for details.\u001b[39m\u001b[38;5;124m\"\u001b[39m)\n\u001b[1;32m    101\u001b[0m     \u001b[38;5;28;01mif\u001b[39;00m count \u001b[38;5;241m>\u001b[39m\u001b[38;5;241m=\u001b[39m timeout:\n\u001b[1;32m    102\u001b[0m         \u001b[38;5;28mself\u001b[39m\u001b[38;5;241m.\u001b[39mkill()\n",
      "\u001b[0;31mWebDriverException\u001b[0m: Message: The browser appears to have exited before we could connect. If you specified a log_file in the FirefoxBinary constructor, check it for details.\n"
     ]
    }
   ],
   "source": [
    "from selenium import webdriver\n",
    "from selenium.webdriver.common.keys import Keys\n",
    "from selenium.webdriver.common.by import By\n",
    "\n",
    "driver = webdriver.Firefox()\n",
    "driver.get(\"http://www.python.org\")\n",
    "assert \"Python\" in driver.title\n",
    "elem = driver.find_element(By.NAME, \"q\")\n",
    "elem.clear()\n",
    "elem.send_keys(\"pycon\")\n",
    "elem.send_keys(Keys.RETURN)\n",
    "assert \"No results found.\" not in driver.page_source\n",
    "driver.close()"
   ]
  },
  {
   "cell_type": "code",
   "execution_count": 21,
   "id": "23d1008d-b5ed-468f-a225-75b9d5d30ce7",
   "metadata": {},
   "outputs": [
    {
     "name": "stdout",
     "output_type": "stream",
     "text": [
      "False\n"
     ]
    }
   ],
   "source": [
    "print(Path(drivers[\"edge\"]).is_file())"
   ]
  },
  {
   "cell_type": "code",
   "execution_count": 8,
   "id": "2a598366-18f6-4c6b-bb54-1c0b94eeadfb",
   "metadata": {},
   "outputs": [
    {
     "name": "stdout",
     "output_type": "stream",
     "text": [
      "Message: 'MicrosoftWebDriver.exe' executable needs to be in PATH. Please download from http://go.microsoft.com/fwlink/?LinkId=619687 \n",
      "\n"
     ]
    },
    {
     "ename": "WebDriverException",
     "evalue": "Message: 'MicrosoftWebDriver.exe' executable needs to be in PATH. Please download from http://go.microsoft.com/fwlink/?LinkId=619687 \n",
     "output_type": "error",
     "traceback": [
      "\u001b[0;31m---------------------------------------------------------------------------\u001b[0m",
      "\u001b[0;31mFileNotFoundError\u001b[0m                         Traceback (most recent call last)",
      "File \u001b[0;32m~/anaconda3/envs/web/lib/python3.9/site-packages/selenium/webdriver/common/service.py:60\u001b[0m, in \u001b[0;36mService.start\u001b[0;34m(self)\u001b[0m\n\u001b[1;32m     59\u001b[0m     cmd\u001b[38;5;241m.\u001b[39mextend(\u001b[38;5;28mself\u001b[39m\u001b[38;5;241m.\u001b[39mcommand_line_args())\n\u001b[0;32m---> 60\u001b[0m     \u001b[38;5;28mself\u001b[39m\u001b[38;5;241m.\u001b[39mprocess \u001b[38;5;241m=\u001b[39m \u001b[43msubprocess\u001b[49m\u001b[38;5;241;43m.\u001b[39;49m\u001b[43mPopen\u001b[49m\u001b[43m(\u001b[49m\u001b[43mcmd\u001b[49m\u001b[43m,\u001b[49m\u001b[43m \u001b[49m\u001b[43menv\u001b[49m\u001b[38;5;241;43m=\u001b[39;49m\u001b[38;5;28;43mself\u001b[39;49m\u001b[38;5;241;43m.\u001b[39;49m\u001b[43menv\u001b[49m\u001b[43m,\u001b[49m\n\u001b[1;32m     61\u001b[0m \u001b[43m                                    \u001b[49m\u001b[43mclose_fds\u001b[49m\u001b[38;5;241;43m=\u001b[39;49m\u001b[43mplatform\u001b[49m\u001b[38;5;241;43m.\u001b[39;49m\u001b[43msystem\u001b[49m\u001b[43m(\u001b[49m\u001b[43m)\u001b[49m\u001b[43m \u001b[49m\u001b[38;5;241;43m!=\u001b[39;49m\u001b[43m \u001b[49m\u001b[38;5;124;43m'\u001b[39;49m\u001b[38;5;124;43mWindows\u001b[39;49m\u001b[38;5;124;43m'\u001b[39;49m\u001b[43m,\u001b[49m\n\u001b[1;32m     62\u001b[0m \u001b[43m                                    \u001b[49m\u001b[43mstdout\u001b[49m\u001b[38;5;241;43m=\u001b[39;49m\u001b[38;5;28;43mself\u001b[39;49m\u001b[38;5;241;43m.\u001b[39;49m\u001b[43mlog_file\u001b[49m\u001b[43m,\u001b[49m\u001b[43m \u001b[49m\u001b[43mstderr\u001b[49m\u001b[38;5;241;43m=\u001b[39;49m\u001b[38;5;28;43mself\u001b[39;49m\u001b[38;5;241;43m.\u001b[39;49m\u001b[43mlog_file\u001b[49m\u001b[43m)\u001b[49m\n\u001b[1;32m     63\u001b[0m \u001b[38;5;28;01mexcept\u001b[39;00m \u001b[38;5;167;01mTypeError\u001b[39;00m:\n",
      "File \u001b[0;32m~/anaconda3/envs/web/lib/python3.9/subprocess.py:951\u001b[0m, in \u001b[0;36mPopen.__init__\u001b[0;34m(self, args, bufsize, executable, stdin, stdout, stderr, preexec_fn, close_fds, shell, cwd, env, universal_newlines, startupinfo, creationflags, restore_signals, start_new_session, pass_fds, user, group, extra_groups, encoding, errors, text, umask)\u001b[0m\n\u001b[1;32m    948\u001b[0m             \u001b[38;5;28mself\u001b[39m\u001b[38;5;241m.\u001b[39mstderr \u001b[38;5;241m=\u001b[39m io\u001b[38;5;241m.\u001b[39mTextIOWrapper(\u001b[38;5;28mself\u001b[39m\u001b[38;5;241m.\u001b[39mstderr,\n\u001b[1;32m    949\u001b[0m                     encoding\u001b[38;5;241m=\u001b[39mencoding, errors\u001b[38;5;241m=\u001b[39merrors)\n\u001b[0;32m--> 951\u001b[0m     \u001b[38;5;28;43mself\u001b[39;49m\u001b[38;5;241;43m.\u001b[39;49m\u001b[43m_execute_child\u001b[49m\u001b[43m(\u001b[49m\u001b[43margs\u001b[49m\u001b[43m,\u001b[49m\u001b[43m \u001b[49m\u001b[43mexecutable\u001b[49m\u001b[43m,\u001b[49m\u001b[43m \u001b[49m\u001b[43mpreexec_fn\u001b[49m\u001b[43m,\u001b[49m\u001b[43m \u001b[49m\u001b[43mclose_fds\u001b[49m\u001b[43m,\u001b[49m\n\u001b[1;32m    952\u001b[0m \u001b[43m                        \u001b[49m\u001b[43mpass_fds\u001b[49m\u001b[43m,\u001b[49m\u001b[43m \u001b[49m\u001b[43mcwd\u001b[49m\u001b[43m,\u001b[49m\u001b[43m \u001b[49m\u001b[43menv\u001b[49m\u001b[43m,\u001b[49m\n\u001b[1;32m    953\u001b[0m \u001b[43m                        \u001b[49m\u001b[43mstartupinfo\u001b[49m\u001b[43m,\u001b[49m\u001b[43m \u001b[49m\u001b[43mcreationflags\u001b[49m\u001b[43m,\u001b[49m\u001b[43m \u001b[49m\u001b[43mshell\u001b[49m\u001b[43m,\u001b[49m\n\u001b[1;32m    954\u001b[0m \u001b[43m                        \u001b[49m\u001b[43mp2cread\u001b[49m\u001b[43m,\u001b[49m\u001b[43m \u001b[49m\u001b[43mp2cwrite\u001b[49m\u001b[43m,\u001b[49m\n\u001b[1;32m    955\u001b[0m \u001b[43m                        \u001b[49m\u001b[43mc2pread\u001b[49m\u001b[43m,\u001b[49m\u001b[43m \u001b[49m\u001b[43mc2pwrite\u001b[49m\u001b[43m,\u001b[49m\n\u001b[1;32m    956\u001b[0m \u001b[43m                        \u001b[49m\u001b[43merrread\u001b[49m\u001b[43m,\u001b[49m\u001b[43m \u001b[49m\u001b[43merrwrite\u001b[49m\u001b[43m,\u001b[49m\n\u001b[1;32m    957\u001b[0m \u001b[43m                        \u001b[49m\u001b[43mrestore_signals\u001b[49m\u001b[43m,\u001b[49m\n\u001b[1;32m    958\u001b[0m \u001b[43m                        \u001b[49m\u001b[43mgid\u001b[49m\u001b[43m,\u001b[49m\u001b[43m \u001b[49m\u001b[43mgids\u001b[49m\u001b[43m,\u001b[49m\u001b[43m \u001b[49m\u001b[43muid\u001b[49m\u001b[43m,\u001b[49m\u001b[43m \u001b[49m\u001b[43mumask\u001b[49m\u001b[43m,\u001b[49m\n\u001b[1;32m    959\u001b[0m \u001b[43m                        \u001b[49m\u001b[43mstart_new_session\u001b[49m\u001b[43m)\u001b[49m\n\u001b[1;32m    960\u001b[0m \u001b[38;5;28;01mexcept\u001b[39;00m:\n\u001b[1;32m    961\u001b[0m     \u001b[38;5;66;03m# Cleanup if the child failed starting.\u001b[39;00m\n",
      "File \u001b[0;32m~/anaconda3/envs/web/lib/python3.9/subprocess.py:1837\u001b[0m, in \u001b[0;36mPopen._execute_child\u001b[0;34m(self, args, executable, preexec_fn, close_fds, pass_fds, cwd, env, startupinfo, creationflags, shell, p2cread, p2cwrite, c2pread, c2pwrite, errread, errwrite, restore_signals, gid, gids, uid, umask, start_new_session)\u001b[0m\n\u001b[1;32m   1836\u001b[0m         err_msg \u001b[38;5;241m=\u001b[39m os\u001b[38;5;241m.\u001b[39mstrerror(errno_num)\n\u001b[0;32m-> 1837\u001b[0m     \u001b[38;5;28;01mraise\u001b[39;00m child_exception_type(errno_num, err_msg, err_filename)\n\u001b[1;32m   1838\u001b[0m \u001b[38;5;28;01mraise\u001b[39;00m child_exception_type(err_msg)\n",
      "\u001b[0;31mFileNotFoundError\u001b[0m: [Errno 2] No such file or directory: 'MicrosoftWebDriver.exe'",
      "\nDuring handling of the above exception, another exception occurred:\n",
      "\u001b[0;31mWebDriverException\u001b[0m                        Traceback (most recent call last)",
      "Cell \u001b[0;32mIn[8], line 12\u001b[0m\n\u001b[1;32m     10\u001b[0m \u001b[38;5;28;01mexcept\u001b[39;00m \u001b[38;5;167;01mException\u001b[39;00m \u001b[38;5;28;01mas\u001b[39;00m e:\n\u001b[1;32m     11\u001b[0m     \u001b[38;5;28mprint\u001b[39m(e)\n\u001b[0;32m---> 12\u001b[0m     \u001b[38;5;28;01mraise\u001b[39;00m e\n",
      "Cell \u001b[0;32mIn[8], line 6\u001b[0m\n\u001b[1;32m      1\u001b[0m \u001b[38;5;66;03m# service = webdriver.EdgeService(executable_path=drivers[\"edge\"])\u001b[39;00m\n\u001b[1;32m      2\u001b[0m \u001b[38;5;66;03m# edgeOptions = webdriver.EdgeOptions()\u001b[39;00m\n\u001b[1;32m      3\u001b[0m \u001b[38;5;66;03m# edgeOptions.binary_location = drivers[\"edge\"]\u001b[39;00m\n\u001b[1;32m      4\u001b[0m \u001b[38;5;66;03m# edgeOptions.add_argument(\"--no-sandbox\")\u001b[39;00m\n\u001b[1;32m      5\u001b[0m \u001b[38;5;28;01mtry\u001b[39;00m:\n\u001b[0;32m----> 6\u001b[0m     driver \u001b[38;5;241m=\u001b[39m \u001b[43mwebdriver\u001b[49m\u001b[38;5;241;43m.\u001b[39;49m\u001b[43mEdge\u001b[49m\u001b[43m(\u001b[49m\n\u001b[1;32m      7\u001b[0m \u001b[43m        \u001b[49m\u001b[38;5;66;43;03m# service=service,\u001b[39;49;00m\n\u001b[1;32m      8\u001b[0m \u001b[43m        \u001b[49m\u001b[38;5;66;43;03m# options=edgeOptions\u001b[39;49;00m\n\u001b[1;32m      9\u001b[0m \u001b[43m    \u001b[49m\u001b[43m)\u001b[49m\n\u001b[1;32m     10\u001b[0m \u001b[38;5;28;01mexcept\u001b[39;00m \u001b[38;5;167;01mException\u001b[39;00m \u001b[38;5;28;01mas\u001b[39;00m e:\n\u001b[1;32m     11\u001b[0m     \u001b[38;5;28mprint\u001b[39m(e)\n",
      "File \u001b[0;32m~/anaconda3/envs/web/lib/python3.9/site-packages/selenium/webdriver/edge/webdriver.py:34\u001b[0m, in \u001b[0;36mWebDriver.__init__\u001b[0;34m(self, executable_path, capabilities, port)\u001b[0m\n\u001b[1;32m     31\u001b[0m     \u001b[38;5;28mself\u001b[39m\u001b[38;5;241m.\u001b[39mport \u001b[38;5;241m=\u001b[39m utils\u001b[38;5;241m.\u001b[39mfree_port()\n\u001b[1;32m     33\u001b[0m \u001b[38;5;28mself\u001b[39m\u001b[38;5;241m.\u001b[39medge_service \u001b[38;5;241m=\u001b[39m Service(executable_path, port\u001b[38;5;241m=\u001b[39m\u001b[38;5;28mself\u001b[39m\u001b[38;5;241m.\u001b[39mport)\n\u001b[0;32m---> 34\u001b[0m \u001b[38;5;28;43mself\u001b[39;49m\u001b[38;5;241;43m.\u001b[39;49m\u001b[43medge_service\u001b[49m\u001b[38;5;241;43m.\u001b[39;49m\u001b[43mstart\u001b[49m\u001b[43m(\u001b[49m\u001b[43m)\u001b[49m\n\u001b[1;32m     36\u001b[0m \u001b[38;5;28;01mif\u001b[39;00m capabilities \u001b[38;5;129;01mis\u001b[39;00m \u001b[38;5;28;01mNone\u001b[39;00m:\n\u001b[1;32m     37\u001b[0m     capabilities \u001b[38;5;241m=\u001b[39m DesiredCapabilities\u001b[38;5;241m.\u001b[39mEDGE\n",
      "File \u001b[0;32m~/anaconda3/envs/web/lib/python3.9/site-packages/selenium/webdriver/common/service.py:67\u001b[0m, in \u001b[0;36mService.start\u001b[0;34m(self)\u001b[0m\n\u001b[1;32m     65\u001b[0m \u001b[38;5;28;01mexcept\u001b[39;00m \u001b[38;5;167;01mOSError\u001b[39;00m \u001b[38;5;28;01mas\u001b[39;00m err:\n\u001b[1;32m     66\u001b[0m     \u001b[38;5;28;01mif\u001b[39;00m err\u001b[38;5;241m.\u001b[39merrno \u001b[38;5;241m==\u001b[39m errno\u001b[38;5;241m.\u001b[39mENOENT:\n\u001b[0;32m---> 67\u001b[0m         \u001b[38;5;28;01mraise\u001b[39;00m WebDriverException(\n\u001b[1;32m     68\u001b[0m             \u001b[38;5;124m\"\u001b[39m\u001b[38;5;124m'\u001b[39m\u001b[38;5;132;01m%s\u001b[39;00m\u001b[38;5;124m'\u001b[39m\u001b[38;5;124m executable needs to be in PATH. \u001b[39m\u001b[38;5;132;01m%s\u001b[39;00m\u001b[38;5;124m\"\u001b[39m \u001b[38;5;241m%\u001b[39m (\n\u001b[1;32m     69\u001b[0m                 os\u001b[38;5;241m.\u001b[39mpath\u001b[38;5;241m.\u001b[39mbasename(\u001b[38;5;28mself\u001b[39m\u001b[38;5;241m.\u001b[39mpath), \u001b[38;5;28mself\u001b[39m\u001b[38;5;241m.\u001b[39mstart_error_message)\n\u001b[1;32m     70\u001b[0m         )\n\u001b[1;32m     71\u001b[0m     \u001b[38;5;28;01melif\u001b[39;00m err\u001b[38;5;241m.\u001b[39merrno \u001b[38;5;241m==\u001b[39m errno\u001b[38;5;241m.\u001b[39mEACCES:\n\u001b[1;32m     72\u001b[0m         \u001b[38;5;28;01mraise\u001b[39;00m WebDriverException(\n\u001b[1;32m     73\u001b[0m             \u001b[38;5;124m\"\u001b[39m\u001b[38;5;124m'\u001b[39m\u001b[38;5;132;01m%s\u001b[39;00m\u001b[38;5;124m'\u001b[39m\u001b[38;5;124m executable may have wrong permissions. \u001b[39m\u001b[38;5;132;01m%s\u001b[39;00m\u001b[38;5;124m\"\u001b[39m \u001b[38;5;241m%\u001b[39m (\n\u001b[1;32m     74\u001b[0m                 os\u001b[38;5;241m.\u001b[39mpath\u001b[38;5;241m.\u001b[39mbasename(\u001b[38;5;28mself\u001b[39m\u001b[38;5;241m.\u001b[39mpath), \u001b[38;5;28mself\u001b[39m\u001b[38;5;241m.\u001b[39mstart_error_message)\n\u001b[1;32m     75\u001b[0m         )\n",
      "\u001b[0;31mWebDriverException\u001b[0m: Message: 'MicrosoftWebDriver.exe' executable needs to be in PATH. Please download from http://go.microsoft.com/fwlink/?LinkId=619687 \n"
     ]
    }
   ],
   "source": [
    "# service = webdriver.EdgeService(executable_path=drivers[\"edge\"])\n",
    "# edgeOptions = webdriver.EdgeOptions()\n",
    "# edgeOptions.binary_location = drivers[\"edge\"]\n",
    "# edgeOptions.add_argument(\"--no-sandbox\")\n",
    "try:\n",
    "    driver = webdriver.Edge(\n",
    "        # service=service,\n",
    "        # options=edgeOptions\n",
    "    )\n",
    "except Exception as e:\n",
    "    print(e)\n",
    "    raise e"
   ]
  },
  {
   "cell_type": "code",
   "execution_count": 11,
   "id": "aa32c6ad-ecb4-4573-a8e7-44976e66253e",
   "metadata": {},
   "outputs": [
    {
     "ename": "AttributeError",
     "evalue": "module 'selenium.webdriver' has no attribute 'ChromeService'",
     "output_type": "error",
     "traceback": [
      "\u001b[0;31m---------------------------------------------------------------------------\u001b[0m",
      "\u001b[0;31mAttributeError\u001b[0m                            Traceback (most recent call last)",
      "Cell \u001b[0;32mIn[11], line 1\u001b[0m\n\u001b[0;32m----> 1\u001b[0m service \u001b[38;5;241m=\u001b[39m \u001b[43mwebdriver\u001b[49m\u001b[38;5;241;43m.\u001b[39;49m\u001b[43mChromeService\u001b[49m(executable_path\u001b[38;5;241m=\u001b[39mdrivers[\u001b[38;5;124m\"\u001b[39m\u001b[38;5;124mchrome\u001b[39m\u001b[38;5;124m\"\u001b[39m])\n\u001b[1;32m      2\u001b[0m \u001b[38;5;66;03m# options = Options()\u001b[39;00m\n\u001b[1;32m      3\u001b[0m chromeOptions \u001b[38;5;241m=\u001b[39m webdriver\u001b[38;5;241m.\u001b[39mChromeOptions() \n",
      "\u001b[0;31mAttributeError\u001b[0m: module 'selenium.webdriver' has no attribute 'ChromeService'"
     ]
    }
   ],
   "source": [
    "service = webdriver.ChromeService(executable_path=drivers[\"chrome\"])\n",
    "# options = Options()\n",
    "chromeOptions = webdriver.ChromeOptions() \n",
    "chromeOptions.binary_location = drivers[\"chrome\"]\n",
    "# chromeOptions.add_argument(\"--no-sandbox\")\n",
    "# chromeOptions.add_argument(\"--remote-debugging-port=9222\")\n",
    "chromeOptions.add_experimental_option(\"prefs\", {\"profile.managed_default_content_settings.images\": 2}) \n",
    "chromeOptions.add_argument(\"--no-sandbox\") \n",
    "# chromeOptions.add_argument(\"--disable-setuid-sandbox\") \n",
    "# chromeOptions.add_argument(\"--disable-dev-shm-using\") \n",
    "chromeOptions.add_argument(\"--disable-extensions\") \n",
    "chromeOptions.add_argument(\"--disable-gpu\") \n",
    "chromeOptions.add_argument(\"start-maximized\") \n",
    "chromeOptions.add_argument(\"disable-infobars\") \n",
    "chromeOptions.add_argument(\"--headless\") \n",
    "# chromeOptions.add_argument(r\"user-data-dir=.\\cookies\\\\\" + login) \n",
    "try: \n",
    "    driver = webdriver.Chrome(\n",
    "        drivers[\"chrome\"]\n",
    "        #executable_path=drivers[\"chrome\"]\n",
    "        # service=service,\n",
    "        # options =chromeOptions\n",
    "    )\n",
    "except Exception as e:\n",
    "    print(e)\n",
    "    raise e\n",
    "# https://www.selenium.dev/documentation/webdriver/troubleshooting/errors/driver_location/\n"
   ]
  },
  {
   "cell_type": "code",
   "execution_count": 12,
   "id": "e433f449-cb7a-4a4c-b5a4-8fefb86e6c9c",
   "metadata": {},
   "outputs": [],
   "source": [
    "# service = webdriver.ChromeService(executable_path=drivers[\"chrome\"])\n",
    "# options = Options()\n",
    "# chromeOptions = webdriver.ChromeOptions() \n",
    "# chromeOptions.binary_location = drivers[\"chrome\"]\n",
    "try: \n",
    "    driver = webdriver.Chrome(\n",
    "        drivers[\"chrome\"]\n",
    "        #executable_path=drivers[\"chrome\"]\n",
    "        # service=service,\n",
    "        # options =chromeOptions\n",
    "    )\n",
    "except Exception as e:\n",
    "    print(e)\n",
    "    raise e\n",
    "# https://www.selenium.dev/documentation/webdriver/troubleshooting/errors/driver_location/\n"
   ]
  },
  {
   "cell_type": "code",
   "execution_count": 16,
   "id": "3a3141af-1422-4f40-b2a8-824e7af38046",
   "metadata": {},
   "outputs": [],
   "source": [
    "driver.get(f\"https://www.zhihu.com/question/{q_id}\")\n",
    "print(\"get url\")\n"
   ]
  },
  {
   "cell_type": "code",
   "execution_count": null,
   "id": "d057e509-51c6-487c-ab12-1f712ab2552c",
   "metadata": {},
   "outputs": [],
   "source": [
    "\"newSession\""
   ]
  },
  {
   "cell_type": "code",
   "execution_count": 33,
   "id": "07119881-ce9a-400b-b013-f2200c8184e1",
   "metadata": {},
   "outputs": [
    {
     "name": "stdout",
     "output_type": "stream",
     "text": [
      "{'browserName': 'chrome', 'pageLoadStrategy': 'normal', 'goog:chromeOptions': {'prefs': {'profile.managed_default_content_settings.images': 2}, 'extensions': [], 'binary': '/media/ywatcher/ExtDisk1/Files/Packages/web_archiv/driver/chromedriver-linux64/chromedriver', 'args': ['--no-sandbox', '--disable-extensions', '--disable-gpu', 'start-maximized', 'disable-infobars', '--headless']}}\n"
     ]
    }
   ],
   "source": [
    "def _create_caps(caps):\n",
    "    \"\"\"Makes a W3C alwaysMatch capabilities object.\n",
    "\n",
    "    Filters out capability names that are not in the W3C spec. Spec-compliant\n",
    "    drivers will reject requests containing unknown capability names.\n",
    "\n",
    "    Moves the Firefox profile, if present, from the old location to the new Firefox\n",
    "    options object.\n",
    "\n",
    "    :Args:\n",
    "     - caps - A dictionary of capabilities requested by the caller.\n",
    "    \"\"\"\n",
    "    caps = copy.deepcopy(caps)\n",
    "    always_match = {}\n",
    "    for k, v in caps.items():\n",
    "        always_match[k] = v\n",
    "    return {\"capabilities\": {\"firstMatch\": [{}], \"alwaysMatch\": always_match}}\n",
    "\n",
    "cap = chromeOptions.to_capabilities()\n",
    "print(cap)"
   ]
  },
  {
   "cell_type": "code",
   "execution_count": 17,
   "id": "713eb447-6315-4e7d-b740-f8bf91930ee3",
   "metadata": {},
   "outputs": [],
   "source": [
    "import sqlite3\n",
    "from sqlite3 import Error"
   ]
  },
  {
   "cell_type": "code",
   "execution_count": 26,
   "id": "6cb159bf-c3e5-4bb8-ba8b-30bc32210dbd",
   "metadata": {},
   "outputs": [],
   "source": [
    "if True:\n",
    "    def create_connection(db_file):\n",
    "        \"\"\" create a database connection to a SQLite database \"\"\"\n",
    "        conn = None\n",
    "        try:\n",
    "            conn = sqlite3.connect(db_file)\n",
    "            print(sqlite3.version)\n",
    "        except Error as e:\n",
    "            print(e)\n",
    "        finally:\n",
    "            if conn:\n",
    "                conn.close()\n",
    "else:\n",
    "    def create_connection():\n",
    "        \"\"\" create a database connection to a database that resides\n",
    "            in the memory\n",
    "        \"\"\"\n",
    "        conn = None;\n",
    "        try:\n",
    "            conn = sqlite3.connect(':memory:')\n",
    "            print(sqlite3.version)\n",
    "        except Error as e:\n",
    "            print(e)\n",
    "        finally:\n",
    "            if conn:\n",
    "                conn.close()"
   ]
  },
  {
   "cell_type": "code",
   "execution_count": 27,
   "id": "940ea164-f892-4603-9098-5e749562192c",
   "metadata": {},
   "outputs": [
    {
     "name": "stdout",
     "output_type": "stream",
     "text": [
      "2.6.0\n"
     ]
    }
   ],
   "source": [
    "create_connection(db_test)"
   ]
  },
  {
   "cell_type": "code",
   "execution_count": 28,
   "id": "22110c24-47ea-498f-aac9-95dbabdc317c",
   "metadata": {},
   "outputs": [
    {
     "name": "stdout",
     "output_type": "stream",
     "text": [
      "2.6.0\n"
     ]
    }
   ],
   "source": [
    "db_file=db_test\n",
    "conn = None\n",
    "try:\n",
    "    conn = sqlite3.connect(db_file)\n",
    "    print(sqlite3.version)\n",
    "except Error as e:\n",
    "    print(e)"
   ]
  },
  {
   "cell_type": "code",
   "execution_count": 27,
   "id": "f43225f4-ae0a-4491-b45e-4b837d1269c2",
   "metadata": {},
   "outputs": [
    {
     "data": {
      "text/plain": [
       "sqlite3.Connection"
      ]
     },
     "execution_count": 27,
     "metadata": {},
     "output_type": "execute_result"
    }
   ],
   "source": [
    "type(conn)"
   ]
  },
  {
   "cell_type": "code",
   "execution_count": 35,
   "id": "dc7eb747-9764-43bb-bb6e-79f7477aac0b",
   "metadata": {},
   "outputs": [],
   "source": []
  },
  {
   "cell_type": "code",
   "execution_count": 36,
   "id": "7edecd13-b45e-4d13-b669-0eefe86244c8",
   "metadata": {},
   "outputs": [
    {
     "data": {
      "text/plain": [
       "0"
      ]
     },
     "execution_count": 36,
     "metadata": {},
     "output_type": "execute_result"
    }
   ],
   "source": [
    "init_database(conn)"
   ]
  },
  {
   "cell_type": "code",
   "execution_count": null,
   "id": "67b08f54-389a-4bfe-bcfa-d5c980b2b8a0",
   "metadata": {},
   "outputs": [],
   "source": []
  },
  {
   "cell_type": "code",
   "execution_count": 24,
   "id": "214823fc-5eab-4266-bb1c-4122ac409de8",
   "metadata": {},
   "outputs": [],
   "source": [
    "# answer_table:\n",
    "title_4_answer_table = \"Answers\"\n",
    "title_4_question_table = \"Questions\"\n",
    "title_4_comment_table = \"Comments\"\n",
    "query_create_answer_table = f\"\"\"\n",
    "CREATE TABLE IF NOT EXISTS {title_4_answer_table} (\n",
    "    id integer PRIMARY KEY,\n",
    "    authorId integer,\n",
    "    questionId integer NOT NULL,\n",
    "    content text\n",
    "    )\n",
    "\"\"\"\n",
    "query_create_answer_vcs_table = f\"\"\"\n",
    "CREATE TABLE IF NOT EXISTS {title_4_answer_table}VCS (\n",
    "    commitId text PRIMARY KEY,\n",
    "    answerId interger NOT NULL,\n",
    "    dateFetched text,\n",
    "    dateAmended text,\n",
    "    contentDiff text\n",
    "    )\n",
    "\"\"\"\n",
    "query_create_question_table = f\"\"\"\n",
    "CREATE TABLE IF NOT EXISTS {title_4_question_table} (\n",
    "    id integer PRIMARY KEY,\n",
    "    authorId integer\n",
    "    )\n",
    "\"\"\"\n",
    "query_create_question_vcs_table = f\"\"\"\n",
    "CREATE TABLE IF NOT EXISTS {title_4_question_table}VCS (\n",
    "    commitId text PRIMARY KEY,\n",
    "    questionId interger NOT NULL,\n",
    "    dateFetched text,\n",
    "    dateAmended text,\n",
    "    titleDiff text,\n",
    "    contentDiff text\n",
    "    )\n",
    "\"\"\"\n",
    "# create a table named GitHead\n",
    "# to maintain the current head\n",
    "# of git repository, sha of \n",
    "# which is stored;\n",
    "# This table aims to prevent\n",
    "# unexpected effects caused by\n",
    "# manual git operations\n",
    "query_create_head_table = f\"\"\"\n",
    "CREATE TABLE GitHead (\n",
    "    id INTEGER PRIMARY KEY CHECK (id = 0),\n",
    "    sha text\n",
    ");\n",
    "CREATE TRIGGER git_head_no_insert\n",
    "BEFORE INSERT ON GitHead\n",
    "WHEN (SELECT COUNT(*) FROM GitHead) >= 1   -- limit here\n",
    "BEGIN\n",
    "    SELECT RAISE(FAIL, 'only one row!');\n",
    "END;\n",
    "\"\"\"\n",
    "\n",
    "\n",
    "def init_database_file(\n",
    "    db_file:str\n",
    "):\n",
    "    pass\n",
    "\n",
    "def init_database_tables(\n",
    "    conn: sqlite3.Connection\n",
    ") -> int:\n",
    "    # TODO: create database file,\n",
    "    # assert that file does not exist\n",
    "    # if forced create: overwrite=True\n",
    "    try: \n",
    "        c = conn.cursor()\n",
    "        c.execute(query_create_question_table)\n",
    "        c.execute(query_create_answer_vcs_table)\n",
    "        c.execute(query_create_answer_table)\n",
    "        c.execute(query_create_question_vcs_table)\n",
    "        c.executescript(query_create_head_table)\n",
    "        return 0\n",
    "    except Error as e:\n",
    "        print(e)\n",
    "        return -1\n",
    "    "
   ]
  },
  {
   "cell_type": "code",
   "execution_count": 29,
   "id": "4ed4b210-fe47-44ed-aa48-f36e2cc9ac20",
   "metadata": {},
   "outputs": [
    {
     "data": {
      "text/plain": [
       "0"
      ]
     },
     "execution_count": 29,
     "metadata": {},
     "output_type": "execute_result"
    }
   ],
   "source": [
    "init_database(conn)"
   ]
  },
  {
   "cell_type": "markdown",
   "id": "09e411a6-c394-47ef-8bb1-5aca3d472272",
   "metadata": {},
   "source": [
    "https://stackoverflow.com/questions/33104101/ensure-sqlite-table-only-has-one-row"
   ]
  },
  {
   "cell_type": "code",
   "execution_count": null,
   "id": "e0a54ce5-f24c-416b-9b08-7888319dc402",
   "metadata": {},
   "outputs": [],
   "source": []
  },
  {
   "cell_type": "code",
   "execution_count": 48,
   "id": "08801b2d-102d-4345-bd2d-e3591619a281",
   "metadata": {},
   "outputs": [],
   "source": [
    "git_repo = os.path.join(\n",
    "    root, \"git_repo\"\n",
    ")\n",
    "os.path.exists(git_repo)\n",
    "git_repo = \"/media/ywatcher/ExtDisk1/Files/web_archiv_/git_repo\"\n",
    "# you should exec git init in this repo"
   ]
  },
  {
   "cell_type": "code",
   "execution_count": 45,
   "id": "acfa9260-349b-4247-891a-d38da16ae3d9",
   "metadata": {},
   "outputs": [],
   "source": [
    "from git import *"
   ]
  },
  {
   "cell_type": "code",
   "execution_count": 47,
   "id": "7b6c4264-9dbf-415d-b3eb-f56ec7d1324d",
   "metadata": {},
   "outputs": [],
   "source": [
    "repo = Repo(git_repo) "
   ]
  },
  {
   "cell_type": "code",
   "execution_count": 49,
   "id": "9d933d28-ad92-4220-b40f-0d9849e97ae7",
   "metadata": {},
   "outputs": [
    {
     "data": {
      "text/plain": [
       "<git.repo.base.Repo '/media/ywatcher/ExtDisk1/Files/web_archiv_/git_repo/.git'>"
      ]
     },
     "execution_count": 49,
     "metadata": {},
     "output_type": "execute_result"
    }
   ],
   "source": [
    "repo"
   ]
  },
  {
   "cell_type": "code",
   "execution_count": 50,
   "id": "b4a671f4-4b14-4d07-96fe-df64aa3ebcce",
   "metadata": {},
   "outputs": [
    {
     "data": {
      "text/plain": [
       "<git.Head \"refs/heads/master\">"
      ]
     },
     "execution_count": 50,
     "metadata": {},
     "output_type": "execute_result"
    }
   ],
   "source": [
    "repo.active_branch"
   ]
  },
  {
   "cell_type": "code",
   "execution_count": 51,
   "id": "a03dbb2b-4033-4aae-982a-44fb1fe7ac85",
   "metadata": {},
   "outputs": [
    {
     "data": {
      "text/plain": [
       "<bound method Repo.archive of <git.repo.base.Repo '/media/ywatcher/ExtDisk1/Files/web_archiv_/git_repo/.git'>>"
      ]
     },
     "execution_count": 51,
     "metadata": {},
     "output_type": "execute_result"
    }
   ],
   "source": []
  },
  {
   "cell_type": "code",
   "execution_count": null,
   "id": "40a57210-eefa-4280-8445-28ad872b8b3a",
   "metadata": {},
   "outputs": [],
   "source": [
    "def update_answer(a:\"Answer\"):\n",
    "    # if not in db\n",
    "    # create a record in db\n",
    "    # create a file in git repo\n",
    "    # else\n",
    "    # get current file \n",
    "    # check unstaged change\n",
    "    # make sure no change unstaged\n",
    "    # overwrite file with current content\n",
    "    # overwrite comment list with current\n",
    "    # overwrite title if any\n",
    "    # commit with fetched date\n",
    "    # get a new node for the file\n",
    "    # save the node to vcs table:\n",
    "    # fetched date\n",
    "    # node id \n",
    "    # and \n",
    "    pass"
   ]
  },
  {
   "cell_type": "markdown",
   "id": "52eaaf11-98f0-4ec1-a47e-769a1ce0827a",
   "metadata": {},
   "source": [
    "how to merge db:\n",
    "extract content from git repo\n",
    "1. \n",
    "create a new field to your vcs table\n",
    "indicate the git repo it belongs to;\n",
    "the identifier should be commit hash<br>\n",
    "2. \n",
    "merge vcs tables<br>\n",
    "3.\n",
    "sort vcs table by date<br>\n",
    "4.\n",
    "for each node, get full content from git repo\n",
    "and commit to new git repo<br>\n",
    "\n",
    "---\n",
    "\n",
    "before merge, you can indicate the tag of each git repo <br>\n",
    "todo.\n",
    "\n",
    "\n"
   ]
  },
  {
   "cell_type": "code",
   "execution_count": null,
   "id": "93b87005-0768-4832-b051-51bb5d82da99",
   "metadata": {},
   "outputs": [],
   "source": []
  }
 ],
 "metadata": {
  "kernelspec": {
   "display_name": "web",
   "language": "python",
   "name": "web"
  },
  "language_info": {
   "codemirror_mode": {
    "name": "ipython",
    "version": 3
   },
   "file_extension": ".py",
   "mimetype": "text/x-python",
   "name": "python",
   "nbconvert_exporter": "python",
   "pygments_lexer": "ipython3",
   "version": "3.9.16"
  }
 },
 "nbformat": 4,
 "nbformat_minor": 5
}
