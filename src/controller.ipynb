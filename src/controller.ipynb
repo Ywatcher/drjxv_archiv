{
 "cells": [
  {
   "cell_type": "code",
   "execution_count": null,
   "id": "6d7465e3-bc46-4f89-b888-f153794e85d6",
   "metadata": {},
   "outputs": [],
   "source": [
    "from web_parser import AnswerParser, QuestionParser"
   ]
  },
  {
   "cell_type": "code",
   "execution_count": null,
   "id": "4c81134a-cfa7-480d-bb15-13a171690a5f",
   "metadata": {},
   "outputs": [],
   "source": [
    "q_id = 625769474"
   ]
  },
  {
   "cell_type": "code",
   "execution_count": null,
   "id": "d576c377-426b-4676-9c82-5699b5fd6044",
   "metadata": {},
   "outputs": [],
   "source": [
    "q_list = [q_id]"
   ]
  },
  {
   "cell_type": "code",
   "execution_count": null,
   "id": "2b8dbdcf-983b-4d0d-a2aa-3ca3a9a4d84c",
   "metadata": {},
   "outputs": [],
   "source": []
  },
  {
   "cell_type": "code",
   "execution_count": null,
   "id": "0466795c-e76d-4ae4-a2fb-f803955fa2c4",
   "metadata": {},
   "outputs": [],
   "source": [
    "config = {\n",
    "    \"simutaneously_scrap_and_store\": False,\n",
    "    \"nr_answer_scapers\": 2\n",
    "}"
   ]
  },
  {
   "cell_type": "markdown",
   "id": "07e5ca01-9a8e-4040-90eb-3db1f9bcee64",
   "metadata": {},
   "source": [
    "# TODO\n",
    " - [ ] test scape then store\n",
    " - [ ] test scape and store at same time"
   ]
  },
  {
   "cell_type": "code",
   "execution_count": null,
   "id": "0e6f4246-69d8-4b01-8e84-c950e5d608fd",
   "metadata": {},
   "outputs": [],
   "source": [
    "import multiprocessing\n",
    "from multiprocessing import Queue, Process"
   ]
  },
  {
   "cell_type": "code",
   "execution_count": null,
   "id": "ede6c77f-c6e6-454f-a7b2-02867706d945",
   "metadata": {},
   "outputs": [],
   "source": [
    "class Logger:\n",
    "    def __init__(self, s:str):\n",
    "        self.s  = s\n",
    "        \n",
    "    def log(self, s):\n",
    "        print(\"{}:{}\".format(self.s,s))"
   ]
  },
  {
   "cell_type": "code",
   "execution_count": null,
   "id": "0667e813-0f8e-43bd-82f9-6cd0fbaaae01",
   "metadata": {},
   "outputs": [],
   "source": [
    "from selenium import webdriver\n",
    "from pathlib import Path\n",
    "import os\n",
    "from util.repo import driver_root, database_root, drivers, git_repo_test"
   ]
  },
  {
   "cell_type": "code",
   "execution_count": null,
   "id": "6072bca5-8085-4d45-93d1-cd369d181606",
   "metadata": {},
   "outputs": [],
   "source": [
    "q_task = Queue()\n",
    "q_result = Queue()"
   ]
  },
  {
   "cell_type": "code",
   "execution_count": null,
   "id": "a055c9a7-3f1b-41ea-8fc4-979047bcf845",
   "metadata": {},
   "outputs": [],
   "source": [
    "question_driver = webdriver.Chrome(drivers[\"chrome\"])\n",
    "question_parser = QuestionParser(\n",
    "    queue_put_result=q_result,\n",
    "    queue_put_task=q_task,\n",
    "    driver=question_driver,\n",
    "    logger=Logger(\"q\")\n",
    ")\n",
    "answer_drivers = []\n",
    "answer_parsers = []\n",
    "for i in range(config[\"nr_answer_scapers\"]):\n",
    "    answer_drivers.append(\n",
    "        webdriver.Chrome(drivers[\"chrome\"])\n",
    "    )\n",
    "    answer_parsers.append(\n",
    "        AnswerParser(\n",
    "            queue_put_result=q_result,\n",
    "            queue_get_task=q_task,\n",
    "            driver=answer_drivers[i],\n",
    "            logger=Logger(\"a_{}\".format(i))\n",
    "        )\n",
    "    )\n"
   ]
  },
  {
   "cell_type": "code",
   "execution_count": 10,
   "id": "294a4eae-5a80-45a5-9872-64886740c735",
   "metadata": {},
   "outputs": [
    {
     "name": "stdout",
     "output_type": "stream",
     "text": [
      "scrap, then store\n"
     ]
    }
   ],
   "source": [
    "if not config[\"simutaneously_scrap_and_store\"]:\n",
    "    print(\"scrap, then store\")\n",
    "    targets = [\n",
    "        # target func and args\n",
    "        (question_parser.start_parsing_list, (q_list,))\n",
    "    ] + [\n",
    "        (answer_parser.start_parsing, [])\n",
    "        for answer_parser in answer_parsers\n",
    "    ]\n",
    "    \n",
    "    processes = [\n",
    "        Process(target=target_func, args=args)\n",
    "        for target_func, args in targets\n",
    "    ]\n",
    "    \n",
    "   \n",
    "    \n",
    "        \n",
    "        \n",
    "else:\n",
    "    print(1)"
   ]
  },
  {
   "cell_type": "code",
   "execution_count": null,
   "id": "74548c32-a379-474c-a808-046c9847e72a",
   "metadata": {},
   "outputs": [
    {
     "name": "stdout",
     "output_type": "stream",
     "text": [
      "625769474\n",
      "q:parsing question with id=625769474\n",
      "a_0:parsing answer with id=3252328928\n",
      "a_1:parsing answer with id=3249748730\n",
      "parsed 625769474\n",
      "fin\n",
      "a_1:parsing answer with id=3252760617\n",
      "a_0:parsing answer with id=3250133829\n",
      "a_0:parsing answer with id=3249016418\n",
      "a_1:stop\n",
      "a_0:stop\n"
     ]
    }
   ],
   "source": [
    "for p in processes:\n",
    "    p.start()\n",
    "    \n",
    "for p in processes:\n",
    "    p.join()"
   ]
  },
  {
   "cell_type": "markdown",
   "id": "15b03d84-ccf7-4aef-93ea-7834293e000e",
   "metadata": {},
   "source": [
    "https://stackoverflow.com/questions/71947784/what-does-webdriverwaitdriver-20-mean"
   ]
  },
  {
   "cell_type": "code",
   "execution_count": null,
   "id": "2782a43e-7288-48b7-ab44-5de3cc348c8e",
   "metadata": {},
   "outputs": [],
   "source": [
    "pr = lambda: print(0)\n",
    "_ = multiprocessing.Process(target=pr, args=[])\n",
    "_.start()"
   ]
  },
  {
   "cell_type": "code",
   "execution_count": null,
   "id": "7479ebcb-3e4f-4191-8030-8fd0706b750d",
   "metadata": {},
   "outputs": [],
   "source": [
    "\n",
    "_.join()"
   ]
  },
  {
   "cell_type": "code",
   "execution_count": 54,
   "id": "98f23eea-3e2e-4ede-8208-96baa7a30f41",
   "metadata": {},
   "outputs": [
    {
     "data": {
      "text/plain": [
       "<multiprocessing.queues.Queue at 0x7f5fb4a5c940>"
      ]
     },
     "execution_count": 54,
     "metadata": {},
     "output_type": "execute_result"
    }
   ],
   "source": [
    "l = []\n",
    "q_task_ = Queue()\n",
    "for i in q_task:\n",
    "    "
   ]
  },
  {
   "cell_type": "code",
   "execution_count": 55,
   "id": "c701eea8-6739-4245-915e-159d28b4faa1",
   "metadata": {},
   "outputs": [
    {
     "ename": "TypeError",
     "evalue": "'Queue' object is not iterable",
     "output_type": "error",
     "traceback": [
      "\u001b[0;31m---------------------------------------------------------------------------\u001b[0m",
      "\u001b[0;31mTypeError\u001b[0m                                 Traceback (most recent call last)",
      "Cell \u001b[0;32mIn[55], line 1\u001b[0m\n\u001b[0;32m----> 1\u001b[0m l \u001b[38;5;241m=\u001b[39m \u001b[38;5;28;43mlist\u001b[39;49m\u001b[43m(\u001b[49m\u001b[43mq_task\u001b[49m\u001b[43m)\u001b[49m\n",
      "\u001b[0;31mTypeError\u001b[0m: 'Queue' object is not iterable"
     ]
    }
   ],
   "source": [
    "l = list(q_task)"
   ]
  },
  {
   "cell_type": "code",
   "execution_count": null,
   "id": "90e42342-c266-47f6-9b2d-8b6d26a831ec",
   "metadata": {},
   "outputs": [],
   "source": []
  }
 ],
 "metadata": {
  "kernelspec": {
   "display_name": "web",
   "language": "python",
   "name": "web"
  },
  "language_info": {
   "codemirror_mode": {
    "name": "ipython",
    "version": 3
   },
   "file_extension": ".py",
   "mimetype": "text/x-python",
   "name": "python",
   "nbconvert_exporter": "python",
   "pygments_lexer": "ipython3",
   "version": "3.9.18"
  }
 },
 "nbformat": 4,
 "nbformat_minor": 5
}
