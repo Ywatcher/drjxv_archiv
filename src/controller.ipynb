{
 "cells": [
  {
   "cell_type": "code",
   "execution_count": 2,
   "id": "6d7465e3-bc46-4f89-b888-f153794e85d6",
   "metadata": {},
   "outputs": [],
   "source": [
    "from web_parser import AnswerParser, QuestionParser\n",
    "import multiprocessing\n",
    "from multiprocessing import Queue, Process\n",
    "from selenium import webdriver\n",
    "from pathlib import Path\n",
    "import os\n",
    "import yaml\n",
    "from config import drivers, nr_answer_parsers, get_db_path, get_vcs_path, get_config_path\n",
    "from data_handler import Master, init_new_repo\n",
    "from util.logger import Logger"
   ]
  },
  {
   "cell_type": "code",
   "execution_count": 3,
   "id": "d576c377-426b-4676-9c82-5699b5fd6044",
   "metadata": {},
   "outputs": [],
   "source": [
    "# 需要爬取的问题的列表\n",
    "q_list = [\n",
    "    # 623539562,\n",
    "    # 327003589\n",
    "    624316466\n",
    "]\n",
    "# 存档仓库的地址\n",
    "archiv_path = os.path.join(\n",
    "    \"/media/ywatcher/ExtDisk1/Files/web_archiv_\",\n",
    "    \"archiv_1\"\n",
    ")"
   ]
  },
  {
   "cell_type": "code",
   "execution_count": 4,
   "id": "e849e041-678d-4f12-bcbf-8db60b0494d8",
   "metadata": {},
   "outputs": [
    {
     "data": {
      "text/plain": [
       "True"
      ]
     },
     "execution_count": 4,
     "metadata": {},
     "output_type": "execute_result"
    }
   ],
   "source": [
    "os.path.exists(Path(archiv_path).parent.absolute())"
   ]
  },
  {
   "cell_type": "code",
   "execution_count": 5,
   "id": "208e0074-7631-418d-a46e-c9504c6a4e4d",
   "metadata": {},
   "outputs": [
    {
     "name": "stdout",
     "output_type": "stream",
     "text": [
      "/media/ywatcher/ExtDisk1/Files/web_archiv_/archiv_1 exists, and is not empty\n"
     ]
    }
   ],
   "source": [
    "# 初始化存档仓库，如果存档路径已经存在且不是文件夹，\n",
    "# 或者存档路径已经存在或者非空，\n",
    "# 或者存档路径的上一级目录不存在/不是文件夹，\n",
    "# 会抛出异常，并终止创建仓库。\n",
    "try:\n",
    "    init_new_repo(\n",
    "        repo_path=archiv_path,\n",
    "    )\n",
    "except Exception as e:\n",
    "    print(e)"
   ]
  },
  {
   "cell_type": "markdown",
   "id": "07e5ca01-9a8e-4040-90eb-3db1f9bcee64",
   "metadata": {},
   "source": [
    "# TODO\n",
    " - [x] test crawl then store\n",
    " - [ ] use event to communicate\n",
    " - [ ] test crawling and storing at same time\n",
    " - [x] test on a git repo\n",
    " - [x] test to create git repo and make a commit<br>\n",
    " https://stackoverflow.com/questions/71947784/what-does-webdriverwaitdriver-20-mean<br>\n",
    "https://stackoverflow.com/questions/26869200/python-queue-module-get-stuck\n",
    "\n",
    "---\n",
    " - [x] crawl author\n",
    " - [x] init git repo (partly done)\n",
    " - [x] init db (partly done)\n",
    " - [ ] merge repo\n",
    " - [ ] revert git operation\n",
    " - [x] scroll\n",
    " - [x] git message\n",
    " - [ ] configurable xpath rules\n",
    " - [ ] set logger for master\n",
    " - [ ] load pics \n",
    " - [ ] set different scroll strategy\n"
   ]
  },
  {
   "cell_type": "code",
   "execution_count": null,
   "id": "ede6c77f-c6e6-454f-a7b2-02867706d945",
   "metadata": {},
   "outputs": [],
   "source": []
  },
  {
   "cell_type": "code",
   "execution_count": 6,
   "id": "6072bca5-8085-4d45-93d1-cd369d181606",
   "metadata": {},
   "outputs": [],
   "source": [
    "# 初始化进程间交流使用的队列\n",
    "q_task = Queue()\n",
    "q_result = Queue()"
   ]
  },
  {
   "cell_type": "code",
   "execution_count": 7,
   "id": "43c4aedb-cdb2-4772-b5d9-50ccac82abe7",
   "metadata": {},
   "outputs": [],
   "source": [
    "# 根据仓库路径，初始化各个子部分的路径，并读取仓库配置文件\n",
    "db_path = get_db_path(archiv_repo_path=archiv_path)\n",
    "vcs_path = get_vcs_path(archiv_repo_path=archiv_path)\n",
    "repo_config_path = get_config_path(archiv_repo_path=archiv_path)\n",
    "repo_config = yaml.safe_load(open(repo_config_path, 'r')) "
   ]
  },
  {
   "cell_type": "code",
   "execution_count": 8,
   "id": "249b0fd5-9c2e-483b-bd17-1f7ae01d3d39",
   "metadata": {},
   "outputs": [
    {
     "data": {
      "text/plain": [
       "{'owner_email': 'me@email', 'owner_name': 'me'}"
      ]
     },
     "execution_count": 8,
     "metadata": {},
     "output_type": "execute_result"
    }
   ],
   "source": [
    "repo_config"
   ]
  },
  {
   "cell_type": "code",
   "execution_count": 9,
   "id": "a055c9a7-3f1b-41ea-8fc4-979047bcf845",
   "metadata": {},
   "outputs": [],
   "source": [
    "# 初始化 selenium web driver 和爬取器\n",
    "# 初始化 web driver 时，会有相应的窗口\n",
    "# 打开\n",
    "# 初始化问题爬取器\n",
    "question_driver = webdriver.Chrome(drivers[\"chrome\"])\n",
    "question_parser = QuestionParser(\n",
    "    queue_put_result=q_result,\n",
    "    queue_put_task=q_task,\n",
    "    driver=question_driver,\n",
    "    logger=Logger(\"q\")\n",
    ")\n",
    "# 初始化多个回答爬取器\n",
    "answer_drivers = []\n",
    "answer_parsers = []\n",
    "for i in range(nr_answer_parsers):\n",
    "    answer_drivers.append(\n",
    "        webdriver.Chrome(drivers[\"chrome\"])\n",
    "    )\n",
    "    answer_parsers.append(\n",
    "        AnswerParser(\n",
    "            queue_put_result=q_result,\n",
    "            queue_get_task=q_task,\n",
    "            driver=answer_drivers[i],\n",
    "            logger=Logger(\"a_{}\".format(i))\n",
    "        )\n",
    "    )\n",
    "# 初始化爬取结果处理器\n",
    "master = Master(\n",
    "    db_path=db_path,\n",
    "    git_repo_path=vcs_path\n",
    ")\n"
   ]
  },
  {
   "cell_type": "code",
   "execution_count": 10,
   "id": "294a4eae-5a80-45a5-9872-64886740c735",
   "metadata": {},
   "outputs": [],
   "source": [
    "# 初始化爬取器和处理器的进程\n",
    "targets = [\n",
    "    # target func and args\n",
    "    (question_parser.start_parsing_list, (q_list,))\n",
    "] + [\n",
    "    (answer_parser.start_parsing, [])\n",
    "    for answer_parser in answer_parsers\n",
    "] + [\n",
    "    # (master.start, (config[\"commiter_name\"],config[\"commiter_email\"],q_result))\n",
    "    (master.start_parse, (\n",
    "        repo_config['owner_name'],\n",
    "        repo_config[\"owner_email\"],\n",
    "        q_result\n",
    "    ))\n",
    "]\n",
    "\n",
    "\n",
    "processes = [\n",
    "    Process(target=target_func, args=args)\n",
    "    for target_func, args in targets\n",
    "]\n",
    "\n",
    "\n",
    "\n",
    "\n"
   ]
  },
  {
   "cell_type": "code",
   "execution_count": 11,
   "id": "db08d92b-29c0-468c-bfea-e4f20277b738",
   "metadata": {},
   "outputs": [
    {
     "name": "stdout",
     "output_type": "stream",
     "text": [
      "624316466\n",
      "q: parsing question with id=624316466\n",
      "q: Scrolled to bottom.\n",
      "a_0: parsing answer with id=3231891300\n",
      "a_1: parsing answer with id=3231687115\n",
      "a_2: parsing answer with id=3233322005\n",
      "q: parsed 624316466\n",
      "q: fin\n",
      "a_0: parsing answer with id=3232043923\n",
      "a_2: parsing answer with id=3232542923\n",
      "a_1: parsing answer with id=3231673839\n",
      "a_2: parsing answer with id=3232757331\n",
      "a_0: parsing answer with id=3233434244\n",
      "a_1: parsing answer with id=3232887153\n",
      "a_2: parsing answer with id=3232379001\n",
      "a_1: parsing answer with id=3234150650\n",
      "a_0: parsing answer with id=3232693304\n",
      "a_2: parsing answer with id=3233178056\n",
      "a_0: parsing answer with id=3233643704\n",
      "a_1: parsing answer with id=3233851495\n",
      "a_2: parsing answer with id=3232816339\n",
      "a_0: parsing answer with id=3232755057\n",
      "a_1: parsing answer with id=3238810287\n",
      "a_2: parsing answer with id=3233049526\n",
      "a_0: parsing answer with id=3250888586\n",
      "a_2: parsing answer with id=3232837658\n",
      "a_0: parsing answer with id=3231817684\n",
      "a_1: parsing answer with id=3232815705\n",
      "a_2: parsing answer with id=3232799275\n",
      "a_0: parsing answer with id=3239710852\n",
      "a_1: parsing answer with id=3238458837\n",
      "a_2: parsing answer with id=3232927216\n",
      "a_0: parsing answer with id=3247720633\n",
      "a_1: parsing answer with id=3233701447\n",
      "a_2: parsing answer with id=3233023105\n",
      "a_1: parsing answer with id=3232781679\n",
      "a_0: parsing answer with id=3235738592\n",
      "a_2: parsing answer with id=3233946304\n",
      "a_1: parsing answer with id=3233905578\n",
      "a_0: parsing answer with id=3236319721\n",
      "a_2: parsing answer with id=3234786839\n",
      "a_1: parsing answer with id=3236952265\n",
      "a_0: parsing answer with id=3233895239\n",
      "a_2: parsing answer with id=3232755879\n",
      "a_1: parsing answer with id=3232978294\n",
      "a_0: parsing answer with id=3232675457\n",
      "a_2: parsing answer with id=3232184237\n",
      "a_1: parsing answer with id=3234939572\n",
      "a_0: parsing answer with id=3233636513\n",
      "a_2: parsing answer with id=3232759887\n",
      "a_1: parsing answer with id=3233408429\n",
      "a_0: parsing answer with id=3236580823\n",
      "a_1: parsing answer with id=3232193480\n",
      "a_2: parsing answer with id=3239828785\n",
      "a_0: parsing answer with id=3234725333\n",
      "a_2: parsing answer with id=3236942049\n",
      "a_1: parsing answer with id=3232027025\n",
      "a_0: parsing answer with id=3234084852\n",
      "a_2: parsing answer with id=3235172686\n",
      "a_1: parsing answer with id=3232717971\n",
      "a_0: parsing answer with id=3233963892\n",
      "a_1: parsing answer with id=3232820593\n",
      "a_2: parsing answer with id=3232204863\n",
      "a_0: parsing answer with id=3236381596\n",
      "a_1: parsing answer with id=3239505594\n",
      "a_2: parsing answer with id=3236658709\n",
      "a_1: parsing answer with id=3232944219\n",
      "a_0: parsing answer with id=3232503807\n",
      "a_0: parsing answer with id=3232565934\n",
      "a_1: parsing answer with id=3232731412\n",
      "a_2: parsing answer with id=3234493355\n",
      "a_2: parsing answer with id=3235817330\n",
      "a_1: parsing answer with id=3232337336\n",
      "a_0: parsing answer with id=3232497589\n",
      "a_2: parsing answer with id=3234024109\n",
      "a_1: parsing answer with id=3241280071\n",
      "a_0: parsing answer with id=3233588245\n",
      "a_2: parsing answer with id=3232270868\n",
      "a_1: parsing answer with id=3234755118\n",
      "a_0: parsing answer with id=3233712348\n",
      "a_2: parsing answer with id=3232933984\n",
      "a_1: parsing answer with id=3233611207\n",
      "a_0: parsing answer with id=3234106621\n",
      "a_2: parsing answer with id=3235306103\n",
      "a_1: parsing answer with id=3233904818\n",
      "a_0: parsing answer with id=3237650913\n",
      "a_2: parsing answer with id=3231680854\n",
      "a_1: parsing answer with id=3245118848\n",
      "a_2: parsing answer with id=3232707597\n",
      "a_1: parsing answer with id=3234285119\n",
      "a_0: parsing answer with id=3232899364\n",
      "a_2: parsing answer with id=3233810726\n",
      "a_0: parsing answer with id=3233618107\n",
      "a_1: parsing answer with id=3232330016\n",
      "a_2: parsing answer with id=3242052388\n",
      "a_0: parsing answer with id=3237125904\n",
      "a_1: parsing answer with id=3234300216\n",
      "a_2: parsing answer with id=3232625781\n",
      "a_0: parsing answer with id=3232706386\n",
      "a_1: parsing answer with id=3233560116\n",
      "a_2: parsing answer with id=3234323103\n",
      "a_0: parsing answer with id=3232648205\n",
      "a_1: parsing answer with id=3232683577\n",
      "a_2: parsing answer with id=3233975382\n",
      "a_0: parsing answer with id=3235531237\n",
      "a_1: parsing answer with id=3247396339\n",
      "a_2: parsing answer with id=3234271484\n",
      "a_0: parsing answer with id=3233577247\n",
      "a_1: parsing answer with id=3233592092\n",
      "a_2: parsing answer with id=3232797437\n",
      "a_0: parsing answer with id=3237575827\n",
      "a_1: parsing answer with id=3245907173\n",
      "a_2: parsing answer with id=3232018828\n",
      "a_0: parsing answer with id=3239658154\n",
      "a_1: parsing answer with id=3233829663\n",
      "a_2: parsing answer with id=3232934648\n",
      "a_0: parsing answer with id=3271345793\n",
      "a_2: parsing answer with id=3240158241\n",
      "a_0: parsing answer with id=3233006618\n",
      "a_1: parsing answer with id=3233010050\n",
      "a_2: parsing answer with id=3233629906\n",
      "a_1: parsing answer with id=3232846757\n",
      "a_0: parsing answer with id=3260466721\n",
      "a_2: parsing answer with id=3233664358\n",
      "a_1: parsing answer with id=3232401189\n",
      "a_2: parsing answer with id=3236480451\n",
      "a_0: parsing answer with id=3237166994\n",
      "a_1: parsing answer with id=3236651568\n",
      "a_2: parsing answer with id=3232866032\n",
      "a_0: parsing answer with id=3232907908\n",
      "a_1: parsing answer with id=3233918672\n",
      "a_0: parsing answer with id=3233663807\n",
      "a_2: parsing answer with id=3233697324\n",
      "a_0: parsing answer with id=3242526092\n",
      "a_2: parsing answer with id=3239202048\n",
      "a_1: parsing answer with id=3247258305\n",
      "a_1: parsing answer with id=3233006374\n",
      "a_0: parsing answer with id=3237975823\n",
      "a_2: parsing answer with id=3239447670\n",
      "a_2: parsing answer with id=3233688190\n",
      "a_0: parsing answer with id=3244566994\n",
      "a_1: parsing answer with id=3238348906\n",
      "a_2: parsing answer with id=3235161046\n",
      "a_0: parsing answer with id=3236601057\n",
      "a_1: parsing answer with id=3232634393\n",
      "a_2: parsing answer with id=3238128343\n",
      "a_0: parsing answer with id=3233138978\n",
      "a_2: parsing answer with id=3233205069\n",
      "a_1: parsing answer with id=3233087743\n",
      "a_0: parsing answer with id=3244687573\n",
      "a_2: parsing answer with id=3233084568\n",
      "a_1: parsing answer with id=3233732477\n",
      "a_2: parsing answer with id=3231845423\n",
      "a_0: parsing answer with id=3239824710\n",
      "a_1: parsing answer with id=3235265698\n",
      "a_2: parsing answer with id=3244366774\n",
      "a_0: parsing answer with id=3235107704\n",
      "a_1: parsing answer with id=3235561629\n",
      "a_2: parsing answer with id=3237929622\n",
      "a_0: parsing answer with id=3233284396\n",
      "a_1: parsing answer with id=3231882155\n",
      "a_2: parsing answer with id=3234267441\n",
      "a_0: parsing answer with id=3233247640\n",
      "a_1: parsing answer with id=3235269236\n",
      "a_1: parsing answer with id=3232916571\n",
      "a_2: parsing answer with id=3232878529\n",
      "a_0: parsing answer with id=3241319999\n",
      "a_1: parsing answer with id=3234783059\n",
      "a_2: parsing answer with id=3242597769\n",
      "a_0: parsing answer with id=3238899489\n",
      "a_1: stop\n",
      "a_1: put\n",
      "a_1: out\n",
      "a_2: stop\n",
      "a_2: put\n",
      "a_2: out\n",
      "a_0: stop\n",
      "a_0: put\n",
      "a_0: out\n"
     ]
    }
   ],
   "source": [
    "# 开启爬取进程\n",
    "# 目前滚动爬取的机制不够完善，可以暂时点开\n",
    "# 爬取问题的 webdriver 窗口，并手动辅助\n",
    "# 滚动，否则问题下的答案爬取将过早结束；\n",
    "# 之后将完善不同的模拟滚动策略\n",
    "for p in processes[:-1]:\n",
    "    p.start()"
   ]
  },
  {
   "cell_type": "code",
   "execution_count": 12,
   "id": "12d869b4-79cc-45ad-aafa-0cadf2fea7a1",
   "metadata": {
    "tags": []
   },
   "outputs": [],
   "source": [
    "# 开启处理进程\n",
    "processes[-1].start()\n",
    "# 结束所有进程\n",
    "for p in processes:\n",
    "    p.join()"
   ]
  },
  {
   "cell_type": "markdown",
   "id": "9ba3bc8e-c892-4ac6-865c-6cb36c0fe225",
   "metadata": {},
   "source": [
    "search:process queue self._wait_for_tstate_lock() "
   ]
  },
  {
   "cell_type": "code",
   "execution_count": 43,
   "id": "9038aa7d-3150-47bb-9c77-b606310cc947",
   "metadata": {},
   "outputs": [],
   "source": []
  },
  {
   "cell_type": "code",
   "execution_count": null,
   "id": "c41d1ca8-2974-45f6-ad2f-323f21a09ec2",
   "metadata": {},
   "outputs": [],
   "source": [
    "class Controller:\n",
    "    def __init__(\n",
    "        self, \n",
    "    ):\n",
    "        self.processes = []\n",
    "        pass"
   ]
  }
 ],
 "metadata": {
  "kernelspec": {
   "display_name": "web",
   "language": "python",
   "name": "web"
  },
  "language_info": {
   "codemirror_mode": {
    "name": "ipython",
    "version": 3
   },
   "file_extension": ".py",
   "mimetype": "text/x-python",
   "name": "python",
   "nbconvert_exporter": "python",
   "pygments_lexer": "ipython3",
   "version": "3.9.18"
  }
 },
 "nbformat": 4,
 "nbformat_minor": 5
}
