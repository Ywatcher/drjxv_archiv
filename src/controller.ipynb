{
 "cells": [
  {
   "cell_type": "code",
   "execution_count": 2,
   "id": "6d7465e3-bc46-4f89-b888-f153794e85d6",
   "metadata": {},
   "outputs": [],
   "source": [
    "from web_parser import AnswerParser, QuestionParser\n",
    "import multiprocessing\n",
    "from multiprocessing import Queue, Process\n",
    "from selenium import webdriver\n",
    "from pathlib import Path\n",
    "import os\n",
    "import yaml\n",
    "from config import drivers, nr_answer_parsers, get_db_path, get_vcs_path, get_config_path\n",
    "from data_handler import Master, init_new_repo, update_database\n",
    "from util.logger import Logger"
   ]
  },
  {
   "cell_type": "code",
   "execution_count": 3,
   "id": "d576c377-426b-4676-9c82-5699b5fd6044",
   "metadata": {},
   "outputs": [],
   "source": [
    "# 需要爬取的问题的列表\n",
    "q_list = [\n",
    "    # 623539562,\n",
    "    # 327003589\n",
    "    # 624316466\n",
    "    524257471\n",
    "]\n",
    "# 存档仓库的地址 # 请修改为您的地址\n",
    "archiv_path = os.path.join(\n",
    "    \"/media/ywatcher/ExtDisk1/Files/web_archiv_\",\n",
    "    \"archiv_1\"\n",
    ")\n",
    "# archiv_path = \"your/path\""
   ]
  },
  {
   "cell_type": "code",
   "execution_count": 4,
   "id": "4c00ecdc-93a1-4e6c-9dc8-a169da929ef1",
   "metadata": {},
   "outputs": [
    {
     "name": "stdout",
     "output_type": "stream",
     "text": [
      "2.6.0\n"
     ]
    }
   ],
   "source": [
    "# if you have an old version repo\n",
    "update_database(repo_path=archiv_path)"
   ]
  },
  {
   "cell_type": "code",
   "execution_count": 5,
   "id": "208e0074-7631-418d-a46e-c9504c6a4e4d",
   "metadata": {},
   "outputs": [
    {
     "name": "stdout",
     "output_type": "stream",
     "text": [
      "/media/ywatcher/ExtDisk1/Files/web_archiv_/archiv_1 exists, and is not empty\n"
     ]
    }
   ],
   "source": [
    "# 初始化存档仓库，如果存档路径已经存在且不是文件夹，\n",
    "# 或者存档路径已经存在或者非空，\n",
    "# 或者存档路径的上一级目录不存在/不是文件夹，\n",
    "# 会抛出异常，并终止创建仓库。\n",
    "try:\n",
    "    init_new_repo(\n",
    "        repo_path=archiv_path,\n",
    "    )\n",
    "except Exception as e:\n",
    "    print(e)"
   ]
  },
  {
   "cell_type": "code",
   "execution_count": null,
   "id": "ede6c77f-c6e6-454f-a7b2-02867706d945",
   "metadata": {},
   "outputs": [],
   "source": [
    "from data_handler.database import DataBase\n",
    "DataBase.init_database(archiv_path)"
   ]
  },
  {
   "cell_type": "code",
   "execution_count": 17,
   "id": "6072bca5-8085-4d45-93d1-cd369d181606",
   "metadata": {},
   "outputs": [],
   "source": [
    "# 初始化进程间交流使用的队列\n",
    "q_task = Queue()\n",
    "q_result = Queue()"
   ]
  },
  {
   "cell_type": "markdown",
   "id": "07e5ca01-9a8e-4040-90eb-3db1f9bcee64",
   "metadata": {},
   "source": [
    "如果一个进程 `p` 使用进程队列 `q` 并往里面放入数据，\n",
    "那么当队列 `q` 在读入大量数据之后，需要将 `q` 中大部\n",
    "分数据取出后，进程 `p` 才能执行 `.join()`；否则可能\n",
    "会在 `join()` 时阻塞，此时内部执行的函数是等待 `q` \n",
    "拿到它的线程锁（队列 `q` 维护了一个它自己的线程）.<br>\n",
    "https://stackoverflow.com/questions/71947784/what-does-webdriverwaitdriver-20-mean<br>\n",
    "https://stackoverflow.com/questions/26869200/python-queue-module-get-stuck\n",
    "\n"
   ]
  },
  {
   "cell_type": "code",
   "execution_count": 7,
   "id": "43c4aedb-cdb2-4772-b5d9-50ccac82abe7",
   "metadata": {},
   "outputs": [],
   "source": [
    "# 根据仓库路径，初始化各个子部分的路径，并读取仓库配置文件\n",
    "db_path = get_db_path(archiv_repo_path=archiv_path)\n",
    "vcs_path = get_vcs_path(archiv_repo_path=archiv_path)\n",
    "repo_config_path = get_config_path(archiv_repo_path=archiv_path)\n",
    "repo_config = yaml.safe_load(open(repo_config_path, 'r')) "
   ]
  },
  {
   "cell_type": "code",
   "execution_count": 8,
   "id": "249b0fd5-9c2e-483b-bd17-1f7ae01d3d39",
   "metadata": {},
   "outputs": [
    {
     "data": {
      "text/plain": [
       "{'owner_email': 'me@email', 'owner_name': 'me'}"
      ]
     },
     "execution_count": 8,
     "metadata": {},
     "output_type": "execute_result"
    }
   ],
   "source": [
    "repo_config"
   ]
  },
  {
   "cell_type": "code",
   "execution_count": 18,
   "id": "a055c9a7-3f1b-41ea-8fc4-979047bcf845",
   "metadata": {},
   "outputs": [],
   "source": [
    "# 初始化 selenium web driver 和爬取器\n",
    "# 初始化 web driver 时，会有相应的窗口\n",
    "# 打开\n",
    "# 初始化问题爬取器\n",
    "question_driver = webdriver.Chrome(drivers[\"chrome\"])\n",
    "question_parser = QuestionParser(\n",
    "    queue_put_result=q_result,\n",
    "    queue_put_task=q_task,\n",
    "    driver=question_driver,\n",
    "    logger=Logger(\"q\")\n",
    ")\n",
    "# 初始化多个回答爬取器\n",
    "answer_drivers = []\n",
    "answer_parsers = []\n",
    "for i in range(nr_answer_parsers):\n",
    "    answer_drivers.append(\n",
    "        webdriver.Chrome(drivers[\"chrome\"])\n",
    "    )\n",
    "    answer_parsers.append(\n",
    "        AnswerParser(\n",
    "            queue_put_result=q_result,\n",
    "            queue_get_task=q_task,\n",
    "            driver=answer_drivers[i],\n",
    "            logger=Logger(\"a_{}\".format(i))\n",
    "        )\n",
    "    )\n",
    "# 初始化爬取结果处理器\n",
    "master = Master(\n",
    "    db_path=db_path,\n",
    "    git_repo_path=vcs_path\n",
    ")\n"
   ]
  },
  {
   "cell_type": "code",
   "execution_count": 19,
   "id": "294a4eae-5a80-45a5-9872-64886740c735",
   "metadata": {},
   "outputs": [],
   "source": [
    "# 初始化爬取器和处理器的进程\n",
    "targets = [\n",
    "    # target func and args\n",
    "    (question_parser.start_parsing_list, (q_list,))\n",
    "] + [\n",
    "    (answer_parser.start_parsing, [])\n",
    "    for answer_parser in answer_parsers\n",
    "] + [\n",
    "    # (master.start, (config[\"commiter_name\"],config[\"commiter_email\"],q_result))\n",
    "    (master.start_parse, (\n",
    "        repo_config['owner_name'],\n",
    "        repo_config[\"owner_email\"],\n",
    "        q_result\n",
    "    ))\n",
    "]\n",
    "\n",
    "\n",
    "processes = [\n",
    "    Process(target=target_func, args=args)\n",
    "    for target_func, args in targets\n",
    "]\n",
    "\n",
    "\n",
    "\n",
    "\n"
   ]
  },
  {
   "cell_type": "code",
   "execution_count": 20,
   "id": "db08d92b-29c0-468c-bfea-e4f20277b738",
   "metadata": {},
   "outputs": [
    {
     "name": "stdout",
     "output_type": "stream",
     "text": [
      "524257471\n",
      "q: parsing question with id=524257471\n",
      "q: Scrolled to bottom.\n",
      "a_0: parsing answer with id=2416068964\n",
      "a_1: parsing answer with id=2420199852\n",
      "a_2: parsing answer with id=2414300487\n",
      "q: parsed 524257471\n",
      "q: fin\n",
      "a_2: parsing answer with id=2409004144\n",
      "a_1: parsing answer with id=2420509046\n"
     ]
    },
    {
     "name": "stderr",
     "output_type": "stream",
     "text": [
      "Traceback (most recent call last):\n",
      "  File \"/home/ywatcher/anaconda3/envs/web/lib/python3.9/multiprocessing/queues.py\", line 244, in _feed\n",
      "    obj = _ForkingPickler.dumps(obj)\n",
      "  File \"/home/ywatcher/anaconda3/envs/web/lib/python3.9/multiprocessing/reduction.py\", line 51, in dumps\n",
      "    cls(buf, protocol).dump(obj)\n",
      "RecursionError: maximum recursion depth exceeded while pickling an object\n"
     ]
    },
    {
     "name": "stdout",
     "output_type": "stream",
     "text": [
      "a_0: parsing answer with id=2420828250\n",
      "a_2: parsing answer with id=2423870218\n",
      "a_1: parsing answer with id=2418549065\n",
      "a_0: parsing answer with id=2410792129\n",
      "a_1: parsing answer with id=2480469446\n",
      "a_0: parsing answer with id=2428001195\n",
      "a_2: parsing answer with id=2416538542\n",
      "a_1: parsing answer with id=2480969858\n",
      "a_0: parsing answer with id=2414576015\n",
      "a_2: parsing answer with id=2497172256\n",
      "a_1: parsing answer with id=2420423221\n",
      "a_0: parsing answer with id=2420660557\n",
      "a_2: parsing answer with id=2439752004\n",
      "a_1: parsing answer with id=2417096101\n",
      "a_0: parsing answer with id=2485879406\n",
      "a_2: parsing answer with id=2429517879\n",
      "a_0: parsing answer with id=2421552954\n",
      "a_2: parsing answer with id=2420192937\n",
      "a_1: parsing answer with id=2417259863\n",
      "a_2: parsing answer with id=2416205865\n",
      "a_0: parsing answer with id=2409174634\n",
      "a_1: parsing answer with id=2852801503\n",
      "a_2: stop\n",
      "a_2: put\n",
      "a_2: out\n",
      "a_0: stop\n",
      "a_0: put\n",
      "a_0: out\n",
      "a_1: stop\n",
      "a_1: put\n",
      "a_1: out\n"
     ]
    }
   ],
   "source": [
    "# 开启爬取进程\n",
    "# 目前滚动爬取的机制不够完善，可以暂时点开\n",
    "# 爬取问题的 webdriver 窗口，并手动辅助\n",
    "# 滚动，否则问题下的答案爬取将过早结束；\n",
    "# 之后将完善不同的模拟滚动策略\n",
    "for p in processes[:-1]:\n",
    "    p.start()"
   ]
  },
  {
   "cell_type": "code",
   "execution_count": 21,
   "id": "12d869b4-79cc-45ad-aafa-0cadf2fea7a1",
   "metadata": {
    "tags": []
   },
   "outputs": [],
   "source": [
    "# 开启处理进程\n",
    "processes[-1].start()\n",
    "# 结束所有进程\n",
    "for p in processes:\n",
    "    p.join()"
   ]
  },
  {
   "cell_type": "code",
   "execution_count": null,
   "id": "c41d1ca8-2974-45f6-ad2f-323f21a09ec2",
   "metadata": {},
   "outputs": [],
   "source": [
    "class Controller:\n",
    "    def __init__(\n",
    "        self, \n",
    "    ):\n",
    "        self.processes = []\n",
    "        pass"
   ]
  }
 ],
 "metadata": {
  "kernelspec": {
   "display_name": "web",
   "language": "python",
   "name": "web"
  },
  "language_info": {
   "codemirror_mode": {
    "name": "ipython",
    "version": 3
   },
   "file_extension": ".py",
   "mimetype": "text/x-python",
   "name": "python",
   "nbconvert_exporter": "python",
   "pygments_lexer": "ipython3",
   "version": "3.9.18"
  }
 },
 "nbformat": 4,
 "nbformat_minor": 5
}
