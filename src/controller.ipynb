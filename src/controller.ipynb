{
 "cells": [
  {
   "cell_type": "code",
   "execution_count": 1,
   "id": "6d7465e3-bc46-4f89-b888-f153794e85d6",
   "metadata": {},
   "outputs": [],
   "source": [
    "from web_parser import AnswerParser, QuestionParser\n",
    "import multiprocessing\n",
    "from multiprocessing import Queue, Process\n",
    "from selenium import webdriver\n",
    "from pathlib import Path\n",
    "import os\n",
    "from util.repo import driver_root, database_root, drivers, git_repo_test"
   ]
  },
  {
   "cell_type": "code",
   "execution_count": 2,
   "id": "d576c377-426b-4676-9c82-5699b5fd6044",
   "metadata": {},
   "outputs": [],
   "source": [
    "q_id = 625769474\n",
    "q_list = [q_id]\n",
    "config = {\n",
    "    \"simutaneously_scrap_and_store\": False,\n",
    "    \"nr_answer_scapers\": 2,\n",
    "    \"commiter_name\":\"test\",\n",
    "    \"commiter_email\":\"test@mal.com\"\n",
    "}"
   ]
  },
  {
   "cell_type": "markdown",
   "id": "07e5ca01-9a8e-4040-90eb-3db1f9bcee64",
   "metadata": {},
   "source": [
    "# TODO\n",
    " - [x] test scrap then store\n",
    " - [ ] test scrap and store at same time\n",
    " - [x] test on a git repo\n",
    " - [ ] test to create git repo and make a commit<br>\n",
    " https://stackoverflow.com/questions/71947784/what-does-webdriverwaitdriver-20-mean<br>\n",
    "https://stackoverflow.com/questions/26869200/python-queue-module-get-stuck\n",
    "\n",
    "---\n",
    " - [ ] scrap author\n",
    " - [ ] init git repo\n",
    " - [ ] init db\n"
   ]
  },
  {
   "cell_type": "code",
   "execution_count": 3,
   "id": "ede6c77f-c6e6-454f-a7b2-02867706d945",
   "metadata": {},
   "outputs": [],
   "source": [
    "class Logger:\n",
    "    def __init__(self, s:str):\n",
    "        self.s  = s\n",
    "        \n",
    "    def log(self, s):\n",
    "        print(\"{}:{}\".format(self.s,s))"
   ]
  },
  {
   "cell_type": "code",
   "execution_count": 4,
   "id": "6072bca5-8085-4d45-93d1-cd369d181606",
   "metadata": {},
   "outputs": [],
   "source": [
    "q_task = Queue()\n",
    "q_result = Queue()"
   ]
  },
  {
   "cell_type": "code",
   "execution_count": 5,
   "id": "8e79146c-8ecc-49b6-bf33-e6b8e4ed037f",
   "metadata": {},
   "outputs": [],
   "source": [
    "class TestParser:\n",
    "    def f(self):\n",
    "        print(\"start\")\n",
    "        # return\n",
    "        i = 9\n",
    "        while True:\n",
    "            i-=1\n",
    "            print(i)\n",
    "            if i<=0:\n",
    "                break\n",
    "                \n",
    "        print(\"get_out\")\n",
    "# t = TestParser()\n",
    "# t.start_parsing()"
   ]
  },
  {
   "cell_type": "code",
   "execution_count": null,
   "id": "b7881dcb-2966-4ae3-91e8-bfe82ad9c0ed",
   "metadata": {},
   "outputs": [],
   "source": [
    "class Controller:\n",
    "    def __init__(\n",
    "        self, \n",
    "    ):\n",
    "        self.processes = []\n",
    "        pass"
   ]
  },
  {
   "cell_type": "code",
   "execution_count": 6,
   "id": "a055c9a7-3f1b-41ea-8fc4-979047bcf845",
   "metadata": {},
   "outputs": [],
   "source": [
    "question_driver = webdriver.Chrome(drivers[\"chrome\"])\n",
    "question_parser = QuestionParser(\n",
    "    queue_put_result=q_result,\n",
    "    queue_put_task=q_task,\n",
    "    driver=question_driver,\n",
    "    logger=Logger(\"q\")\n",
    ")\n",
    "answer_drivers = []\n",
    "answer_parsers = []\n",
    "for i in range(config[\"nr_answer_scapers\"]):\n",
    "    answer_drivers.append(\n",
    "        webdriver.Chrome(drivers[\"chrome\"])\n",
    "    )\n",
    "    answer_parsers.append(\n",
    "        AnswerParser(\n",
    "            queue_put_result=q_result,\n",
    "            queue_get_task=q_task,\n",
    "            driver=answer_drivers[i],\n",
    "            logger=Logger(\"a_{}\".format(i))\n",
    "        )\n",
    "    )\n"
   ]
  },
  {
   "cell_type": "code",
   "execution_count": 7,
   "id": "294a4eae-5a80-45a5-9872-64886740c735",
   "metadata": {},
   "outputs": [
    {
     "name": "stdout",
     "output_type": "stream",
     "text": [
      "scrap, then store\n"
     ]
    }
   ],
   "source": [
    "if not config[\"simutaneously_scrap_and_store\"]:\n",
    "    print(\"scrap, then store\")\n",
    "    targets = [\n",
    "        # target func and args\n",
    "        (question_parser.start_parsing_list, (q_list,))\n",
    "    ] + [\n",
    "        (answer_parser.start_parsing, [])\n",
    "        for answer_parser in answer_parsers\n",
    "    ]\n",
    "    \n",
    "    processes = [\n",
    "        Process(target=target_func, args=args)\n",
    "        for target_func, args in targets\n",
    "    ]\n",
    "    \n",
    "   \n",
    "    \n",
    "        \n",
    "        \n",
    "else:\n",
    "    print(1)"
   ]
  },
  {
   "cell_type": "code",
   "execution_count": 8,
   "id": "74548c32-a379-474c-a808-046c9847e72a",
   "metadata": {},
   "outputs": [
    {
     "name": "stdout",
     "output_type": "stream",
     "text": [
      "625769474\n",
      "\n",
      "q:parsing question with id=625769474a_0:parsing answer with id=3252328928\n",
      "a_1:parsing answer with id=3249748730\n",
      "parsed 625769474\n",
      "fin\n",
      "a_1:parsing answer with id=3252760617\n",
      "a_0:parsing answer with id=3250133829\n",
      "a_0:parsing answer with id=3249016418\n",
      "a_1:stop\n",
      "a_1:put\n",
      "a_1:out\n",
      "a_0:stop\n",
      "a_0:put\n",
      "a_0:out\n"
     ]
    }
   ],
   "source": [
    "for p in processes:\n",
    "    p.start()\n",
    "    \n",
    "# for p in processes:\n",
    "#     p.join()"
   ]
  },
  {
   "cell_type": "code",
   "execution_count": 9,
   "id": "12d869b4-79cc-45ad-aafa-0cadf2fea7a1",
   "metadata": {
    "tags": []
   },
   "outputs": [],
   "source": [
    "# processes[0]._popen\n",
    "# processes[0].start()\n",
    "# l = processes[0]._popen"
   ]
  },
  {
   "cell_type": "code",
   "execution_count": 10,
   "id": "7c279fc9-1a62-4437-856e-4c9d6f90a978",
   "metadata": {},
   "outputs": [],
   "source": [
    "# type(l)"
   ]
  },
  {
   "cell_type": "markdown",
   "id": "9ba3bc8e-c892-4ac6-865c-6cb36c0fe225",
   "metadata": {},
   "source": [
    "search:process queue self._wait_for_tstate_lock() "
   ]
  },
  {
   "cell_type": "code",
   "execution_count": 9,
   "id": "4d7781f6-617a-4c4b-8925-3d7e850da501",
   "metadata": {},
   "outputs": [],
   "source": [
    "from data_handler.master import Master\n",
    "from data_handler.database import DataBase"
   ]
  },
  {
   "cell_type": "code",
   "execution_count": 10,
   "id": "cc324775-d9e7-4433-b3ae-fd4f650184f7",
   "metadata": {},
   "outputs": [],
   "source": [
    "db_path = os.path.join(database_root, \"test.2.db\")"
   ]
  },
  {
   "cell_type": "code",
   "execution_count": 11,
   "id": "468adf0d-c9be-4dce-bf03-34c45c3ce044",
   "metadata": {},
   "outputs": [
    {
     "name": "stdout",
     "output_type": "stream",
     "text": [
      "2.6.0\n",
      "2caed99f0a1d7a82f3f4ef0de9b003b1c2c76a37\n"
     ]
    }
   ],
   "source": [
    "# warning : another branch\n",
    "\n",
    "DataBase.init_database(db_file=db_path)\n",
    "# TODO: move to GitOperor.create_repo\n",
    "from git import Repo\n",
    "repo_ = Repo(git_repo_test)\n",
    "print(repo_.head.object.hexsha)\n",
    "with DataBase(db_path) as db:\n",
    "    db.update_git_head(repo_.head.object.hexsha,to_commit=True)"
   ]
  },
  {
   "cell_type": "code",
   "execution_count": 14,
   "id": "c38d29d0-fbdc-4a42-a0b1-d2211bce5429",
   "metadata": {},
   "outputs": [],
   "source": [
    "results = []\n",
    "while not q_result.empty():\n",
    "# for r in q_result:\n",
    "    r = q_result.get()\n",
    "    results.append(r)"
   ]
  },
  {
   "cell_type": "code",
   "execution_count": 12,
   "id": "24feb435-a408-4652-be97-273dcbc87be4",
   "metadata": {},
   "outputs": [],
   "source": [
    "master = Master(\n",
    "    db_path=db_path,\n",
    "    git_repo_path=git_repo_test\n",
    ")"
   ]
  },
  {
   "cell_type": "code",
   "execution_count": 16,
   "id": "29cb232f-3d59-4df3-8582-62cc5235bd7e",
   "metadata": {},
   "outputs": [
    {
     "name": "stdout",
     "output_type": "stream",
     "text": [
      "tzoffset('UTC+0', -28800)\n",
      "UTC\n",
      "tzoffset('UTC+0', -28800)\n",
      "UTC\n",
      "tzoffset('UTC+0', -28800)\n",
      "UTC\n",
      "tzoffset('UTC+0', -28800)\n",
      "UTC\n",
      "tzoffset('UTC+0', -28800)\n",
      "UTC\n",
      "tzoffset('UTC+0', -28800)\n",
      "UTC\n"
     ]
    }
   ],
   "source": [
    "\n",
    "master.start(\n",
    "    commiter_name=config[\"commiter_name\"],\n",
    "    commiter_email=config[\"commiter_email\"],\n",
    "    result_queue=q_result\n",
    ")"
   ]
  },
  {
   "cell_type": "code",
   "execution_count": 17,
   "id": "75682741-a007-462b-8527-6c158eff3572",
   "metadata": {},
   "outputs": [],
   "source": [
    "for p in processes[1:]:\n",
    "    p.join()\n",
    "    p.close()"
   ]
  },
  {
   "cell_type": "code",
   "execution_count": 43,
   "id": "9038aa7d-3150-47bb-9c77-b606310cc947",
   "metadata": {},
   "outputs": [],
   "source": []
  },
  {
   "cell_type": "code",
   "execution_count": null,
   "id": "c41d1ca8-2974-45f6-ad2f-323f21a09ec2",
   "metadata": {},
   "outputs": [],
   "source": []
  }
 ],
 "metadata": {
  "kernelspec": {
   "display_name": "web",
   "language": "python",
   "name": "web"
  },
  "language_info": {
   "codemirror_mode": {
    "name": "ipython",
    "version": 3
   },
   "file_extension": ".py",
   "mimetype": "text/x-python",
   "name": "python",
   "nbconvert_exporter": "python",
   "pygments_lexer": "ipython3",
   "version": "3.9.18"
  }
 },
 "nbformat": 4,
 "nbformat_minor": 5
}
