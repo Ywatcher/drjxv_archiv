{
 "cells": [
  {
   "cell_type": "code",
   "execution_count": 1,
   "id": "6d7465e3-bc46-4f89-b888-f153794e85d6",
   "metadata": {},
   "outputs": [],
   "source": [
    "from web_parser import AnswerParser, QuestionParser\n",
    "import multiprocessing\n",
    "from multiprocessing import Queue, Process\n",
    "from selenium import webdriver\n",
    "from pathlib import Path\n",
    "import os\n",
    "from util.repo import driver_root, database_root, drivers, git_repo_test\n",
    "from data_handler import Master"
   ]
  },
  {
   "cell_type": "code",
   "execution_count": 2,
   "id": "d576c377-426b-4676-9c82-5699b5fd6044",
   "metadata": {},
   "outputs": [],
   "source": [
    "q_id = 625769474\n",
    "# q_id = 460106396\n",
    "q_id = 327003589\n",
    "# q_id = 459470265\n",
    "q_list = [q_id]\n",
    "config = {\n",
    "    \"simutaneously_scrap_and_store\": False,\n",
    "    \"nr_answer_parsers\": 2,\n",
    "    \"commiter_name\":\"test\",\n",
    "    \"commiter_email\":\"test@mal.com\"\n",
    "}\n",
    "db_path = os.path.join(database_root, \"test.2.db\")"
   ]
  },
  {
   "cell_type": "markdown",
   "id": "07e5ca01-9a8e-4040-90eb-3db1f9bcee64",
   "metadata": {},
   "source": [
    "# TODO\n",
    " - [x] test scrap then store\n",
    " - [ ] use event to communicate\n",
    " - [ ] test scrap and store at same time\n",
    " - [x] test on a git repo\n",
    " - [ ] test to create git repo and make a commit<br>\n",
    " https://stackoverflow.com/questions/71947784/what-does-webdriverwaitdriver-20-mean<br>\n",
    "https://stackoverflow.com/questions/26869200/python-queue-module-get-stuck\n",
    "\n",
    "---\n",
    " - [ ] scrap author\n",
    " - [ ] init git repo (partly done)\n",
    " - [ ] init db (partly done)\n",
    " - [ ] merge repo\n",
    " - [ ] revert git operation\n",
    " - [ ] scroll\n",
    " - [x] git message\n",
    " - [ ] configurable xpath rules\n"
   ]
  },
  {
   "cell_type": "code",
   "execution_count": 3,
   "id": "ede6c77f-c6e6-454f-a7b2-02867706d945",
   "metadata": {},
   "outputs": [],
   "source": []
  },
  {
   "cell_type": "code",
   "execution_count": 4,
   "id": "6072bca5-8085-4d45-93d1-cd369d181606",
   "metadata": {},
   "outputs": [],
   "source": [
    "q_task = Queue()\n",
    "q_result = Queue()"
   ]
  },
  {
   "cell_type": "code",
   "execution_count": 6,
   "id": "b7881dcb-2966-4ae3-91e8-bfe82ad9c0ed",
   "metadata": {},
   "outputs": [],
   "source": [
    "class Controller:\n",
    "    def __init__(\n",
    "        self, \n",
    "    ):\n",
    "        self.processes = []\n",
    "        pass"
   ]
  },
  {
   "cell_type": "code",
   "execution_count": 7,
   "id": "a055c9a7-3f1b-41ea-8fc4-979047bcf845",
   "metadata": {},
   "outputs": [],
   "source": [
    "question_driver = webdriver.Chrome(drivers[\"chrome\"])\n",
    "question_parser = QuestionParser(\n",
    "    queue_put_result=q_result,\n",
    "    queue_put_task=q_task,\n",
    "    driver=question_driver,\n",
    "    logger=Logger(\"q\")\n",
    ")\n",
    "answer_drivers = []\n",
    "answer_parsers = []\n",
    "for i in range(config[\"nr_answer_scapers\"]):\n",
    "    answer_drivers.append(\n",
    "        webdriver.Chrome(drivers[\"chrome\"])\n",
    "    )\n",
    "    answer_parsers.append(\n",
    "        AnswerParser(\n",
    "            queue_put_result=q_result,\n",
    "            queue_get_task=q_task,\n",
    "            driver=answer_drivers[i],\n",
    "            logger=Logger(\"a_{}\".format(i))\n",
    "        )\n",
    "    )\n",
    "master = Master(\n",
    "    db_path=db_path,\n",
    "    git_repo_path=git_repo_test\n",
    ")\n"
   ]
  },
  {
   "cell_type": "code",
   "execution_count": 8,
   "id": "294a4eae-5a80-45a5-9872-64886740c735",
   "metadata": {},
   "outputs": [
    {
     "name": "stdout",
     "output_type": "stream",
     "text": [
      "scrap, then store\n"
     ]
    }
   ],
   "source": [
    "if not config[\"simutaneously_scrap_and_store\"]:\n",
    "    print(\"scrap, then store\")\n",
    "    targets = [\n",
    "        # target func and args\n",
    "        (question_parser.start_parsing_list, (q_list,))\n",
    "    ] + [\n",
    "        (answer_parser.start_parsing, [])\n",
    "        for answer_parser in answer_parsers\n",
    "    ] + [\n",
    "        (master.start, (config[\"commiter_name\"],config[\"commiter_email\"],q_result))\n",
    "    ]\n",
    "        \n",
    "    \n",
    "    processes = [\n",
    "        Process(target=target_func, args=args)\n",
    "        for target_func, args in targets\n",
    "    ]\n",
    "    \n",
    "   \n",
    "    \n",
    "        \n",
    "        \n",
    "else:\n",
    "    print(1)"
   ]
  },
  {
   "cell_type": "code",
   "execution_count": 9,
   "id": "db08d92b-29c0-468c-bfea-e4f20277b738",
   "metadata": {},
   "outputs": [
    {
     "name": "stdout",
     "output_type": "stream",
     "text": [
      "327003589\n",
      "\n",
      "q:parsing question with id=327003589a_0:parsing answer with id=3255789284\n",
      "a_1:parsing answer with id=701487690\n",
      "q:parsed 327003589\n",
      "q:fin\n",
      "a_1:parsing answer with id=728565226\n",
      "a_0:parsing answer with id=1890558990\n",
      "a_0:parsing answer with id=722240235\n",
      "a_1:stop\n",
      "a_1:put\n",
      "a_1:out\n",
      "a_0:stop\n",
      "a_0:put\n",
      "a_0:out\n"
     ]
    }
   ],
   "source": [
    "for p in processes[:-1]:\n",
    "    p.start()"
   ]
  },
  {
   "cell_type": "code",
   "execution_count": 10,
   "id": "12d869b4-79cc-45ad-aafa-0cadf2fea7a1",
   "metadata": {
    "tags": []
   },
   "outputs": [],
   "source": [
    "processes[-1].start()\n",
    "for p in processes:\n",
    "    p.join()"
   ]
  },
  {
   "cell_type": "code",
   "execution_count": 10,
   "id": "7c279fc9-1a62-4437-856e-4c9d6f90a978",
   "metadata": {},
   "outputs": [],
   "source": [
    "# type(l)"
   ]
  },
  {
   "cell_type": "markdown",
   "id": "9ba3bc8e-c892-4ac6-865c-6cb36c0fe225",
   "metadata": {},
   "source": [
    "search:process queue self._wait_for_tstate_lock() "
   ]
  },
  {
   "cell_type": "code",
   "execution_count": 43,
   "id": "9038aa7d-3150-47bb-9c77-b606310cc947",
   "metadata": {},
   "outputs": [],
   "source": []
  },
  {
   "cell_type": "code",
   "execution_count": null,
   "id": "c41d1ca8-2974-45f6-ad2f-323f21a09ec2",
   "metadata": {},
   "outputs": [],
   "source": []
  }
 ],
 "metadata": {
  "kernelspec": {
   "display_name": "web",
   "language": "python",
   "name": "web"
  },
  "language_info": {
   "codemirror_mode": {
    "name": "ipython",
    "version": 3
   },
   "file_extension": ".py",
   "mimetype": "text/x-python",
   "name": "python",
   "nbconvert_exporter": "python",
   "pygments_lexer": "ipython3",
   "version": "3.9.18"
  }
 },
 "nbformat": 4,
 "nbformat_minor": 5
}
