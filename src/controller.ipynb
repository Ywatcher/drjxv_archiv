{
 "cells": [
  {
   "cell_type": "code",
   "execution_count": 1,
   "id": "6d7465e3-bc46-4f89-b888-f153794e85d6",
   "metadata": {},
   "outputs": [],
   "source": [
    "from web_parser import AnswerParser, QuestionParser\n",
    "import multiprocessing\n",
    "from multiprocessing import Queue, Process\n",
    "from selenium import webdriver\n",
    "from pathlib import Path\n",
    "import os\n",
    "from util.repo import driver_root, database_root, drivers, git_repo_test"
   ]
  },
  {
   "cell_type": "code",
   "execution_count": 2,
   "id": "d576c377-426b-4676-9c82-5699b5fd6044",
   "metadata": {},
   "outputs": [],
   "source": [
    "q_id = 625769474\n",
    "q_list = [q_id]\n",
    "config = {\n",
    "    \"simutaneously_scrap_and_store\": False,\n",
    "    \"nr_answer_scapers\": 2,\n",
    "    \"commiter_name\":\"test\",\n",
    "    \"commiter_email\":\"test@mal.com\"\n",
    "}"
   ]
  },
  {
   "cell_type": "markdown",
   "id": "07e5ca01-9a8e-4040-90eb-3db1f9bcee64",
   "metadata": {},
   "source": [
    "# TODO\n",
    " - [ ] test scape then store\n",
    " - [ ] test scape and store at same time"
   ]
  },
  {
   "cell_type": "code",
   "execution_count": 3,
   "id": "ede6c77f-c6e6-454f-a7b2-02867706d945",
   "metadata": {},
   "outputs": [],
   "source": [
    "class Logger:\n",
    "    def __init__(self, s:str):\n",
    "        self.s  = s\n",
    "        \n",
    "    def log(self, s):\n",
    "        print(\"{}:{}\".format(self.s,s))"
   ]
  },
  {
   "cell_type": "code",
   "execution_count": 4,
   "id": "6072bca5-8085-4d45-93d1-cd369d181606",
   "metadata": {},
   "outputs": [],
   "source": [
    "q_task = Queue()\n",
    "q_result = Queue()"
   ]
  },
  {
   "cell_type": "code",
   "execution_count": 5,
   "id": "8e79146c-8ecc-49b6-bf33-e6b8e4ed037f",
   "metadata": {},
   "outputs": [],
   "source": [
    "class TestParser:\n",
    "    def f(self):\n",
    "        print(\"start\")\n",
    "        # return\n",
    "        i = 9\n",
    "        while True:\n",
    "            i-=1\n",
    "            print(i)\n",
    "            if i<=0:\n",
    "                break\n",
    "                \n",
    "        print(\"get_out\")\n",
    "# t = TestParser()\n",
    "# t.start_parsing()"
   ]
  },
  {
   "cell_type": "code",
   "execution_count": 6,
   "id": "a055c9a7-3f1b-41ea-8fc4-979047bcf845",
   "metadata": {},
   "outputs": [],
   "source": [
    "question_driver = webdriver.Chrome(drivers[\"chrome\"])\n",
    "question_parser = QuestionParser(\n",
    "    queue_put_result=q_result,\n",
    "    queue_put_task=q_task,\n",
    "    driver=question_driver,\n",
    "    logger=Logger(\"q\")\n",
    ")\n",
    "answer_drivers = []\n",
    "answer_parsers = []\n",
    "for i in range(config[\"nr_answer_scapers\"]):\n",
    "    answer_drivers.append(\n",
    "        webdriver.Chrome(drivers[\"chrome\"])\n",
    "    )\n",
    "    answer_parsers.append(\n",
    "        AnswerParser(\n",
    "            queue_put_result=q_result,\n",
    "            queue_get_task=q_task,\n",
    "            driver=answer_drivers[i],\n",
    "            logger=Logger(\"a_{}\".format(i))\n",
    "        )\n",
    "    )\n"
   ]
  },
  {
   "cell_type": "code",
   "execution_count": 7,
   "id": "294a4eae-5a80-45a5-9872-64886740c735",
   "metadata": {},
   "outputs": [
    {
     "name": "stdout",
     "output_type": "stream",
     "text": [
      "scrap, then store\n"
     ]
    }
   ],
   "source": [
    "if not config[\"simutaneously_scrap_and_store\"]:\n",
    "    print(\"scrap, then store\")\n",
    "    targets = [\n",
    "        # target func and args\n",
    "        (question_parser.start_parsing_list, (q_list,))\n",
    "    ] + [\n",
    "        (answer_parser.start_parsing, [])\n",
    "        for answer_parser in answer_parsers\n",
    "    ]\n",
    "    \n",
    "    processes = [\n",
    "        Process(target=target_func, args=args)\n",
    "        for target_func, args in targets\n",
    "    ]\n",
    "    \n",
    "   \n",
    "    \n",
    "        \n",
    "        \n",
    "else:\n",
    "    print(1)"
   ]
  },
  {
   "cell_type": "code",
   "execution_count": 8,
   "id": "74548c32-a379-474c-a808-046c9847e72a",
   "metadata": {},
   "outputs": [
    {
     "name": "stdout",
     "output_type": "stream",
     "text": [
      "625769474\n",
      "\n",
      "q:parsing question with id=625769474a_0:parsing answer with id=3252328928\n",
      "a_1:parsing answer with id=3249748730\n",
      "parsed 625769474\n",
      "fin\n",
      "a_1:parsing answer with id=3252760617\n",
      "a_0:parsing answer with id=3250133829\n",
      "a_0:parsing answer with id=3249016418\n",
      "a_1:stop\n",
      "a_1:put\n",
      "a_1:out\n",
      "a_0:stop\n",
      "a_0:put\n",
      "a_0:out\n"
     ]
    }
   ],
   "source": [
    "for p in processes:\n",
    "    p.start()\n",
    "    \n",
    "# for p in processes:\n",
    "#     p.join()"
   ]
  },
  {
   "cell_type": "code",
   "execution_count": 9,
   "id": "12d869b4-79cc-45ad-aafa-0cadf2fea7a1",
   "metadata": {
    "tags": []
   },
   "outputs": [],
   "source": [
    "# processes[0]._popen\n",
    "# processes[0].start()\n",
    "# l = processes[0]._popen"
   ]
  },
  {
   "cell_type": "code",
   "execution_count": 10,
   "id": "7c279fc9-1a62-4437-856e-4c9d6f90a978",
   "metadata": {},
   "outputs": [],
   "source": [
    "# type(l)"
   ]
  },
  {
   "cell_type": "markdown",
   "id": "9ba3bc8e-c892-4ac6-865c-6cb36c0fe225",
   "metadata": {},
   "source": [
    "search:process queue self._wait_for_tstate_lock() "
   ]
  },
  {
   "cell_type": "code",
   "execution_count": 9,
   "id": "4d7781f6-617a-4c4b-8925-3d7e850da501",
   "metadata": {},
   "outputs": [],
   "source": [
    "from data_handler.master import Master\n",
    "from data_handler.database import DataBase"
   ]
  },
  {
   "cell_type": "code",
   "execution_count": 10,
   "id": "cc324775-d9e7-4433-b3ae-fd4f650184f7",
   "metadata": {},
   "outputs": [],
   "source": [
    "db_path = os.path.join(database_root, \"test.2.db\")"
   ]
  },
  {
   "cell_type": "code",
   "execution_count": 11,
   "id": "468adf0d-c9be-4dce-bf03-34c45c3ce044",
   "metadata": {},
   "outputs": [
    {
     "name": "stdout",
     "output_type": "stream",
     "text": [
      "2.6.0\n",
      "2caed99f0a1d7a82f3f4ef0de9b003b1c2c76a37\n"
     ]
    }
   ],
   "source": [
    "# warning : another branch\n",
    "\n",
    "DataBase.init_database(db_file=db_path)\n",
    "# TODO: move to GitOperor.create_repo\n",
    "from git import Repo\n",
    "repo_ = Repo(git_repo_test)\n",
    "print(repo_.head.object.hexsha)\n",
    "with DataBase(db_path) as db:\n",
    "    db.update_git_head(repo_.head.object.hexsha,to_commit=True)"
   ]
  },
  {
   "cell_type": "code",
   "execution_count": 14,
   "id": "c38d29d0-fbdc-4a42-a0b1-d2211bce5429",
   "metadata": {},
   "outputs": [],
   "source": [
    "results = []\n",
    "while not q_result.empty():\n",
    "# for r in q_result:\n",
    "    r = q_result.get()\n",
    "    results.append(r)"
   ]
  },
  {
   "cell_type": "code",
   "execution_count": 12,
   "id": "24feb435-a408-4652-be97-273dcbc87be4",
   "metadata": {},
   "outputs": [],
   "source": [
    "master = Master(\n",
    "    db_path=db_path,\n",
    "    git_repo_path=git_repo_test\n",
    ")"
   ]
  },
  {
   "cell_type": "markdown",
   "id": "15b03d84-ccf7-4aef-93ea-7834293e000e",
   "metadata": {},
   "source": [
    "https://stackoverflow.com/questions/71947784/what-does-webdriverwaitdriver-20-mean<br>\n",
    "https://stackoverflow.com/questions/26869200/python-queue-module-get-stuck\n",
    " - [ ] test on a git repo\n",
    " - [ ] test to create git repo and make a commit"
   ]
  },
  {
   "cell_type": "code",
   "execution_count": 14,
   "id": "cdb6b184-0b92-4f7e-b4c1-6b2bc9f802c0",
   "metadata": {},
   "outputs": [],
   "source": [
    "commiter_name =config[\"commiter_name\"]\n",
    "commiter_email = config[\"commiter_email\"]"
   ]
  },
  {
   "cell_type": "code",
   "execution_count": 16,
   "id": "29cb232f-3d59-4df3-8582-62cc5235bd7e",
   "metadata": {},
   "outputs": [
    {
     "name": "stdout",
     "output_type": "stream",
     "text": [
      "tzoffset('UTC+0', -28800)\n",
      "UTC\n",
      "tzoffset('UTC+0', -28800)\n",
      "UTC\n",
      "tzoffset('UTC+0', -28800)\n",
      "UTC\n",
      "tzoffset('UTC+0', -28800)\n",
      "UTC\n",
      "tzoffset('UTC+0', -28800)\n",
      "UTC\n",
      "tzoffset('UTC+0', -28800)\n",
      "UTC\n"
     ]
    }
   ],
   "source": [
    "# q_result_temp = Queue()\n",
    "# for r in results:\n",
    "#     q_result_temp.put(r)\n",
    "master.start(\n",
    "    commiter_name=commiter_name,\n",
    "    commiter_email=commiter_email,\n",
    "    result_queue=q_result\n",
    ")"
   ]
  },
  {
   "cell_type": "code",
   "execution_count": 16,
   "id": "75682741-a007-462b-8527-6c158eff3572",
   "metadata": {},
   "outputs": [
    {
     "name": "stdout",
     "output_type": "stream",
     "text": [
      "[QuestionBriefInfo(question_id=625769474, title='如何评价纪录片《当马克思遇见孔夫子》?', content=[<p data-first-child=\"\"></p>, <figure data-size=\"normal\"><div><img class=\"origin_image zh-lightbox-thumb\" data-original=\"https://pic3.zhimg.com/v2-657d0837f091bb051f08d45ddbe07422_r.jpg\" data-rawheight=\"1080\" data-rawwidth=\"1917\" data-size=\"normal\" src=\"https://pic3.zhimg.com/v2-657d0837f091bb051f08d45ddbe07422_b.png\" width=\"1917\"/></div></figure>, <p>图源b站</p>], answerCount='72', dateCreated='2023-10-12T04:50:29.000Z', dateModified='2023-10-12T04:50:29.000Z'), AnswerBriefInfo(question_id=625769474, answer_id='3252328928', author=None, content=[<p data-first-child=\"\" data-pid=\"kkerF_7K\">这部片子成功达到了和春晚一样的高度</p>, <p data-pid=\"7ccIYuvm\">不管是贴吧，b乎，抖音，微博，乃至小红书</p>, <p data-pid=\"bVub0cca\">不管是左，中还是右</p>, <p data-pid=\"n_aDbji-\">不管是神神还是兔兔</p>, <p data-pid=\"zuE2ZdNq\">不管ip在哪</p>, <p data-pid=\"iN6Dbmjx\">甚至性别都与平时不同</p>, <p data-pid=\"Kadlnu1W\">十分罕见的一致认为这玩意是个垃圾中的垃圾</p>], upvoteCount='62', dateCreated='2023-10-16T11:44:25.000Z', dateModified='2023-10-16T11:44:25.000Z', commentCount='2'), AnswerBriefInfo(question_id=625769474, answer_id='3249748730', author=None, content=[<p data-first-child=\"\" data-pid=\"nfUjWi7n\">历史是任人打扮的老头子。</p>], upvoteCount='49', dateCreated='2023-10-14T10:27:54.000Z', dateModified='2023-10-14T10:27:54.000Z', commentCount='0'), AnswerBriefInfo(question_id=625769474, answer_id='3252760617', author=None, content=[<p data-first-child=\"\" data-pid=\"3xG5IQyO\">我绷不住的主要是让马克思说出《其实我早就是一个中国人了》这句话，直接把恶心程度提高了整个层次，马是世界公民，和世界人民站在一起，我们是要学习他的思想而不是申遗他，让大家耻笑，我希望某台只是为了讨论度而整出这烂活，如果有任何人这么认为我真觉得他有病。。。</p>], upvoteCount='46', dateCreated='2023-10-17T00:13:58.000Z', dateModified='2023-10-17T00:59:15.000Z', commentCount='2'), AnswerBriefInfo(question_id=625769474, answer_id='3250133829', author=None, content=[<p data-first-child=\"\"></p>, <figure data-size=\"normal\"><noscript><img class=\"origin_image zh-lightbox-thumb\" data-caption=\"\" data-default-watermark-src=\"https://pic1.zhimg.com/50/v2-aff63e4f2ddafc12f9c82f9b8aa34db5_720w.jpg?source=2c26e567\" data-original=\"https://picx.zhimg.com/v2-2475ce23ab94ef956ccb057a394d60c5_r.jpg?source=2c26e567\" data-original-token=\"v2-25a9856f76ff2360ecdbca7303f753d7\" data-rawheight=\"733\" data-rawwidth=\"1107\" data-size=\"normal\" src=\"https://picx.zhimg.com/50/v2-2475ce23ab94ef956ccb057a394d60c5_720w.jpg?source=2c26e567\" width=\"1107\"/></noscript><div><img class=\"origin_image zh-lightbox-thumb lazy\" data-actualsrc=\"https://picx.zhimg.com/50/v2-2475ce23ab94ef956ccb057a394d60c5_720w.jpg?source=2c26e567\" data-caption=\"\" data-default-watermark-src=\"https://pic1.zhimg.com/50/v2-aff63e4f2ddafc12f9c82f9b8aa34db5_720w.jpg?source=2c26e567\" data-lazy-status=\"ok\" data-original=\"https://picx.zhimg.com/v2-2475ce23ab94ef956ccb057a394d60c5_r.jpg?source=2c26e567\" data-original-token=\"v2-25a9856f76ff2360ecdbca7303f753d7\" data-rawheight=\"733\" data-rawwidth=\"1107\" data-size=\"normal\" height=\"733\" src=\"https://picx.zhimg.com/80/v2-2475ce23ab94ef956ccb057a394d60c5_720w.jpg?source=2c26e567\" width=\"1107\"/></div></figure>, <p data-pid=\"FlAtejOD\">可以说是相当流劈了，连教员都给拉来站台了<br/>——————————————————<br/>我不删评论的，看到好几条评论自己不见了，肯定是小管家干的！</p>], upvoteCount='42', dateCreated='2023-10-14T17:08:14.000Z', dateModified='2023-10-21T04:44:10.000Z', commentCount='1'), AnswerBriefInfo(question_id=625769474, answer_id='3249016418', author=None, content=[<p data-first-child=\"\" data-pid=\"wujO9PiD\">太棒了，完全符合我的预期，我爱中国</p>], upvoteCount='31', dateCreated='2023-10-13T18:14:15.000Z', dateModified='2023-10-13T18:14:15.000Z', commentCount='2')]\n"
     ]
    }
   ],
   "source": [
    "print(results)"
   ]
  },
  {
   "cell_type": "code",
   "execution_count": 44,
   "id": "a442efe6-987f-4e04-a6d1-8dddfe52ae36",
   "metadata": {},
   "outputs": [],
   "source": [
    "from dataclasses import dataclass\n",
    "from typing import Union, Dict\n",
    "from util.file_rendering import to_markdown, tags_to_str\n",
    "import datetime\n",
    "\n",
    "from bs4.element import Tag\n",
    "# TODO: mv to util\n",
    "def str2date(strdate: str) -> datetime.datetime:\n",
    "    # format: \"%Y-%m-%dT%H:%M:%S.%fZ\"\n",
    "    # example: \"2023-10-13T18:14:15.000Z\"\n",
    "    # \n",
    "    return datetime.datetime.fromisoformat(strdate[:-1]+\"+00:00\")\n",
    "    # return datetime.datetime.strptime(\n",
    "        # strdate[:-1]+\"00:00\",\n",
    "        # \"%Y-%m-%dT%H:%M:%S.%f\"\n",
    "    # )\n",
    "d1 = str2date(\"2023-10-13T18:14:15.020Z\")\n",
    "d2 = str2date('2023-10-12T04:50:29.001Z')\n"
   ]
  },
  {
   "cell_type": "code",
   "execution_count": 45,
   "id": "7b72e885-1b98-4515-a4e3-7a6ec6aa3f6c",
   "metadata": {},
   "outputs": [
    {
     "data": {
      "text/plain": [
       "datetime.timezone.utc"
      ]
     },
     "execution_count": 45,
     "metadata": {},
     "output_type": "execute_result"
    }
   ],
   "source": [
    "d1.tzinfo"
   ]
  },
  {
   "cell_type": "code",
   "execution_count": 47,
   "id": "1f6e013e-f4e0-4e72-842b-c682e51c974e",
   "metadata": {},
   "outputs": [
    {
     "name": "stdout",
     "output_type": "stream",
     "text": [
      "<__main__.Object object at 0x7f70867a94c0>\n"
     ]
    }
   ],
   "source": [
    "class Object:\n",
    "    def __enter__(self):\n",
    "        return self\n",
    "    \n",
    "    def __exit__(self, exc_type, exc_value, tb):\n",
    "        pass\n",
    "    \n",
    "with Object() as o:\n",
    "    print(o)\n",
    "        "
   ]
  },
  {
   "cell_type": "code",
   "execution_count": 38,
   "id": "dec9b223-8a0d-4962-9623-4554c76ca964",
   "metadata": {},
   "outputs": [],
   "source": [
    "q_result_temp = Queue()\n",
    "for r in results:\n",
    "    q_result_temp.put(r)\n",
    "    \n",
    "while not q_result_temp.empty():\n",
    "    print(q_result_temp.get())"
   ]
  },
  {
   "cell_type": "code",
   "execution_count": 42,
   "id": "31de9383-eb5d-480a-8f64-7c158afb2308",
   "metadata": {},
   "outputs": [
    {
     "name": "stdout",
     "output_type": "stream",
     "text": [
      "None\n"
     ]
    }
   ],
   "source": [
    "with GitOperator(\n",
    "    commiter_name=commiter_name,\n",
    "    commiter_email=commiter_email,\n",
    "    repo_path=git_repo_test\n",
    ") as g:\n",
    "    assert g is None\n",
    "    print(g)"
   ]
  },
  {
   "cell_type": "code",
   "execution_count": 50,
   "id": "7479ebcb-3e4f-4191-8030-8fd0706b750d",
   "metadata": {},
   "outputs": [
    {
     "name": "stdout",
     "output_type": "stream",
     "text": [
      "QuestionBriefInfo(question_id=625769474, title='如何评价纪录片《当马克思遇见孔夫子》?', content=[<p data-first-child=\"\"></p>, <figure data-size=\"normal\"><div><img class=\"origin_image zh-lightbox-thumb\" data-original=\"https://pic3.zhimg.com/v2-657d0837f091bb051f08d45ddbe07422_r.jpg\" data-rawheight=\"1080\" data-rawwidth=\"1917\" data-size=\"normal\" src=\"https://pic3.zhimg.com/v2-657d0837f091bb051f08d45ddbe07422_b.png\" width=\"1917\"/></div></figure>, <p>图源b站</p>], answerCount='72', dateCreated='2023-10-12T04:50:29.000Z', dateModified='2023-10-12T04:50:29.000Z')\n",
      "<class 'str'>\n",
      "---\n",
      "answerCount: '72'\n",
      "dateCreated: '2023-10-12T04:50:29.000Z'\n",
      "question_id: 625769474\n",
      "title: \"\\u5982\\u4F55\\u8BC4\\u4EF7\\u7EAA\\u5F55\\u7247\\u300A\\u5F53\\u9A6C\\u514B\\u601D\\u9047\\\n",
      "  \\u89C1\\u5B54\\u592B\\u5B50\\u300B?\"\n",
      "type: question\n",
      "---\n",
      "# 如何评价纪录片《当马克思遇见孔夫子》?\n",
      "---\n",
      "<p data-first-child=\"\"></p>\n",
      "<figure data-size=\"normal\"><div><img class=\"origin_image zh-lightbox-thumb\" data-original=\"https://pic3.zhimg.com/v2-657d0837f091bb051f08d45ddbe07422_r.jpg\" data-rawheight=\"1080\" data-rawwidth=\"1917\" data-size=\"normal\" src=\"https://pic3.zhimg.com/v2-657d0837f091bb051f08d45ddbe07422_b.png\" width=\"1917\"/></div></figure>\n",
      "<p>图源b站</p>\n",
      "AnswerBriefInfo(question_id=625769474, answer_id='3250133829', author=None, content=[<p data-first-child=\"\"></p>, <figure data-size=\"normal\"><noscript><img class=\"origin_image zh-lightbox-thumb\" data-caption=\"\" data-default-watermark-src=\"https://pic1.zhimg.com/50/v2-aff63e4f2ddafc12f9c82f9b8aa34db5_720w.jpg?source=2c26e567\" data-original=\"https://picx.zhimg.com/v2-2475ce23ab94ef956ccb057a394d60c5_r.jpg?source=2c26e567\" data-original-token=\"v2-25a9856f76ff2360ecdbca7303f753d7\" data-rawheight=\"733\" data-rawwidth=\"1107\" data-size=\"normal\" src=\"https://picx.zhimg.com/50/v2-2475ce23ab94ef956ccb057a394d60c5_720w.jpg?source=2c26e567\" width=\"1107\"/></noscript><div><img class=\"origin_image zh-lightbox-thumb lazy\" data-actualsrc=\"https://picx.zhimg.com/50/v2-2475ce23ab94ef956ccb057a394d60c5_720w.jpg?source=2c26e567\" data-caption=\"\" data-default-watermark-src=\"https://pic1.zhimg.com/50/v2-aff63e4f2ddafc12f9c82f9b8aa34db5_720w.jpg?source=2c26e567\" data-lazy-status=\"ok\" data-original=\"https://picx.zhimg.com/v2-2475ce23ab94ef956ccb057a394d60c5_r.jpg?source=2c26e567\" data-original-token=\"v2-25a9856f76ff2360ecdbca7303f753d7\" data-rawheight=\"733\" data-rawwidth=\"1107\" data-size=\"normal\" height=\"733\" src=\"https://picx.zhimg.com/80/v2-2475ce23ab94ef956ccb057a394d60c5_720w.jpg?source=2c26e567\" width=\"1107\"/></div></figure>, <p data-pid=\"FlAtejOD\">可以说是相当流劈了，连教员都给拉来站台了<br/>——————————————————<br/>我不删评论的，看到好几条评论自己不见了，肯定是小管家干的！</p>], upvoteCount='41', dateCreated='2023-10-14T17:08:14.000Z', dateModified='2023-10-21T04:44:10.000Z', commentCount='1')\n",
      "<class 'str'>\n",
      "---\n",
      "answer_id: '3250133829'\n",
      "author: null\n",
      "commentCount: '1'\n",
      "dateCreated: '2023-10-14T17:08:14.000Z'\n",
      "type: answer\n",
      "upvoteCount: '41'\n",
      "---\n",
      "<p data-first-child=\"\"></p>\n",
      "<figure data-size=\"normal\"><noscript><img class=\"origin_image zh-lightbox-thumb\" data-caption=\"\" data-default-watermark-src=\"https://pic1.zhimg.com/50/v2-aff63e4f2ddafc12f9c82f9b8aa34db5_720w.jpg?source=2c26e567\" data-original=\"https://picx.zhimg.com/v2-2475ce23ab94ef956ccb057a394d60c5_r.jpg?source=2c26e567\" data-original-token=\"v2-25a9856f76ff2360ecdbca7303f753d7\" data-rawheight=\"733\" data-rawwidth=\"1107\" data-size=\"normal\" src=\"https://picx.zhimg.com/50/v2-2475ce23ab94ef956ccb057a394d60c5_720w.jpg?source=2c26e567\" width=\"1107\"/></noscript><div><img class=\"origin_image zh-lightbox-thumb lazy\" data-actualsrc=\"https://picx.zhimg.com/50/v2-2475ce23ab94ef956ccb057a394d60c5_720w.jpg?source=2c26e567\" data-caption=\"\" data-default-watermark-src=\"https://pic1.zhimg.com/50/v2-aff63e4f2ddafc12f9c82f9b8aa34db5_720w.jpg?source=2c26e567\" data-lazy-status=\"ok\" data-original=\"https://picx.zhimg.com/v2-2475ce23ab94ef956ccb057a394d60c5_r.jpg?source=2c26e567\" data-original-token=\"v2-25a9856f76ff2360ecdbca7303f753d7\" data-rawheight=\"733\" data-rawwidth=\"1107\" data-size=\"normal\" height=\"733\" src=\"https://picx.zhimg.com/80/v2-2475ce23ab94ef956ccb057a394d60c5_720w.jpg?source=2c26e567\" width=\"1107\"/></div></figure>\n",
      "<p data-pid=\"FlAtejOD\">可以说是相当流劈了，连教员都给拉来站台了<br/>——————————————————<br/>我不删评论的，看到好几条评论自己不见了，肯定是小管家干的！</p>\n"
     ]
    }
   ],
   "source": [
    "from typing import Optional\n",
    "import yaml\n",
    "from bs4.element import Tag\n",
    "\n",
    "def tags_to_str(tags:list[Tag])-> str:\n",
    "    return \"\\n\".join([str(t)for t in tags])\n",
    "\n",
    "def to_markdown(\n",
    "    metadata: dict,\n",
    "    content: str,\n",
    "    title: Optional[str] = None\n",
    "):\n",
    "    metadata_yaml = yaml.dump(metadata)\n",
    "    metadata_field_str = f\"---\\n{metadata_yaml}---\\n\"\n",
    "    title_field_str = f\"# {title}\\n---\\n\" if title is not None else \"\"\n",
    "    # print(f\"m=={type(metadata_field_str)}\\n\",metadata_field_str)\n",
    "    # print(f\"t=={type(title_field_str)}\\n\",title_field_str)\n",
    "    # print(f\"c=={type(content)}\\n\",content)\n",
    "    print(type(content[0]))\n",
    "    return metadata_field_str + title_field_str + content\n",
    "ques = results[0]\n",
    "print(ques)\n",
    "print(to_markdown(\n",
    "    metadata={\n",
    "                \"type\": \"question\",\n",
    "                \"question_id\": ques.question_id,\n",
    "                \"dateCreated\": ques.dateCreated,\n",
    "                \"answerCount\": ques.answerCount,\n",
    "                \"title\": ques.title\n",
    "            },\n",
    "            title=ques.title,\n",
    "            content=tags_to_str(ques.content)\n",
    "        ))\n",
    "ans  = results[4]\n",
    "print(ans)\n",
    "print(to_markdown(\n",
    "    metadata={\n",
    "                \"type\": \"answer\",\n",
    "                \"answer_id\": ans.answer_id,\n",
    "                \"author\": ans.author,\n",
    "                \"dateCreated\": ans.dateCreated,\n",
    "                \"upvoteCount\": ans.upvoteCount,\n",
    "                \"commentCount\": ans.commentCount\n",
    "            },\n",
    "            title=None,\n",
    "            content=tags_to_str(ans.content)\n",
    "        )\n",
    "     )"
   ]
  },
  {
   "cell_type": "code",
   "execution_count": null,
   "id": "51e00bf7-26b4-4c72-96af-e91b09777cf1",
   "metadata": {},
   "outputs": [],
   "source": []
  },
  {
   "cell_type": "code",
   "execution_count": 54,
   "id": "98f23eea-3e2e-4ede-8208-96baa7a30f41",
   "metadata": {},
   "outputs": [
    {
     "data": {
      "text/plain": [
       "<multiprocessing.queues.Queue at 0x7f5fb4a5c940>"
      ]
     },
     "execution_count": 54,
     "metadata": {},
     "output_type": "execute_result"
    }
   ],
   "source": [
    "l = []\n",
    "q_task_ = Queue()\n",
    "for i in q_task:\n",
    "    "
   ]
  },
  {
   "cell_type": "code",
   "execution_count": 55,
   "id": "c701eea8-6739-4245-915e-159d28b4faa1",
   "metadata": {},
   "outputs": [
    {
     "ename": "TypeError",
     "evalue": "'Queue' object is not iterable",
     "output_type": "error",
     "traceback": [
      "\u001b[0;31m---------------------------------------------------------------------------\u001b[0m",
      "\u001b[0;31mTypeError\u001b[0m                                 Traceback (most recent call last)",
      "Cell \u001b[0;32mIn[55], line 1\u001b[0m\n\u001b[0;32m----> 1\u001b[0m l \u001b[38;5;241m=\u001b[39m \u001b[38;5;28;43mlist\u001b[39;49m\u001b[43m(\u001b[49m\u001b[43mq_task\u001b[49m\u001b[43m)\u001b[49m\n",
      "\u001b[0;31mTypeError\u001b[0m: 'Queue' object is not iterable"
     ]
    }
   ],
   "source": [
    "l = list(q_task)"
   ]
  },
  {
   "cell_type": "code",
   "execution_count": 27,
   "id": "90e42342-c266-47f6-9b2d-8b6d26a831ec",
   "metadata": {},
   "outputs": [],
   "source": [
    "import datetime\n",
    "import sqlite3\n",
    "from sqlite3 import Error\n",
    "from util.db import is_empty\n",
    "# answer_table:\n",
    "title_4_answer_table = \"Answers\"\n",
    "title_4_question_table = \"Questions\"\n",
    "title_4_comment_table = \"Comments\"\n",
    "query_create_answer_table = f\"\"\"\n",
    "CREATE TABLE IF NOT EXISTS {title_4_answer_table} (\n",
    "    id integer PRIMARY KEY,\n",
    "    authorId integer,\n",
    "    questionId integer NOT NULL,\n",
    "    dateCreated text\n",
    "    )\n",
    "\"\"\"\n",
    "query_create_answer_vcs_table = f\"\"\"\n",
    "CREATE TABLE IF NOT EXISTS {title_4_answer_table}VCS (\n",
    "    commitId text PRIMARY KEY,\n",
    "    answerId interger NOT NULL,\n",
    "    dateFetched text,\n",
    "    dateModified text,\n",
    "    commentCount integer\n",
    "    )\n",
    "\"\"\"\n",
    "# query_create_question_table = f\"\"\"\n",
    "# CREATE TABLE IF NOT EXISTS {title_4_question_table} (\n",
    "#     id integer PRIMARY KEY,\n",
    "#     authorId integer,\n",
    "#     dateCreated text,\n",
    "#     )\n",
    "# \"\"\"\n",
    "query_create_question_table = f\"\"\"\n",
    "CREATE TABLE IF NOT EXISTS {title_4_question_table} (\n",
    "    id integer PRIMARY KEY,\n",
    "    authorId integer,\n",
    "    dateCreated text\n",
    "    )\n",
    "\"\"\"\n",
    "query_create_question_vcs_table = f\"\"\"\n",
    "CREATE TABLE IF NOT EXISTS {title_4_question_table}VCS (\n",
    "    commitId text PRIMARY KEY,\n",
    "    questionId interger NOT NULL,\n",
    "    dateFetched text,\n",
    "    dateModified text,\n",
    "    answerCount integer\n",
    "    )\n",
    "\"\"\"\n",
    "# create a table named GitHead\n",
    "# to maintain the current head\n",
    "# of git repository, sha of\n",
    "# which is stored;\n",
    "# This table aims to prevent\n",
    "# unexpected effects caused by\n",
    "# manual git operations\n",
    "query_create_head_table = f\"\"\"\n",
    "CREATE TABLE GitHead (\n",
    "    id INTEGER PRIMARY KEY CHECK (id = 0),\n",
    "    sha text\n",
    ");\n",
    "CREATE TRIGGER git_head_no_insert\n",
    "BEFORE INSERT ON GitHead\n",
    "WHEN (SELECT COUNT(*) FROM GitHead) >= 1   -- limit here\n",
    "BEGIN\n",
    "    SELECT RAISE(FAIL, 'only one row!');\n",
    "END;\n",
    "\"\"\"\n",
    "\n",
    "\n",
    "def init_database_tables(\n",
    "    conn: sqlite3.Connection\n",
    ") -> int:\n",
    "    # TODO: create database file,\n",
    "    # assert that file does not exist\n",
    "    # if forced create: overwrite=True\n",
    "    try:\n",
    "        c = conn.cursor()\n",
    "        print(0)\n",
    "        c.execute(query_create_question_table)\n",
    "        print(1)\n",
    "        c.execute(query_create_answer_vcs_table)\n",
    "        print(2)\n",
    "        c.execute(query_create_answer_table)\n",
    "        print(3)\n",
    "        c.execute(query_create_question_vcs_table)\n",
    "        print(4)\n",
    "        c.executescript(query_create_head_table)\n",
    "        print(5)\n",
    "        conn.commit()\n",
    "        return 0\n",
    "    except Error as e:\n",
    "        print(e)\n",
    "        return -1\n",
    "\n",
    "\n",
    "class DataBase:\n",
    "    @staticmethod\n",
    "    def init_database(\n",
    "        db_file: str\n",
    "    ):\n",
    "        conn = None\n",
    "        \"\"\" create a database connection to a SQLite database \"\"\"\n",
    "        conn = None\n",
    "        try:\n",
    "            conn = sqlite3.connect(db_file)\n",
    "            print(sqlite3.version)\n",
    "            init_database_tables(conn)\n",
    "        except Error as e:\n",
    "            print(e)\n",
    "        finally:\n",
    "            if conn:\n",
    "                conn.close()\n",
    "\n",
    "    def __init__(\n",
    "        self,\n",
    "        db_file: str\n",
    "    ):\n",
    "        self.db_file = db_file\n",
    "\n",
    "    def __start__(self):\n",
    "        self.conn = sqlite3.connect(self.db_file)\n",
    "\n",
    "    def __exit__(self):\n",
    "        self.conn.close()\n",
    "\n",
    "    def get_git_head(self) -> str:\n",
    "        c = self.conn.cursor()\n",
    "        result = c.execute(\"\"\"\n",
    "        SELECT sha\n",
    "        FROM GitHead\n",
    "        \"\"\")\n",
    "        l = list(result)\n",
    "        return l[0][0]\n",
    "\n",
    "    def update_git_head(self, sha: str):\n",
    "        c = self.conn.cursor()\n",
    "        if is_empty(c, \"GitHead\"):\n",
    "            c.execute(f\"\"\"\n",
    "            INSERT INTO GitHead\n",
    "            (id, sha)\n",
    "            VALUES (0,'{sha}')\n",
    "            \"\"\")\n",
    "        else:\n",
    "            c.execute(f\"\"\"\n",
    "            UPDATE GitHead\n",
    "            SET sha = '{sha}'\n",
    "            WHERE id==0\n",
    "            \"\"\")\n",
    "        self.conn.commit()\n",
    "\n",
    "    def has_answer(self, answer_id: str) -> bool:\n",
    "        c = self.conn.cursor()\n",
    "        return is_empty(\n",
    "            c, title_4_answer_table,\n",
    "            condition=f\"WHERE answerId=={answer_id}\"\n",
    "        )\n",
    "\n",
    "    def has_question(self, question_id: str) -> bool:\n",
    "        c = self.conn.cursor()\n",
    "        return is_empty(\n",
    "            c, title_4_question_table,\n",
    "            condition=f\"WHERE questionId=={question_id}\"\n",
    "        )\n",
    "\n",
    "    def _date2str(self, d: datetime.datetime) -> str:\n",
    "        # FIXME\n",
    "        return str(d)\n",
    "\n",
    "    def add_answer(\n",
    "        self, answer_id: int,\n",
    "        dateCreated: datetime.datetime,\n",
    "        question_id: int, author_id=\"NULL\",  # FIXME\n",
    "    ):\n",
    "        c = self.conn.cursor()\n",
    "        dateCreated_s = self._date2str(dateCreated)\n",
    "        c.executescript(f\"\"\"\n",
    "        INSERT INTO {title_4_answer_table}\n",
    "        (id, authorId, questionId, dateCreated)\n",
    "        VALUES\n",
    "        ({answer_id}, {author_id},\n",
    "        {question_id}, '{dateCreated_s}')\n",
    "        \"\"\")\n",
    "        self.conn.commit()\n",
    "\n",
    "    def add_question(\n",
    "        self,\n",
    "        dateCreated: datetime.datetime,\n",
    "        question_id: int,\n",
    "        author_id=\"NULL\",  # FIXME\n",
    "    ):\n",
    "        c = self.conn.cursor()\n",
    "        dateCreated_s = self._date2str(dateCreated)\n",
    "        c.executescript(f\"\"\"\n",
    "        INSERT INTO {title_4_question_table}\n",
    "        (id, authorId, dateCreated)\n",
    "        VALUES ({question_id}, {author_id}, '{dateCreated_s}')\n",
    "        \"\"\")\n",
    "        self.conn.commit()\n",
    "\n",
    "    def add_answer_version(\n",
    "        self,\n",
    "        answer_id: int, commit_id: str,\n",
    "        dateFetched: datetime.datetime,\n",
    "        dateModified: datetime.datetime,\n",
    "        commentCount: int\n",
    "    ):\n",
    "        #  dateFetched, dateModified,\n",
    "        c = self.conn.cursor()\n",
    "        dateFetched_s = self._date2str(dateFetched)\n",
    "        dateModified_s = self._date2str(dateModified)\n",
    "        c.executescript(f\"\"\"\n",
    "        INSERT INTO {title_4_answer_table}VCS\n",
    "        (commitId, answerId,\n",
    "        dateFetched, dateModified,\n",
    "        commentCount)\n",
    "        VALUES\n",
    "        ('{commit_id}',{answer_id},\n",
    "        '{dateFetched_s}','{dateModified_s}',\n",
    "        {commentCount})\"\"\")\n",
    "        self.conn.commit()\n",
    "\n",
    "    def add_question_version(\n",
    "        self,\n",
    "        question_id: int, commit_id: str,\n",
    "        dateFetched: datetime.datetime,\n",
    "        dateModified: datetime.datetime,\n",
    "        answerCount: int\n",
    "    ):\n",
    "        c = self.conn.cursor()\n",
    "        dateFetched_s = self._date2str(dateFetched)\n",
    "        dateModified_s = self._date2str(dateModified)\n",
    "        c.executescript(f\"\"\"\n",
    "        INSERT INTO {title_4_question_table}VCS\n",
    "        (commitId, questionId,\n",
    "        dateFetched, dateModified,\n",
    "        answerCount)\n",
    "        VALUES\n",
    "        ('{commit_id}', {question_id},\n",
    "        '{dateFetched_s}', '{dateModified_s}'\n",
    "        {answerCount})\"\"\")\n",
    "        self.conn.commit()\n"
   ]
  },
  {
   "cell_type": "code",
   "execution_count": 43,
   "id": "9038aa7d-3150-47bb-9c77-b606310cc947",
   "metadata": {},
   "outputs": [],
   "source": []
  },
  {
   "cell_type": "code",
   "execution_count": null,
   "id": "c41d1ca8-2974-45f6-ad2f-323f21a09ec2",
   "metadata": {},
   "outputs": [],
   "source": []
  }
 ],
 "metadata": {
  "kernelspec": {
   "display_name": "web",
   "language": "python",
   "name": "web"
  },
  "language_info": {
   "codemirror_mode": {
    "name": "ipython",
    "version": 3
   },
   "file_extension": ".py",
   "mimetype": "text/x-python",
   "name": "python",
   "nbconvert_exporter": "python",
   "pygments_lexer": "ipython3",
   "version": "3.9.18"
  }
 },
 "nbformat": 4,
 "nbformat_minor": 5
}
