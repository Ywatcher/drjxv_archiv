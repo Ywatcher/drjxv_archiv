{
 "cells": [
  {
   "cell_type": "code",
   "execution_count": 1,
   "id": "6d7465e3-bc46-4f89-b888-f153794e85d6",
   "metadata": {},
   "outputs": [],
   "source": [
    "from web_parser import AnswerParser, QuestionParser\n",
    "import multiprocessing\n",
    "from multiprocessing import Queue, Process, Event\n",
    "from selenium import webdriver\n",
    "from pathlib import Path\n",
    "import os\n",
    "import yaml\n",
    "from config import drivers, nr_answer_parsers, get_db_path, get_vcs_path, get_config_path\n",
    "from data_handler import Master, init_new_repo, update_database\n",
    "from util.logger import Logger\n",
    "import time"
   ]
  },
  {
   "cell_type": "code",
   "execution_count": 2,
   "id": "d576c377-426b-4676-9c82-5699b5fd6044",
   "metadata": {},
   "outputs": [],
   "source": [
    "# 需要爬取的问题的列表\n",
    "q_list = [\n",
    "    # 623539562,\n",
    "    # 327003589\n",
    "    # 624316466\n",
    "    # 524257471,\n",
    "    # 437735833\n",
    "    # 2420199852\n",
    "    551585913\n",
    "]\n",
    "# 存档仓库的地址 # 请修改为您的地址\n",
    "archiv_path = os.path.join(\n",
    "    \"/media/ywatcher/ExtDisk1/Files/web_archiv_\",\n",
    "    \"archiv_2\"\n",
    ")\n",
    "# archiv_path = \"your/path\""
   ]
  },
  {
   "cell_type": "code",
   "execution_count": 3,
   "id": "4c00ecdc-93a1-4e6c-9dc8-a169da929ef1",
   "metadata": {},
   "outputs": [
    {
     "name": "stdout",
     "output_type": "stream",
     "text": [
      "2.6.0\n"
     ]
    }
   ],
   "source": [
    "# if you have an old version repo\n",
    "update_database(repo_path=archiv_path)"
   ]
  },
  {
   "cell_type": "code",
   "execution_count": 4,
   "id": "208e0074-7631-418d-a46e-c9504c6a4e4d",
   "metadata": {},
   "outputs": [
    {
     "name": "stdout",
     "output_type": "stream",
     "text": [
      "/media/ywatcher/ExtDisk1/Files/web_archiv_/archiv_2 exists, and is not empty\n"
     ]
    }
   ],
   "source": [
    "# 初始化存档仓库，如果存档路径已经存在且不是文件夹，\n",
    "# 或者存档路径已经存在或者非空，\n",
    "# 或者存档路径的上一级目录不存在/不是文件夹，\n",
    "# 会抛出异常，并终止创建仓库。\n",
    "try:\n",
    "    init_new_repo(\n",
    "        repo_path=archiv_path,\n",
    "    )\n",
    "except Exception as e:\n",
    "    print(e)"
   ]
  },
  {
   "cell_type": "code",
   "execution_count": 5,
   "id": "6072bca5-8085-4d45-93d1-cd369d181606",
   "metadata": {},
   "outputs": [],
   "source": [
    "# 初始化进程间交流使用的队列\n",
    "q_task = Queue()\n",
    "q_result = Queue()"
   ]
  },
  {
   "cell_type": "markdown",
   "id": "07e5ca01-9a8e-4040-90eb-3db1f9bcee64",
   "metadata": {},
   "source": [
    "如果一个进程 `p` 使用进程队列 `q` 并往里面放入数据，\n",
    "那么当队列 `q` 在读入大量数据之后，需要将 `q` 中大部\n",
    "分数据取出后，进程 `p` 才能执行 `.join()`；否则可能\n",
    "会在 `join()` 时阻塞，此时内部执行的函数是等待 `q` \n",
    "拿到它的线程锁（队列 `q` 维护了一个它自己的线程）.<br>\n",
    "https://stackoverflow.com/questions/71947784/what-does-webdriverwaitdriver-20-mean<br>\n",
    "https://stackoverflow.com/questions/26869200/python-queue-module-get-stuck\n",
    "\n"
   ]
  },
  {
   "cell_type": "code",
   "execution_count": 6,
   "id": "43c4aedb-cdb2-4772-b5d9-50ccac82abe7",
   "metadata": {},
   "outputs": [],
   "source": [
    "# 根据仓库路径，初始化各个子部分的路径，并读取仓库配置文件\n",
    "db_path = get_db_path(archiv_repo_path=archiv_path)\n",
    "vcs_path = get_vcs_path(archiv_repo_path=archiv_path)\n",
    "repo_config_path = get_config_path(archiv_repo_path=archiv_path)\n",
    "repo_config = yaml.safe_load(open(repo_config_path, 'r')) "
   ]
  },
  {
   "cell_type": "code",
   "execution_count": 7,
   "id": "249b0fd5-9c2e-483b-bd17-1f7ae01d3d39",
   "metadata": {},
   "outputs": [
    {
     "data": {
      "text/plain": [
       "{'owner_email': 'me@email', 'owner_name': 'me'}"
      ]
     },
     "execution_count": 7,
     "metadata": {},
     "output_type": "execute_result"
    }
   ],
   "source": [
    "repo_config"
   ]
  },
  {
   "cell_type": "code",
   "execution_count": 8,
   "id": "a055c9a7-3f1b-41ea-8fc4-979047bcf845",
   "metadata": {},
   "outputs": [],
   "source": [
    "# 初始化 selenium web driver 和爬取器\n",
    "# 初始化 web driver 时，会有相应的窗口\n",
    "# 打开\n",
    "# 初始化问题爬取器\n",
    "question_driver = webdriver.Chrome(drivers[\"chrome\"])\n",
    "question_parser = QuestionParser(\n",
    "    queue_put_result=q_result,\n",
    "    queue_put_task=q_task,\n",
    "    driver=question_driver,\n",
    "    logger=Logger(\"q\")\n",
    ")\n",
    "\n",
    "# 初始化多个回答爬取器\n",
    "answer_drivers = []\n",
    "answer_parsers = []\n",
    "for i in range(nr_answer_parsers):\n",
    "    answer_drivers.append(\n",
    "        webdriver.Chrome(drivers[\"chrome\"])\n",
    "    )\n",
    "    answer_parsers.append(\n",
    "        AnswerParser(\n",
    "            queue_put_result=q_result,\n",
    "            queue_get_task=q_task,\n",
    "            driver=answer_drivers[i],\n",
    "            logger=Logger(\"a_{}\".format(i))\n",
    "        )\n",
    "    )\n",
    "fin_events = [\n",
    "    question_parser.fin_event\n",
    "] + [\n",
    "    answer_parser.fin_event\n",
    "    for answer_parser in answer_parsers\n",
    "]\n",
    "            \n",
    "# 初始化爬取结果处理器\n",
    "master = Master(\n",
    "    db_path=db_path,\n",
    "    git_repo_path=vcs_path,\n",
    "    logger=Logger(\"m\")\n",
    ")\n"
   ]
  },
  {
   "cell_type": "code",
   "execution_count": 9,
   "id": "294a4eae-5a80-45a5-9872-64886740c735",
   "metadata": {},
   "outputs": [],
   "source": [
    "# 初始化爬取器和处理器的进程\n",
    "targets = [\n",
    "    # target func and args\n",
    "    (question_parser.start_parsing_list, (q_list,))\n",
    "] + [\n",
    "    (answer_parser.start_parsing, (question_parser.fin_event,))\n",
    "    for answer_parser in answer_parsers\n",
    "] + [\n",
    "    # (master.start, (config[\"commiter_name\"],config[\"commiter_email\"],q_result))\n",
    "    (master.start_parse, (\n",
    "        repo_config['owner_name'],\n",
    "        repo_config[\"owner_email\"],\n",
    "        q_result,\n",
    "        fin_events\n",
    "    ))\n",
    "]\n",
    "\n",
    "\n",
    "processes = [\n",
    "    Process(target=target_func, args=args)\n",
    "    for target_func, args in targets\n",
    "]\n",
    "\n",
    "\n",
    "\n",
    "\n",
    "\n"
   ]
  },
  {
   "cell_type": "code",
   "execution_count": 10,
   "id": "db08d92b-29c0-468c-bfea-e4f20277b738",
   "metadata": {},
   "outputs": [
    {
     "name": "stdout",
     "output_type": "stream",
     "text": [
      "551585913\n",
      "q: parsing question with id=551585913\n",
      "q: Scrolled to bottom.\n",
      "q: a_0:parsed 551585913 \n",
      "parsing answer with id=2658341990q:\n",
      " fin\n",
      "a_1: stop\n",
      "a_1: puta_2:\n",
      " a_1:stop \n",
      "parsing done.\n",
      "a_2: put\n",
      "a_2: parsing done.\n",
      "a_1: out\n",
      "a_2: out\n",
      "a_0: stop\n",
      "a_0: put\n",
      "a_0: parsing done.\n",
      "a_0: out\n",
      "m: get question: 551585913\n",
      "m: question 551585913 is in database\n",
      "m: get answer: 2658341990\n",
      "m: answer 2658341990 is in database\n",
      "m: version update\n",
      "m: done.\n"
     ]
    }
   ],
   "source": [
    "# 开启爬取进程\n",
    "for p in processes[:-1]:\n",
    "# for p in processes:\n",
    "    p.start()\n",
    "\n",
    "# 目前有未解决的进程死锁问题，因此通过先运行所有 parser\n",
    "# 进程, 当所有 parser 的运行完成 flag 设为 True 后\n",
    "# 再运行档案管理进程。\n",
    "while not all([e.is_set() for e in fin_events]):\n",
    "    time.sleep(5)\n",
    "processes[-1].start()\n",
    "    \n",
    "for p in processes:\n",
    "    p.join()"
   ]
  },
  {
   "cell_type": "code",
   "execution_count": null,
   "id": "c3f11976-913c-4ecb-b79f-a7b750720003",
   "metadata": {},
   "outputs": [],
   "source": []
  },
  {
   "cell_type": "code",
   "execution_count": null,
   "id": "c41d1ca8-2974-45f6-ad2f-323f21a09ec2",
   "metadata": {},
   "outputs": [],
   "source": [
    "class Controller:\n",
    "    def __init__(\n",
    "        self, \n",
    "    ):\n",
    "        self.processes = []\n",
    "        pass"
   ]
  }
 ],
 "metadata": {
  "kernelspec": {
   "display_name": "web",
   "language": "python",
   "name": "web"
  },
  "language_info": {
   "codemirror_mode": {
    "name": "ipython",
    "version": 3
   },
   "file_extension": ".py",
   "mimetype": "text/x-python",
   "name": "python",
   "nbconvert_exporter": "python",
   "pygments_lexer": "ipython3",
   "version": "3.9.18"
  }
 },
 "nbformat": 4,
 "nbformat_minor": 5
}
