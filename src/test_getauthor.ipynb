{
 "cells": [
  {
   "cell_type": "code",
   "execution_count": 1,
   "id": "e5081134-55e2-4999-b6cc-5b706462b263",
   "metadata": {},
   "outputs": [],
   "source": [
    "from config import drivers"
   ]
  },
  {
   "cell_type": "code",
   "execution_count": 2,
   "id": "8d247df2-3029-4d51-94a5-f689589b0584",
   "metadata": {},
   "outputs": [],
   "source": [
    "from multiprocessing import Queue\n",
    "from common import AnswerBriefInfo, AnswerParseTask, TaskStopEvent\n",
    "from typing import List, Dict\n",
    "from bs4 import BeautifulSoup as bf\n",
    "from selenium.common.exceptions import ElementNotVisibleException\n",
    "from util.web_util import zhihu_answer_url, close_button\n",
    "from time import sleep"
   ]
  },
  {
   "cell_type": "code",
   "execution_count": 3,
   "id": "1b203982-8170-4017-b2cb-8dae0652184e",
   "metadata": {},
   "outputs": [],
   "source": [
    "from selenium import webdriver"
   ]
  },
  {
   "cell_type": "code",
   "execution_count": 4,
   "id": "120d8ae5-4026-412f-a5ec-864260a2c35e",
   "metadata": {},
   "outputs": [
    {
     "name": "stdout",
     "output_type": "stream",
     "text": [
      "/media/ywatcher/ExtDisk1/Files/Packages/web_archiv/driver/chromedriver-linux64/chromedriver\n"
     ]
    }
   ],
   "source": [
    "print(drivers[\"chrome\"])"
   ]
  },
  {
   "cell_type": "code",
   "execution_count": 5,
   "id": "e6cf5366-50e0-4058-b0b7-6f87fe005a11",
   "metadata": {},
   "outputs": [],
   "source": [
    "driver = webdriver.Chrome(drivers[\"chrome\"])"
   ]
  },
  {
   "cell_type": "code",
   "execution_count": 6,
   "id": "515c5c16-51f5-4bd3-912f-7f7bd279af5a",
   "metadata": {},
   "outputs": [],
   "source": [
    "aid = 80059096"
   ]
  },
  {
   "cell_type": "code",
   "execution_count": 7,
   "id": "8668fb2b-3b18-4c1a-a97d-4d48768e1fc8",
   "metadata": {},
   "outputs": [
    {
     "name": "stdout",
     "output_type": "stream",
     "text": [
      "https://www.zhihu.com/answer/80059096\n"
     ]
    }
   ],
   "source": [
    "url = zhihu_answer_url(aid)\n",
    "print(url)"
   ]
  },
  {
   "cell_type": "code",
   "execution_count": 8,
   "id": "8466b2db-185f-4749-b9a4-8302f2e5aac4",
   "metadata": {},
   "outputs": [],
   "source": [
    "driver.get(url)\n",
    "close_button(driver)"
   ]
  },
  {
   "cell_type": "code",
   "execution_count": 12,
   "id": "44bc0d09-eed3-47e9-92b2-ca9fb03523a7",
   "metadata": {},
   "outputs": [],
   "source": [
    "content_blocks = driver.find_elements_by_xpath(\n",
    "            '//div[@class=\"QuestionAnswer-content\"]'\n",
    "        )\n",
    "assert len(content_blocks) == 1\n",
    "content_block = content_blocks[0].find_element_by_xpath(\n",
    "    '//div[@class=\"QuestionAnswer-content\"]'  # FIXME\n",
    ").get_attribute(\"outerHTML\")\n"
   ]
  },
  {
   "cell_type": "code",
   "execution_count": 13,
   "id": "9264369e-6176-4d82-b6c7-98babf39bc18",
   "metadata": {},
   "outputs": [
    {
     "data": {
      "text/plain": [
       "'<div class=\"QuestionAnswer-content\" tabindex=\"0\"><div><div class=\"ContentItem AnswerItem\" data-zop=\"{&quot;authorName&quot;:&quot;知乎用户L6GJ5I&quot;,&quot;itemId&quot;:80059096,&quot;title&quot;:&quot;为什么做设计的都喜欢用苹果电脑？&quot;,&quot;type&quot;:&quot;answer&quot;}\" name=\"80059096\" itemprop=\"mainEntityOfPage\" itemtype=\"http://schema.org/Answer\" itemscope=\"\" data-za-detail-view-path-module=\"AnswerItem\" data-za-extra-module=\"{&quot;card&quot;:{&quot;has_image&quot;:false,&quot;has_video&quot;:false,&quot;content&quot;:{&quot;type&quot;:&quot;Answer&quot;,&quot;token&quot;:&quot;80059096&quot;,&quot;upvote_num&quot;:61,&quot;comment_num&quot;:24,&quot;publish_timestamp&quot;:null,&quot;parent_token&quot;:&quot;19693224&quot;,&quot;author_member_hash_id&quot;:&quot;d6e3baec6c6adf6fce7a79228de8174e&quot;}}}\"><div class=\"ContentItem-meta\"><div class=\"AuthorInfo AnswerItem-authorInfo AnswerItem-authorInfo--related\" itemprop=\"author\" itemscope=\"\" itemtype=\"http://schema.org/Person\"><div class=\"AuthorInfo\"><meta itemprop=\"name\" content=\"知乎用户L6GJ5I\"><meta itemprop=\"image\" content=\"https://picx.zhimg.com/v2-abed1a8c04700ba7d72b45195223e0ff_l.jpg?source=2c26e567\"><meta itemprop=\"url\" content=\"https://www.zhihu.com/people/Nclshtl\"><meta itemprop=\"zhihu:followerCount\" content=\"318\"><span class=\"UserLink AuthorInfo-avatarWrapper\"><div class=\"css-1gomreu\"><a href=\"//www.zhihu.com/people/Nclshtl\" target=\"_blank\" class=\"UserLink-link\" data-za-detail-view-element_name=\"User\"><img class=\"Avatar AuthorInfo-avatar css-1hx3fyn\" src=\"https://picx.zhimg.com/v2-abed1a8c04700ba7d72b45195223e0ff_l.jpg?source=2c26e567\" srcset=\"https://picx.zhimg.com/v2-abed1a8c04700ba7d72b45195223e0ff_l.jpg?source=2c26e567 2x\" alt=\"知乎用户L6GJ5I\"></a></div></span><div class=\"AuthorInfo-content\"><div class=\"AuthorInfo-head\"><span class=\"UserLink AuthorInfo-name\"><div class=\"css-1gomreu\"><a href=\"//www.zhihu.com/people/Nclshtl\" target=\"_blank\" class=\"UserLink-link\" data-za-detail-view-element_name=\"User\">知乎用户L6GJ5I</a></div></span></div><div class=\"AuthorInfo-detail\"><div class=\"AuthorInfo-badge\"></div></div></div></div><button type=\"button\" class=\"Button FollowButton css-upmq18 FEfUrdfMIKpQDJDqkjte Button--secondary Button--blue E211w_M7Hzs0GMB7BEyA JmYzaky7MEPMFcJDLNMG\"><span style=\"display: inline-flex; align-items: center;\">\\u200b<svg width=\"1.2em\" height=\"1.2em\" viewBox=\"0 0 24 24\" class=\"ZDI ZDI--PlusFill24\" fill=\"currentColor\"><path fill-rule=\"evenodd\" d=\"M13.25 3.25a1.25 1.25 0 1 0-2.5 0v7.5h-7.5a1.25 1.25 0 1 0 0 2.5h7.5v7.5a1.25 1.25 0 1 0 2.5 0v-7.5h7.5a1.25 1.25 0 0 0 0-2.5h-7.5v-7.5Z\" clip-rule=\"evenodd\"></path></svg></span> 关注</button><div class=\"css-124ezq8\"></div></div><div class=\"LabelContainer-wrapper\"></div></div><meta itemprop=\"image\"><meta itemprop=\"upvoteCount\" content=\"61\"><meta itemprop=\"url\" content=\"https://www.zhihu.com/question/19693224/answer/80059096\"><meta itemprop=\"dateCreated\" content=\"2016-01-05T05:40:50.000Z\"><meta itemprop=\"dateModified\" content=\"2016-01-05T05:40:50.000Z\"><meta itemprop=\"commentCount\" content=\"24\"><div class=\"RichContent RichContent--unescapable\"><span><div class=\"RichContent-inner\"><div class=\"css-376mun\"><span class=\"RichText ztext CopyrightRichText-richText css-117anjg\" options=\"[object Object]\" itemprop=\"text\"><p data-first-child=\"\" data-pid=\"2SUUxtBj\">因为以大多数设计师的水平其实用不到专业的。</p></span></div></div></span><div><div class=\"ContentItem-time\"><a target=\"_blank\" href=\"//www.zhihu.com/question/19693224/answer/80059096\"><span data-tooltip=\"发布于 2016-01-05 13:40\" aria-label=\"发布于 2016-01-05 13:40\">发布于 2016-01-05 13:40</span></a></div></div><span></span><div class=\"ContentItem-actions\"><span><button aria-label=\"赞同 61 \" aria-live=\"polite\" type=\"button\" class=\"Button VoteButton VoteButton--up FEfUrdfMIKpQDJDqkjte\"><span style=\"display: inline-flex; align-items: center;\">\\u200b<svg width=\"10\" height=\"10\" viewBox=\"0 0 24 24\" class=\"Zi Zi--TriangleUp VoteButton-TriangleUp\" fill=\"currentColor\"><path fill-rule=\"evenodd\" d=\"M13.792 3.681c-.781-1.406-2.803-1.406-3.584 0l-7.79 14.023c-.76 1.367.228 3.046 1.791 3.046h15.582c1.563 0 2.55-1.68 1.791-3.046l-7.79-14.023Z\" clip-rule=\"evenodd\"></path></svg></span>赞同 61</button><button aria-label=\"反对\" aria-live=\"polite\" type=\"button\" class=\"Button VoteButton VoteButton--down FEfUrdfMIKpQDJDqkjte\"><span style=\"display: inline-flex; align-items: center;\">\\u200b<svg width=\"10\" height=\"10\" viewBox=\"0 0 24 24\" class=\"Zi Zi--TriangleDown\" fill=\"currentColor\"><path fill-rule=\"evenodd\" d=\"M13.792 20.319c-.781 1.406-2.803 1.406-3.584 0L2.418 6.296c-.76-1.367.228-3.046 1.791-3.046h15.582c1.563 0 2.55 1.68 1.791 3.046l-7.79 14.023Z\" clip-rule=\"evenodd\"></path></svg></span></button></span><button type=\"button\" class=\"Button ContentItem-action FEfUrdfMIKpQDJDqkjte Button--plain Button--withIcon Button--withLabel fEPKGkUK5jyc4fUuT0QP B46v1Ak6Gj5sL2JTS4PY RuuQ6TOh2cRzJr6WlyQp\"><span style=\"display: inline-flex; align-items: center;\">\\u200b<svg width=\"1.2em\" height=\"1.2em\" viewBox=\"0 0 24 24\" class=\"Zi Zi--Comment Button-zi t2ntD6J1DemdOdvh5FB4\" fill=\"currentColor\"><path fill-rule=\"evenodd\" d=\"M12 2.75a9.25 9.25 0 1 0 4.737 17.197l2.643.817a1 1 0 0 0 1.25-1.25l-.8-2.588A9.25 9.25 0 0 0 12 2.75Z\" clip-rule=\"evenodd\"></path></svg></span>24 条评论</button><div class=\"Popover ShareMenu ContentItem-action\"><div class=\"ShareMenu-toggler\" id=\"Popover8-toggle\" aria-haspopup=\"true\" aria-expanded=\"false\" aria-owns=\"Popover8-content\"><button type=\"button\" class=\"Button FEfUrdfMIKpQDJDqkjte Button--plain Button--withIcon Button--withLabel fEPKGkUK5jyc4fUuT0QP B46v1Ak6Gj5sL2JTS4PY RuuQ6TOh2cRzJr6WlyQp\"><span style=\"display: inline-flex; align-items: center;\">\\u200b<svg width=\"1.2em\" height=\"1.2em\" viewBox=\"0 0 24 24\" class=\"Zi Zi--Share Button-zi t2ntD6J1DemdOdvh5FB4\" fill=\"currentColor\"><path d=\"M19.47 1.914a.8.8 0 0 1 1.204.778l-1.872 16.386a.9.9 0 0 1-1.204.743l-4.615-1.692a.7.7 0 0 0-.831.28l-1.927 3.02c-.43.674-1.474.369-1.474-.43v-3.865a.8.8 0 0 1 .179-.504l5.808-7.148a.595.595 0 0 0-.897-.781l-5.93 6.354a1.1 1.1 0 0 1-1.258.252L2.57 13.46a.8.8 0 0 1-.08-1.415l16.98-10.13Z\"></path></svg></span>分享</button></div></div><button type=\"button\" class=\"Button ContentItem-action FEfUrdfMIKpQDJDqkjte Button--plain Button--withIcon Button--withLabel fEPKGkUK5jyc4fUuT0QP B46v1Ak6Gj5sL2JTS4PY RuuQ6TOh2cRzJr6WlyQp\"><span style=\"display: inline-flex; align-items: center;\">\\u200b<svg width=\"1.2em\" height=\"1.2em\" viewBox=\"0 0 24 24\" class=\"Zi Zi--Star Button-zi t2ntD6J1DemdOdvh5FB4\" fill=\"currentColor\"><path d=\"M10.484 3.307c.673-1.168 2.358-1.168 3.032 0l2.377 4.122a.25.25 0 0 0 .165.12l4.655.987c1.319.28 1.84 1.882.937 2.884l-3.186 3.535a.25.25 0 0 0-.063.193l.5 4.733c.142 1.34-1.222 2.33-2.453 1.782l-4.346-1.938a.25.25 0 0 0-.204 0l-4.346 1.938c-1.231.549-2.595-.442-2.453-1.782l.5-4.733a.25.25 0 0 0-.064-.193L2.35 11.42c-.903-1.002-.382-2.604.937-2.884l4.655-.987a.25.25 0 0 0 .164-.12l2.378-4.122Z\"></path></svg></span>收藏</button><button aria-live=\"polite\" type=\"button\" class=\"Button ContentItem-action FEfUrdfMIKpQDJDqkjte Button--plain Button--withIcon Button--withLabel fEPKGkUK5jyc4fUuT0QP B46v1Ak6Gj5sL2JTS4PY RuuQ6TOh2cRzJr6WlyQp\"><span style=\"display: inline-flex; align-items: center;\">\\u200b<svg width=\"1.2em\" height=\"1.2em\" viewBox=\"0 0 24 24\" class=\"Zi Zi--Heart Button-zi t2ntD6J1DemdOdvh5FB4\" fill=\"currentColor\"><path fill-rule=\"evenodd\" d=\"M12.004 4.934c1.015-.944 2.484-1.618 3.98-1.618 3.48 0 6.53 3.265 6.15 7.614-.11 1.254-.686 2.55-1.458 3.753-.778 1.215-1.79 2.392-2.845 3.419-1.054 1.028-2.168 1.923-3.161 2.566a9.96 9.96 0 0 1-1.41.777c-.418.182-.862.32-1.268.32s-.848-.137-1.267-.317a9.918 9.918 0 0 1-1.407-.771c-.992-.64-2.103-1.53-3.156-2.555-1.052-1.024-2.062-2.2-2.84-3.417-.77-1.208-1.346-2.51-1.456-3.775-.38-4.349 2.67-7.614 6.15-7.614 1.484 0 2.983.673 3.988 1.618Z\" clip-rule=\"evenodd\"></path></svg></span>喜欢</button></div></div><div><div><div class=\"\"></div><div class=\"ModalLoading-content\"><svg width=\"30\" height=\"30\" viewBox=\"0 0 66 66\" xmlns=\"http://www.w3.org/2000/svg\" class=\"CircleLoadingBar  css-bypjk1\" aria-hidden=\"true\"><g><circle class=\"path\" fill=\"none\" stroke-width=\"6\" stroke-linecap=\"round\" cx=\"33\" cy=\"33\" r=\"30\"></circle></g></svg></div></div></div></div></div></div>'"
      ]
     },
     "execution_count": 13,
     "metadata": {},
     "output_type": "execute_result"
    }
   ],
   "source": [
    "content_block"
   ]
  },
  {
   "cell_type": "code",
   "execution_count": null,
   "id": "033096d2-02c7-44b4-8aa5-cdcf7e986028",
   "metadata": {},
   "outputs": [],
   "source": [
    "@staticmethod\n",
    "    def parse_content_block(html_text: str) -> Dict[str, str]:\n",
    "        obj = bf(html_text, 'html.parser')\n",
    "        \n",
    "        content = obj.find(\n",
    "            'div', class_='RichContent-inner').find('span').contents\n",
    "        author = None  # TODO\n",
    "        upvoteCount = obj.find('meta', itemprop=\"upvoteCount\").get(\"content\")\n",
    "        dateCreated = obj.find('meta', itemprop=\"dateCreated\").get(\"content\")\n",
    "        dateModified = obj.find('meta', itemprop=\"dateModified\").get(\"content\")\n",
    "        commentCount = obj.find('meta', itemprop='commentCount').get(\"content\")\n",
    "        return {\n",
    "            \"author\": author,\n",
    "            \"content\": content,\n",
    "            \"upvoteCount\": upvoteCount,\n",
    "            \"dateCreated\": dateCreated,\n",
    "            \"dateModified\": dateModified,\n",
    "            \"commentCount\": commentCount\n",
    "        }"
   ]
  },
  {
   "cell_type": "code",
   "execution_count": 14,
   "id": "67f1c715-60d3-4a6b-a76a-58da5032499c",
   "metadata": {},
   "outputs": [],
   "source": [
    "obj = bf(content_block, 'html.parser')"
   ]
  },
  {
   "cell_type": "code",
   "execution_count": 17,
   "id": "d037682b-96fe-4e5d-9a93-12885a1ba12d",
   "metadata": {},
   "outputs": [],
   "source": [
    "author_info = obj.find('div',class_='AuthorInfo')"
   ]
  },
  {
   "cell_type": "code",
   "execution_count": 20,
   "id": "dd05b373-5fc2-4e9c-be28-c5923bb8d02b",
   "metadata": {},
   "outputs": [
    {
     "data": {
      "text/plain": [
       "['知乎用户L6GJ5I', 'https://www.zhihu.com/people/Nclshtl']"
      ]
     },
     "execution_count": 20,
     "metadata": {},
     "output_type": "execute_result"
    }
   ],
   "source": [
    "[\n",
    "    author_info.find('meta',itemprop='name').get('content'),\n",
    "    author_info.find('meta',itemprop='url').get('content')\n",
    "]"
   ]
  },
  {
   "cell_type": "code",
   "execution_count": 22,
   "id": "504a5b08-f29c-41e9-b462-6d56a3c4fc23",
   "metadata": {},
   "outputs": [
    {
     "data": {
      "text/plain": [
       "'//www.zhihu.com/people/Nclshtl'"
      ]
     },
     "execution_count": 22,
     "metadata": {},
     "output_type": "execute_result"
    }
   ],
   "source": [
    "author_info.find('a',class_='UserLink-link').get('href') # real name"
   ]
  },
  {
   "cell_type": "code",
   "execution_count": null,
   "id": "0e854612-af5c-448d-a1c8-c84d4682a834",
   "metadata": {},
   "outputs": [],
   "source": []
  }
 ],
 "metadata": {
  "kernelspec": {
   "display_name": "web",
   "language": "python",
   "name": "web"
  },
  "language_info": {
   "codemirror_mode": {
    "name": "ipython",
    "version": 3
   },
   "file_extension": ".py",
   "mimetype": "text/x-python",
   "name": "python",
   "nbconvert_exporter": "python",
   "pygments_lexer": "ipython3",
   "version": "3.9.18"
  }
 },
 "nbformat": 4,
 "nbformat_minor": 5
}
