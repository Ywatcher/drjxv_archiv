{
 "cells": [
  {
   "cell_type": "code",
   "execution_count": 3,
   "id": "5b64f46d-05f5-4aa1-8fb6-ed17ff32a7d2",
   "metadata": {},
   "outputs": [],
   "source": [
    "from config import drivers\n",
    "from multiprocessing import Queue\n",
    "from common import AnswerBriefInfo, AnswerParseTask, TaskStopEvent\n",
    "from typing import List, Dict\n",
    "from bs4 import BeautifulSoup as bf\n",
    "from selenium.common.exceptions import ElementNotVisibleException\n",
    "from util.web_util import zhihu_question_url, close_button \n",
    "from time import sleep\n",
    "from selenium import webdriver"
   ]
  },
  {
   "cell_type": "code",
   "execution_count": 2,
   "id": "7fe0e0f3-69b1-4c3b-953a-ccbbfac7815f",
   "metadata": {},
   "outputs": [],
   "source": [
    "driver = webdriver.Chrome(drivers[\"chrome\"])"
   ]
  },
  {
   "cell_type": "code",
   "execution_count": 4,
   "id": "07316bb0-033d-4fd4-b4b9-ca98a93701fa",
   "metadata": {},
   "outputs": [],
   "source": [
    "q_id = 625769474\n",
    "url = zhihu_question_url(q_id)"
   ]
  },
  {
   "cell_type": "code",
   "execution_count": 5,
   "id": "c181e390-01a4-4993-ab0b-24a6cb282748",
   "metadata": {},
   "outputs": [],
   "source": [
    "driver.get(url)\n",
    "close_button(driver)"
   ]
  },
  {
   "cell_type": "code",
   "execution_count": 7,
   "id": "e21cec70-c129-4dac-bf69-267e7864ee25",
   "metadata": {},
   "outputs": [],
   "source": [
    "import time"
   ]
  },
  {
   "cell_type": "code",
   "execution_count": 9,
   "id": "0ea60f7f-6e81-43e4-9929-0b9d6514fc69",
   "metadata": {},
   "outputs": [
    {
     "name": "stdout",
     "output_type": "stream",
     "text": [
      "滚动条已经处于页面最下方!\n"
     ]
    }
   ],
   "source": [
    "def scroll_to_bottom(driver):\n",
    "    js='return document.body.scrollHeight;'\n",
    "    height=0\n",
    "    while True:\n",
    "        new_height = driver.execute_script(js)\n",
    "        if new_height > height:\n",
    "            driver.execute_script('window.scrollTo(0, document.body.scrollHeight)')\n",
    "            height = new_height\n",
    "            time.sleep(5)\n",
    "        else:\n",
    "            print(\"滚动条已经处于页面最下方!\")\n",
    "            driver.execute_script('window.scrollTo(0, 0)')#页面滚动到顶部\n",
    "            break"
   ]
  },
  {
   "cell_type": "code",
   "execution_count": null,
   "id": "68502fd0-6403-44d4-baca-971170a04c0c",
   "metadata": {},
   "outputs": [],
   "source": []
  }
 ],
 "metadata": {
  "kernelspec": {
   "display_name": "web",
   "language": "python",
   "name": "web"
  },
  "language_info": {
   "codemirror_mode": {
    "name": "ipython",
    "version": 3
   },
   "file_extension": ".py",
   "mimetype": "text/x-python",
   "name": "python",
   "nbconvert_exporter": "python",
   "pygments_lexer": "ipython3",
   "version": "3.9.18"
  }
 },
 "nbformat": 4,
 "nbformat_minor": 5
}
