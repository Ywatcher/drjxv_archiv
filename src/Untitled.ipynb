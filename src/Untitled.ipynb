{
 "cells": [
  {
   "cell_type": "markdown",
   "id": "4625576d-afae-4bba-a028-bc8f1330a923",
   "metadata": {},
   "source": [
    "# init web driver"
   ]
  },
  {
   "cell_type": "code",
   "execution_count": 2,
   "id": "1e9c8b6c-71b4-4857-89f7-7fb38ec4b8e8",
   "metadata": {},
   "outputs": [],
   "source": [
    "from selenium import webdriver\n",
    "from pathlib import Path\n",
    "import os"
   ]
  },
  {
   "cell_type": "code",
   "execution_count": 9,
   "id": "7ef49e64-b417-41de-a97f-8c0be6a71e4d",
   "metadata": {},
   "outputs": [],
   "source": [
    "# root = \"/media/ywatcher/ExtDisk1/Files/py/archiv\"\n",
    "driver_root = os.path.join(root, \"driver\")\n",
    "drivers = {\n",
    "    \"chrome\" : os.path.join(\n",
    "        driver_root, \n",
    "        \"chromedriver-linux64\",\n",
    "        # \"/home/ywatcher/.cache/selenium/chromedriver/linux64/118.0.5993.70\",\n",
    "        \"chromedriver\"),\n",
    "        \n",
    "    \"firefox\" : os.path.join(\n",
    "        driver_root, \"geckodriver-v0.33.0-linux64\", \"geckodriver\"),\n",
    "    \"edge\": os.path.join(\n",
    "        driver_root, \"edgedriver_linux64\", \"msedgedriver\")\n",
    "}\n",
    "# get drivers from https://googlechromelabs.github.io/chrome-for-testing/"
   ]
  },
  {
   "cell_type": "code",
   "execution_count": 10,
   "id": "cadbd4d7-f741-4fe0-867b-1a54dcf9b7e0",
   "metadata": {},
   "outputs": [
    {
     "name": "stdout",
     "output_type": "stream",
     "text": [
      "/media/ywatcher/ExtDisk1/Files/Packages/web_archiv/driver/chromedriver-linux64/chromedriver\n",
      "True\n",
      "True\n"
     ]
    }
   ],
   "source": [
    "t = \"chrome\"\n",
    "# t = \"firefox\"\n",
    "# t = \"edge\"\n",
    "print(drivers[t])\n",
    "print(os.path.exists(drivers[t]))\n",
    "print(Path(drivers[t]).is_file())"
   ]
  },
  {
   "cell_type": "code",
   "execution_count": 11,
   "id": "58ff8033-3bb6-4f7e-9479-22aeb208f7ad",
   "metadata": {},
   "outputs": [],
   "source": [
    "driver = webdriver.Chrome(\n",
    "        drivers[\"chrome\"]\n",
    "        #executable_path=drivers[\"chrome\"]\n",
    "        # service=service,\n",
    "        # options =chromeOptions\n",
    "    )"
   ]
  },
  {
   "cell_type": "code",
   "execution_count": 12,
   "id": "89fb6e1d-2675-4564-80d0-0aa0986188c3",
   "metadata": {},
   "outputs": [],
   "source": [
    "q_id = 625769474"
   ]
  },
  {
   "cell_type": "code",
   "execution_count": 24,
   "id": "230971eb-2dc9-4368-a6db-4115376c4802",
   "metadata": {},
   "outputs": [
    {
     "name": "stdout",
     "output_type": "stream",
     "text": [
      "get url\n"
     ]
    }
   ],
   "source": []
  },
  {
   "cell_type": "code",
   "execution_count": 37,
   "id": "cb678f01-dde5-4aa3-baff-2c3830d85cdd",
   "metadata": {},
   "outputs": [],
   "source": []
  },
  {
   "cell_type": "code",
   "execution_count": 205,
   "id": "47e77181-ebf7-460b-b7c9-99273209608d",
   "metadata": {},
   "outputs": [],
   "source": [
    "def close_button(driver):\n",
    "    close_buttons = driver.find_elements_by_xpath(\n",
    "        #\"Button Modal-closeButton Button--plain\"\n",
    "        '//button[@class=\"Button Modal-closeButton Button--plain\"]'\n",
    "    )\n",
    "    assert len(close_buttons)==1\n",
    "    close_buttons[0].click()\n",
    "    \n",
    "def expand_question(driver):\n",
    "    expand_button = None\n",
    "    all_buttons = driver.find_element_by_xpath(\n",
    "        '//div[@class=\"QuestionHeader-content\"]'\n",
    "    ).find_element_by_xpath(\n",
    "        '//div[@class=\"QuestionRichText QuestionRichText--expandable QuestionRichText--collapsed\"]'\n",
    "    ).find_elements_by_xpath(\"//button\")\n",
    "    assert all_buttons[5].text=='显示全部'\n",
    "    expand_button = all_buttons[5]\n",
    "    # for b in all_buttons:\n",
    "    #     b.text\n",
    "    #     if b.text == '显示全部':\n",
    "    #         print(b.text)\n",
    "    #         expand_button = b\n",
    "    #     break\n",
    "    expand_button.click()"
   ]
  },
  {
   "cell_type": "code",
   "execution_count": 3,
   "id": "22018ad3-d2dc-42ee-aff7-84665eb19cf8",
   "metadata": {},
   "outputs": [],
   "source": [
    "from util.repo import database_root, root, driver_root\n",
    "db_test = os.path.join(database_root, \"test.1.db\")"
   ]
  },
  {
   "cell_type": "code",
   "execution_count": 36,
   "id": "95e9c2ac-5bbc-43bb-9d92-642fe210906f",
   "metadata": {},
   "outputs": [
    {
     "data": {
      "text/plain": [
       "'button'"
      ]
     },
     "execution_count": 36,
     "metadata": {},
     "output_type": "execute_result"
    }
   ],
   "source": [
    "close_buttons[0]."
   ]
  },
  {
   "cell_type": "code",
   "execution_count": 42,
   "id": "470f7ca7-93d1-4ecd-95ef-9e9f7b0d75da",
   "metadata": {
    "tags": []
   },
   "outputs": [],
   "source": [
    "source = driver.page_source"
   ]
  },
  {
   "cell_type": "code",
   "execution_count": 48,
   "id": "f9cbc8b5-d48e-47d8-9a15-aeddad8adc4d",
   "metadata": {},
   "outputs": [],
   "source": [
    "from multiprocessing import Process, Queue\n",
    "import time\n",
    "import sys"
   ]
  },
  {
   "cell_type": "code",
   "execution_count": 171,
   "id": "f8ce6f2b-9fdf-47b1-975d-3611d6f1ac0a",
   "metadata": {},
   "outputs": [],
   "source": [
    "import os.path\n",
    "from urllib.request import urlopen\n",
    "from typing import List\n",
    "import ast\n",
    "# 导入BeautifulSoup\n",
    "from bs4 import BeautifulSoup as bf\n",
    "from bs4.element import Tag\n",
    "from util.repo import root\n",
    "import xmljson\n",
    "\n",
    "\n",
    "def zhihu_question_url(question_id) -> str:\n",
    "    return \"https://www.zhihu.com/question/{}\".format(question_id)\n",
    "\n",
    "\n",
    "def zhihu_answer_url(answer_id) -> str:\n",
    "    return \"https://www.zhihu.com/answer/{}\".format(answer_id)"
   ]
  },
  {
   "cell_type": "code",
   "execution_count": 300,
   "id": "d9693a24-8d3f-4593-a086-111ee563df35",
   "metadata": {},
   "outputs": [],
   "source": [
    "class AnswerParser:\n",
    "    def __init__(\n",
    "        self, \n",
    "        queue_get_task:Queue, \n",
    "        queue_put_result:Queue,\n",
    "        driver,\n",
    "        logger=None\n",
    "    ):\n",
    "        self.queue_get_task = queue_get_task\n",
    "        self.queue_put_result = queue_put_result\n",
    "        self.driver = driver\n",
    "        self.logger = logger\n",
    "        \n",
    "        \n",
    "    def parse(self, answer_id, question_id=None):\n",
    "        if self.logger is not None:\n",
    "            self.logger.log(\n",
    "                f\"parsing answer with id={answer_id}\")\n",
    "        url = zhihu_answer_url(answer_id=answer_id)\n",
    "        try: \n",
    "            self.driver.get(url)\n",
    "            close_button(self.driver)\n",
    "        except ElementNotVisibleException :\n",
    "            print(\"try again\")\n",
    "            self.driver.get(url)\n",
    "            close_button(self.driver)\n",
    "        if question_id is None:\n",
    "            question_id = \"\" # FIXME: get question id from web element\n",
    "        content_blocks = self.driver.find_elements_by_xpath(\n",
    "            '//div[@class=\"QuestionAnswer-content\"]'\n",
    "        )\n",
    "        assert len(content_blocks)==1\n",
    "        content_block = content_blocks[0].find_element_by_xpath(\n",
    "            '//div[@class=\"QuestionAnswer-content\"]' # FIXME\n",
    "        ).get_attribute(\"outerHTML\")\n",
    "        \n",
    "        parsed_answer_info = self.parse_content_block(\n",
    "            html_text=content_block\n",
    "        )\n",
    "        self.queue_put_result.put(AnswerBriefInfo(\n",
    "            question_id=question_id,\n",
    "            answer_id=answer_id,\n",
    "            **parsed_answer_info\n",
    "        ))\n",
    "        if False: # FIXME\n",
    "            self.get_comments()\n",
    "                \n",
    "        \n",
    "        \n",
    "    @staticmethod\n",
    "    def parse_content_block(html_text:str) -> Dict[str,str]:\n",
    "        obj = bf(html_text, 'html.parser')\n",
    "        content = obj.find('div', class_='RichContent-inner').find('span').contents\n",
    "        author = None  # TODO\n",
    "        upvoteCount = obj.find('meta', itemprop=\"upvoteCount\").get(\"content\")\n",
    "        dateCreated=obj.find('meta', itemprop=\"dateCreated\").get(\"content\")\n",
    "        dateModified = obj.find('meta', itemprop=\"dateModified\").get(\"content\")\n",
    "        commentCount = obj.find('meta', itemprop='commentCount').get(\"content\")\n",
    "        return {\n",
    "            \"author\":author,\n",
    "            \"content\":content, \n",
    "            \"upvoteCount\":upvoteCount, \n",
    "            \"dateCreated\":dateCreated, \n",
    "            \"dateModified\":dateModified, \n",
    "            \"commentCount\":commentCount\n",
    "        }\n",
    "\n",
    "    def get_comments(self):\n",
    "        pass\n",
    "    \n",
    "    def start_parsing(self):\n",
    "        while True:\n",
    "            task = self.queue_get_task.get(True,2)\n",
    "            if isinstance(task, TaskStopEvent):\n",
    "                self.queue_get_task.put(task)\n",
    "                break\n",
    "            elif isinstance(task, AnswerParseTask):\n",
    "                self.parse(\n",
    "                    answer_id=task.answer_id,\n",
    "                    question_id=task.question_id\n",
    "                )\n",
    "            else:\n",
    "                raise Exception\n",
    "        "
   ]
  },
  {
   "cell_type": "code",
   "execution_count": 292,
   "id": "1d8a6ee3-baf2-4df1-a73a-3bb8e721dbfb",
   "metadata": {},
   "outputs": [],
   "source": [
    "class QuestionParser:\n",
    "    def __init__(\n",
    "        self, \n",
    "        queue_put_result: Queue,\n",
    "        queue_put_task: Queue,\n",
    "        driver,\n",
    "        logger=None\n",
    "    ):\n",
    "        self.queue_put_result = queue_put_result\n",
    "        self.queue_put_task = queue_put_task\n",
    "        self.driver = driver\n",
    "        self.logger = logger\n",
    "        \n",
    "    def parse(self, question_id):\n",
    "        if self.logger is not None:\n",
    "            self.logger.log(\n",
    "                f\"parsing question with id={question_id}\")\n",
    "        url = zhihu_question_url(question_id)\n",
    "        try: \n",
    "            self.driver.get(url)\n",
    "            close_button(self.driver)\n",
    "        except ElementNotVisibleException :\n",
    "            print(\"try again\")\n",
    "            self.driver.get(url)\n",
    "            close_button(self.driver)\n",
    "        expand_question(self.driver)\n",
    "        answerCount = self.driver.find_element_by_xpath(\n",
    "            '//div[@class=\"QuestionPage\"]/meta[@itemprop=\"answerCount\"]'\n",
    "        ).get_attribute(\"content\")\n",
    "        dateCreated = self.driver.find_element_by_xpath(\n",
    "            '//div[@class=\"QuestionPage\"]/meta[@itemprop=\"dateCreated\"]'\n",
    "        ).get_attribute(\"content\")\n",
    "        dateModified = self.driver.find_element_by_xpath(\n",
    "            '//div[@class=\"QuestionPage\"]/meta[@itemprop=\"dateModified\"]'\n",
    "        ).get_attribute(\"content\")\n",
    "        \n",
    "        content_blocks = self.driver.find_elements_by_xpath(\n",
    "            '//div[@class=\"QuestionHeader\"]'\n",
    "        )\n",
    "        # assert len(content_blocks)==1\n",
    "        content_block = content_blocks[0].get_attribute(\"outerHTML\")\n",
    "        # parse content(rich text) and title\n",
    "        parsed_question_info = self.parse_question_block(content_block)\n",
    "        self.queue_put_result.put( QuestionBriefInfo(\n",
    "            question_id=question_id,\n",
    "            answerCount=answerCount,\n",
    "            dateCreated=dateCreated,\n",
    "            dateModified=dateModified,\n",
    "            **parsed_question_info\n",
    "        ))\n",
    "        self.put_answer_tasks_to_queue(question_id)\n",
    "        \n",
    "        \n",
    "    @staticmethod\n",
    "    def parse_question_block(html_text:str):\n",
    "        obj = bf(html_text, 'html.parser')\n",
    "        title = obj.find('h1', class_=\"QuestionHeader-title\").text\n",
    "        content = obj.find(\n",
    "            'div', \n",
    "            class_=\"QuestionRichText QuestionRichText--expandable\"\n",
    "        ).find('span').contents\n",
    "        \n",
    "        return {\n",
    "            \"title\": title,\n",
    "            \"content\" : content\n",
    "        }\n",
    "    \n",
    "    def put_answer_tasks_to_queue(self, question_id):\n",
    "        # FIXME: scroll\n",
    "        question_answers = self.driver.find_elements_by_xpath(\n",
    "            '//div[@class=\"ContentItem AnswerItem\"]'\n",
    "        )\n",
    "        # TODO: scroll and catch new items loaded\n",
    "        for q in question_answers:\n",
    "            self.queue_put_task.put(\n",
    "                AnswerParseTask(\n",
    "                    question_id=question_id,\n",
    "                    answer_id=q.get_attribute(\"name\")\n",
    "                )\n",
    "            )\n",
    "        self.queue_put_task.put(TaskStopEvent())\n",
    "        \n",
    "            \n",
    "            \n",
    "        \n",
    "            \n",
    "        "
   ]
  },
  {
   "cell_type": "code",
   "execution_count": 290,
   "id": "622b773b-230f-4a02-8008-d5aaee63cad2",
   "metadata": {},
   "outputs": [],
   "source": [
    "from dataclasses import dataclass\n",
    "from typing import Union,Dict\n",
    "@dataclass\n",
    "class AnswerBriefInfo:\n",
    "    question_id: str\n",
    "    answer_id:str\n",
    "    author:str\n",
    "    content: str # html like\n",
    "    upvoteCount: Union[int,str]\n",
    "    dateCreated : str\n",
    "    dateModified:str\n",
    "    commentCount:str\n",
    "  \n",
    "    \n",
    "@dataclass\n",
    "class CommentBriefInfo:\n",
    "    pass\n",
    "\n",
    "\n",
    "@dataclass\n",
    "class QuestionBriefInfo:\n",
    "    question_id:str\n",
    "    title: str\n",
    "    content: str\n",
    "    answerCount: str\n",
    "    dateCreated : str\n",
    "    dateModified:str\n",
    "\n",
    "@dataclass\n",
    "class AnswerParseTask:\n",
    "    question_id:Union[int, str]\n",
    "    answer_id: Union[int, str]\n",
    "    \n",
    "class TaskStopEvent:\n",
    "    pass"
   ]
  },
  {
   "cell_type": "code",
   "execution_count": 231,
   "id": "dfdbba93-7157-45e1-8707-3132841fe5fe",
   "metadata": {
    "collapsed": true,
    "jupyter": {
     "outputs_hidden": true
    },
    "tags": []
   },
   "outputs": [
    {
     "data": {
      "text/plain": [
       "'<div class=\"QuestionHeader\"><div class=\"QuestionHeader-content\"><div class=\"QuestionHeader-main\"><div class=\"QuestionHeader-tags\"><div class=\"QuestionHeader-topics\"><div class=\"Tag QuestionTopic css-1s3a4zw\" data-za-detail-view-path-module=\"TopicItem\" data-za-extra-module=\"{&quot;card&quot;:{&quot;content&quot;:{&quot;type&quot;:&quot;Topic&quot;,&quot;token&quot;:&quot;19550706&quot;}}}\"><span class=\"Tag-content\"><a class=\"TopicLink\" href=\"//www.zhihu.com/topic/19550706\" target=\"_blank\"><div class=\"css-1gomreu\">纪录片</div></a></span></div><div class=\"Tag QuestionTopic css-1s3a4zw\" data-za-detail-view-path-module=\"TopicItem\" data-za-extra-module=\"{&quot;card&quot;:{&quot;content&quot;:{&quot;type&quot;:&quot;Topic&quot;,&quot;token&quot;:&quot;20142632&quot;}}}\"><span class=\"Tag-content\"><a class=\"TopicLink\" href=\"//www.zhihu.com/topic/20142632\" target=\"_blank\"><div class=\"css-1gomreu\">文化自信</div></a></span></div><div class=\"Tag QuestionTopic css-1s3a4zw\" data-za-detail-view-path-module=\"TopicItem\" data-za-extra-module=\"{&quot;card&quot;:{&quot;content&quot;:{&quot;type&quot;:&quot;Topic&quot;,&quot;token&quot;:&quot;20940175&quot;}}}\"><span class=\"Tag-content\"><a class=\"TopicLink\" href=\"//www.zhihu.com/topic/20940175\" target=\"_blank\"><div class=\"css-1gomreu\">马克思主义中国化研究</div></a></span></div></div></div><h1 class=\"QuestionHeader-title\">如何评价纪录片《当马克思遇见孔夫子》?</h1><div class=\"css-4cffwv\"><div class=\"LabelContainer-wrapper\"></div></div><div><div class=\"css-eew49z\"><div class=\"QuestionRichText QuestionRichText--expandable\"><div><div class=\"css-376mun\"><span class=\"RichText ztext css-117anjg\" options=\"[object Object]\" itemprop=\"text\"><p data-first-child=\"\"></p><figure data-size=\"normal\"><div><img src=\"https://pic3.zhimg.com/v2-657d0837f091bb051f08d45ddbe07422_b.png\" data-rawwidth=\"1917\" data-rawheight=\"1080\" data-size=\"normal\" class=\"origin_image zh-lightbox-thumb\" width=\"1917\" data-original=\"https://pic3.zhimg.com/v2-657d0837f091bb051f08d45ddbe07422_r.jpg\"></div></figure><p>图源b站</p></span></div></div></div></div></div></div><div class=\"QuestionHeader-side\"><div class=\"QuestionHeader-follow-status\"><div class=\"QuestionFollowStatus\"><div class=\"NumberBoard QuestionFollowStatus-counts NumberBoard--divider\"><div class=\"NumberBoard-item\"><div class=\"NumberBoard-itemInner\"><div class=\"NumberBoard-itemName\">关注者</div><strong class=\"NumberBoard-itemValue\" title=\"83\">83</strong></div></div><div class=\"NumberBoard-item\"><div class=\"NumberBoard-itemInner\"><div class=\"NumberBoard-itemName\">被浏览</div><strong class=\"NumberBoard-itemValue\" title=\"120152\">120,152</strong></div></div></div></div></div></div></div><div><div class=\"Sticky QuestionHeader-footer is-bottom\"><div class=\"QuestionHeader-footer-inner\"><div class=\"QuestionHeader-main QuestionHeader-footer-main\"><div class=\"QuestionButtonGroup\"><button type=\"button\" class=\"Button FollowButton FEfUrdfMIKpQDJDqkjte Button--primary Button--blue epMJl0lFQuYbC7jrwr_o JmYzaky7MEPMFcJDLNMG\">关注问题</button><a><button type=\"button\" class=\"Button FEfUrdfMIKpQDJDqkjte Button--blue JmYzaky7MEPMFcJDLNMG\"><span style=\"display: inline-flex; align-items: center;\">\\u200b<svg width=\"16\" height=\"16\" viewBox=\"0 0 24 24\" class=\"Zi Zi--Edit QuestionButton-icon\" fill=\"currentColor\"><path d=\"m7.841 20.043-4.328 1.18a.6.6 0 0 1-.737-.736l1.18-4.324a1.2 1.2 0 0 1 .314-.539l8.094-7.995a.9.9 0 0 1 1.268.003l2.736 2.736a.9.9 0 0 1 .004 1.268l-7.196 7.296-.802.802a1.2 1.2 0 0 1-.533.31ZM19.703 4.81l-.514-.513a2.542 2.542 0 0 0-3.595 0l-.999 1.067a.9.9 0 0 0 .02 1.252l2.77 2.768a.9.9 0 0 0 1.25.02l1.068-.999a2.542 2.542 0 0 0 0-3.594Z\"></path></svg></span>写回答</button></a></div><div class=\"QuestionHeaderActions\"><button type=\"button\" class=\"Button FEfUrdfMIKpQDJDqkjte Button--grey Button--withIcon Button--withLabel ZdfrHW7Ef5ZjwFiiBJuS B46v1Ak6Gj5sL2JTS4PY RuuQ6TOh2cRzJr6WlyQp\" style=\"margin-right: 16px;\"><span style=\"display: inline-flex; align-items: center;\">\\u200b<svg width=\"1.2em\" height=\"1.2em\" viewBox=\"0 0 24 24\" class=\"Zi Zi--Invite Button-zi t2ntD6J1DemdOdvh5FB4\" fill=\"currentColor\"><path fill-rule=\"evenodd\" d=\"M5.5 7.5A5.5 5.5 0 0 1 11 2a5.5 5.5 0 0 1 5.5 5.5A5.5 5.5 0 0 1 11 13a5.5 5.5 0 0 1-5.5-5.5Zm8.11 9.498c.404-.408.91-1 1.17-1.51.067-.133.13-.284.165-.442.034-.15.058-.373-.033-.602a.872.872 0 0 0-.545-.509 1.37 1.37 0 0 0-.604-.043c-.657.082-1.518.184-2.373.24-.867.055-1.68.058-2.254-.041-1.189-.204-2.045-.19-2.781.087-.722.272-1.25.773-1.804 1.302-1.533 1.462-2.434 3.311-2.65 4.831-.11.78.535 1.339 1.199 1.339h8.1a.96.96 0 0 0 .955-.929c.06-1.767.7-2.96 1.456-3.723Zm5.596-2.292a.706.706 0 0 0-1.412 0v2.588h-2.588a.706.706 0 0 0 0 1.412h2.588v2.588a.706.706 0 1 0 1.412 0v-2.588h2.588a.706.706 0 0 0 0-1.412h-2.588v-2.588Z\" clip-rule=\"evenodd\"></path></svg></span>邀请回答</button><div class=\"GoodQuestionAction\"><button type=\"button\" class=\"Button GoodQuestionAction-commonBtn FEfUrdfMIKpQDJDqkjte Button--plain Button--withIcon Button--withLabel fEPKGkUK5jyc4fUuT0QP B46v1Ak6Gj5sL2JTS4PY RuuQ6TOh2cRzJr6WlyQp\"><span style=\"display: inline-flex; align-items: center;\">\\u200b<svg width=\"1.2em\" height=\"1.2em\" viewBox=\"0 0 24 24\" class=\"Zi Zi--Like Button-zi t2ntD6J1DemdOdvh5FB4\" fill=\"currentColor\"><path d=\"M8.5 4.078c0-1.834 1.986-2.979 3.573-2.06a4.826 4.826 0 0 1 2.379 4.71l-.114 1.022h3.581c2.53 0 4.334 2.454 3.58 4.868l-1.823 5.833a3.784 3.784 0 0 1-3.848 2.64c-2.372-.147-6.042-.341-8.828-.341H4.5A1.75 1.75 0 0 1 2.75 19V9.5c0-.967.784-1.75 1.75-1.75h.637a3.418 3.418 0 0 0 3.19-2.191c.115-.296.173-.611.173-.928v-.553Z\"></path></svg></span>好问题 1</button></div><div class=\"QuestionHeader-Comment\"><button type=\"button\" class=\"Button FEfUrdfMIKpQDJDqkjte Button--plain Button--withIcon Button--withLabel fEPKGkUK5jyc4fUuT0QP B46v1Ak6Gj5sL2JTS4PY RuuQ6TOh2cRzJr6WlyQp\"><span style=\"display: inline-flex; align-items: center;\">\\u200b<svg width=\"1.2em\" height=\"1.2em\" viewBox=\"0 0 24 24\" class=\"Zi Zi--Comment Button-zi t2ntD6J1DemdOdvh5FB4\" fill=\"currentColor\"><path fill-rule=\"evenodd\" d=\"M12 2.75a9.25 9.25 0 1 0 4.737 17.197l2.643.817a1 1 0 0 0 1.25-1.25l-.8-2.588A9.25 9.25 0 0 0 12 2.75Z\" clip-rule=\"evenodd\"></path></svg></span>添加评论</button></div><div class=\"Popover ShareMenu\"><div class=\"ShareMenu-toggler\" id=\"Popover22-toggle\" aria-haspopup=\"true\" aria-expanded=\"false\" aria-owns=\"Popover22-content\"><img class=\"ShareMenu-fakeQRCode\" src=\"https://www.zhihu.com/qrcode?url=https%3A%2F%2Fwww.zhihu.com%2Fquestion%2F625769474%23showWechatShareTip\" alt=\"微信二维码\"><button type=\"button\" class=\"Button FEfUrdfMIKpQDJDqkjte Button--plain Button--withIcon Button--withLabel fEPKGkUK5jyc4fUuT0QP B46v1Ak6Gj5sL2JTS4PY RuuQ6TOh2cRzJr6WlyQp\"><span style=\"display: inline-flex; align-items: center;\">\\u200b<svg width=\"1.2em\" height=\"1.2em\" viewBox=\"0 0 24 24\" class=\"Zi Zi--Share Button-zi t2ntD6J1DemdOdvh5FB4\" fill=\"currentColor\"><path d=\"M19.47 1.914a.8.8 0 0 1 1.204.778l-1.872 16.386a.9.9 0 0 1-1.204.743l-4.615-1.692a.7.7 0 0 0-.831.28l-1.927 3.02c-.43.674-1.474.369-1.474-.43v-3.865a.8.8 0 0 1 .179-.504l5.808-7.148a.595.595 0 0 0-.897-.781l-5.93 6.354a1.1 1.1 0 0 1-1.258.252L2.57 13.46a.8.8 0 0 1-.08-1.415l16.98-10.13Z\"></path></svg></span>分享</button></div></div><div class=\"Popover\"><button aria-label=\"更多\" id=\"Popover23-toggle\" aria-haspopup=\"true\" aria-expanded=\"false\" aria-owns=\"Popover23-content\" type=\"button\" class=\"Button FEfUrdfMIKpQDJDqkjte Button--plain Button--withIcon Button--iconOnly fEPKGkUK5jyc4fUuT0QP B46v1Ak6Gj5sL2JTS4PY hIwDV_tcL6XN1HprrnAq\"><span style=\"display: inline-flex; align-items: center;\">\\u200b<svg width=\"1.2em\" height=\"1.2em\" viewBox=\"0 0 24 24\" class=\"Zi Zi--Dots Button-zi t2ntD6J1DemdOdvh5FB4\" fill=\"currentColor\"><path d=\"M5.165 13.665a1.665 1.665 0 1 0 0-3.33 1.665 1.665 0 0 0 0 3.33ZM13.665 12a1.665 1.665 0 1 1-3.33 0 1.665 1.665 0 0 1 3.33 0ZM18.835 13.665a1.665 1.665 0 1 0 0-3.33 1.665 1.665 0 0 0 0 3.33Z\"></path></svg></span></button></div></div><div class=\"QuestionHeader-actions\"><button type=\"button\" class=\"Button FEfUrdfMIKpQDJDqkjte Button--plain fEPKGkUK5jyc4fUuT0QP\">收起 <span style=\"display: inline-flex; align-items: center;\">\\u200b<svg width=\"24\" height=\"24\" viewBox=\"0 0 24 24\" class=\"Zi Zi--ArrowUp\" fill=\"currentColor\"><path fill-rule=\"evenodd\" d=\"m12 10.752 3.78 4.025a.684.684 0 0 0 1.01 0 .796.796 0 0 0 0-1.075l-4.15-4.42a.866.866 0 0 0-1.28 0l-4.15 4.42a.796.796 0 0 0 0 1.075.684.684 0 0 0 1.01 0L12 10.752Z\" clip-rule=\"evenodd\"></path></svg></span></button></div></div></div></div></div></div>'"
      ]
     },
     "execution_count": 231,
     "metadata": {},
     "output_type": "execute_result"
    }
   ],
   "source": [
    "new_driver.find_elements_by_xpath(\n",
    "            '//div[@class=\"QuestionHeader\"]'\n",
    "        )[0].get_attribute(\"outerHTML\")"
   ]
  },
  {
   "cell_type": "code",
   "execution_count": 40,
   "id": "2734919b-7b9e-48dc-b749-ac705cc0b621",
   "metadata": {
    "tags": []
   },
   "outputs": [],
   "source": [
    "\n",
    "\n",
    "\n",
    "class Author:\n",
    "    pass\n",
    "\n",
    "\n",
    "class Question:\n",
    "    def __init__(\n",
    "            self,\n",
    "            question_id: int = None,\n",
    "            title: str = None,\n",
    "            meta: List[Tag] = None,\n",
    "            answers=None\n",
    "    ):\n",
    "        self.title = title\n",
    "        self.question_id = question_id\n",
    "        self.answers = answers\n",
    "        self.meta = meta\n",
    "\n",
    "    def parse(self, recurse: bool, text=None):\n",
    "        print(\"parsing question\")\n",
    "        if text is None:\n",
    "            url = zhihu_question_url(self.question_id)\n",
    "            html = urlopen(url)\n",
    "            # 获取的html内容是字节，将其转化为字符串\n",
    "            html_text = bytes.decode(html.read())\n",
    "        else:\n",
    "            html_text = text\n",
    "        # 用BeautifulSoup解析html\n",
    "        obj = bf(html_text, 'html.parser')\n",
    "        if self.title is None:\n",
    "            self.title = obj.head.title.text\n",
    "        question_info = obj.find('div', class_='QuestionPage')\n",
    "        if self.question_id is None:\n",
    "            # for example data-za-extra-module='{\"card\":{\"content\":{\"type\":\"Question\",\"token\":\"532925796\"}}}'\n",
    "            data_za_extra_module_dict = ast.literal_eval(question_info.get('data-za-extra-module'))\n",
    "            self.question_id = int(data_za_extra_module_dict[\"card\"][\"content\"][\"token\"])\n",
    "        print(\"\\twith question id={}\".format(self.question_id))\n",
    "        print(\"\\ttitle:{}\".format(self.title))\n",
    "        if self.meta is None:\n",
    "            self.meta = question_info.find_all(\"meta\")\n",
    "        if self.answers is None:\n",
    "            # self.list = obj.find_all('div', class_=\"List-item\")\n",
    "            answer_blocks = obj.find_all('div', class_=\"ContentItem AnswerItem\")\n",
    "            self.answers = [\n",
    "                parse_answer_block_from_question(answer, recurse=recurse)\n",
    "                for answer in answer_blocks\n",
    "            ]\n",
    "\n",
    "\n",
    "class Answer:\n",
    "    def __init__(\n",
    "            self,\n",
    "            data_za_index: int,\n",
    "            author_name: str,\n",
    "            answer_id: int,\n",
    "            itemprop: str,\n",
    "            meta: List[Tag],\n",
    "            content=None,\n",
    "            comments=None\n",
    "    ):\n",
    "        self.data_za_index = data_za_index\n",
    "        self.author_name = author_name\n",
    "        self.answer_id = answer_id\n",
    "        self.itemprop = itemprop\n",
    "        self.content = content\n",
    "        self.comments = comments\n",
    "        self.meta = meta\n",
    "\n",
    "    def get_content_and_comment(self):\n",
    "        print(\"\\t\\tparsing answer with id={}\".format(self.answer_id))\n",
    "        # 发出请求，获取html\n",
    "        url = zhihu_answer_url(self.answer_id)\n",
    "        html = urlopen(url)\n",
    "        # 获取的html内容是字节，将其转化为字符串\n",
    "        html_text = bytes.decode(html.read())\n",
    "        # 用BeautifulSoup解析html\n",
    "        obj = bf(html_text, 'html.parser')\n",
    "        # self.p = obj.find('p')\n",
    "        # self.content: a list of paragraphs and figures\n",
    "        self.content = obj.find('div', class_='RichContent-inner').find('span').contents\n",
    "\n",
    "    def __repr__(self):\n",
    "        return \"Answer(id={})\".format(self.answer_id)\n",
    "\n",
    "\n",
    "class Paragraph:\n",
    "    def __init__(self, text):\n",
    "        self.text = text\n",
    "\n",
    "\n",
    "def parse_answer_block_from_question(answer_block: Tag, recurse: bool):\n",
    "    index = int(answer_block.get(\"data-za-index\"))\n",
    "    data_zop_dict = ast.literal_eval(answer_block.get(\"data-zop\"))\n",
    "    author_name = data_zop_dict[\"authorName\"]\n",
    "    answer_id = data_zop_dict[\"itemId\"]\n",
    "    itemprop = answer_block.get(\"itemprop\")\n",
    "    meta = answer_block.find_all(\"meta\")\n",
    "    answer = Answer(\n",
    "        data_za_index=index,\n",
    "        author_name=author_name,\n",
    "        answer_id=answer_id,\n",
    "        itemprop=itemprop,\n",
    "        meta=meta,\n",
    "    )\n",
    "    if recurse:\n",
    "        answer.get_content_and_comment()\n",
    "    return answer\n",
    "\n"
   ]
  },
  {
   "cell_type": "code",
   "execution_count": 45,
   "id": "666042a7-ddb2-40f3-b418-f8564e8687de",
   "metadata": {
    "collapsed": true,
    "jupyter": {
     "outputs_hidden": true
    },
    "tags": []
   },
   "outputs": [
    {
     "name": "stdout",
     "output_type": "stream",
     "text": [
      "parsing question\n",
      "\twith question id=625769474\n",
      "\ttitle:如何评价纪录片《当马克思遇见孔夫子》? - 知乎\n",
      "\t\tparsing answer with id=3252328928\n",
      "\t\tparsing answer with id=3249748730\n",
      "\t\tparsing answer with id=3252760617\n",
      "\t\tparsing answer with id=3250133829\n",
      "\t\tparsing answer with id=3249016418\n",
      "\t\tparsing answer with id=3257691327\n",
      "\t\tparsing answer with id=3250103826\n",
      "\t\tparsing answer with id=3256584908\n",
      "\t\tparsing answer with id=3261422855\n",
      "\t\tparsing answer with id=3261230756\n",
      "\t\tparsing answer with id=3250339752\n",
      "\t\tparsing answer with id=3256551441\n",
      "\t\tparsing answer with id=3256494643\n",
      "\t\tparsing answer with id=3254833311\n",
      "\t\tparsing answer with id=3250371750\n",
      "\t\tparsing answer with id=3255212000\n",
      "\t\tparsing answer with id=3263193884\n",
      "\t\tparsing answer with id=3259707086\n",
      "\t\tparsing answer with id=3255824921\n",
      "\t\tparsing answer with id=3265831161\n",
      "\t\tparsing answer with id=3263632092\n",
      "\t\tparsing answer with id=3262183598\n",
      "\t\tparsing answer with id=3260397226\n",
      "\t\tparsing answer with id=3266453379\n",
      "\t\tparsing answer with id=3266248640\n",
      "\t\tparsing answer with id=3265885283\n",
      "\t\tparsing answer with id=3265808871\n",
      "\t\tparsing answer with id=3251279885\n",
      "\t\tparsing answer with id=3255026895\n",
      "\t\tparsing answer with id=3249335392\n",
      "\t\tparsing answer with id=3250903449\n",
      "\t\tparsing answer with id=3258241238\n",
      "\t\tparsing answer with id=3257675604\n",
      "\t\tparsing answer with id=3264605245\n",
      "\t\tparsing answer with id=3252476605\n",
      "\t\tparsing answer with id=3250866582\n",
      "\t\tparsing answer with id=3265943729\n",
      "\t\tparsing answer with id=3259178660\n",
      "\t\tparsing answer with id=3259133218\n",
      "\t\tparsing answer with id=3266398047\n",
      "\t\tparsing answer with id=3265955114\n",
      "\t\tparsing answer with id=3265436779\n",
      "\t\tparsing answer with id=3264928586\n",
      "\t\tparsing answer with id=3259379461\n",
      "\t\tparsing answer with id=3258746269\n",
      "\t\tparsing answer with id=3258418051\n",
      "\t\tparsing answer with id=3255588228\n",
      "\t\tparsing answer with id=3255110910\n",
      "\t\tparsing answer with id=3255076155\n",
      "\t\tparsing answer with id=3253258664\n",
      "\t\tparsing answer with id=3249983637\n",
      "\t\tparsing answer with id=3264019571\n",
      "\t\tparsing answer with id=3262303256\n",
      "\t\tparsing answer with id=3257193191\n"
     ]
    }
   ],
   "source": [
    "question = Question()\n",
    "question.parse(recurse=True, text=source)"
   ]
  },
  {
   "cell_type": "code",
   "execution_count": 47,
   "id": "fae05d8b-f5dc-4d30-969b-2cf52ae0cb5a",
   "metadata": {},
   "outputs": [
    {
     "name": "stdout",
     "output_type": "stream",
     "text": [
      "[<p data-first-child=\"\" data-pid=\"kkerF_7K\">这部片子成功达到了和春晚一样的高度</p>, <p data-pid=\"7ccIYuvm\">不管是贴吧，b乎，抖音，微博，乃至小红书</p>, <p data-pid=\"bVub0cca\">不管是左，中还是右</p>, <p data-pid=\"n_aDbji-\">不管是神神还是兔兔</p>, <p data-pid=\"zuE2ZdNq\">不管ip在哪</p>, <p data-pid=\"iN6Dbmjx\">甚至性别都与平时不同</p>, <p data-pid=\"Kadlnu1W\">十分罕见的一致认为这玩意是个垃圾中的垃圾</p>]\n"
     ]
    }
   ],
   "source": [
    "print(question.answers[0].content)"
   ]
  },
  {
   "cell_type": "code",
   "execution_count": 173,
   "id": "2d91cb13-c272-403c-8175-1e83e5e0424d",
   "metadata": {},
   "outputs": [],
   "source": [
    "url = zhihu_question_url(\n",
    "    q_id\n",
    ")\n",
    "html = urlopen(url)\n",
    "html_text = bytes.decode(html.read())\n",
    "with open(\"save.txt\",\"w\") as f:\n",
    "    f.write(html_text)"
   ]
  },
  {
   "cell_type": "code",
   "execution_count": null,
   "id": "9e94fca4-4807-4a8a-ba7e-65f4eaaed8b7",
   "metadata": {},
   "outputs": [],
   "source": []
  },
  {
   "cell_type": "code",
   "execution_count": 153,
   "id": "a0d384a8-bebb-429b-9ad9-2cfb882ca8d0",
   "metadata": {},
   "outputs": [],
   "source": [
    "class Q:\n",
    "    def __init__(self):\n",
    "        self.l = []\n",
    "        \n",
    "    def put(self,o):\n",
    "        self.l.append(o)\n",
    "\n",
    "task = Q()\n",
    "result = Q()"
   ]
  },
  {
   "cell_type": "code",
   "execution_count": 159,
   "id": "2b9765fc-5b8e-4e42-9c6d-6d8261bd44e3",
   "metadata": {},
   "outputs": [],
   "source": [
    "# for answer in answer page:\n",
    "new_driver =  webdriver.Chrome(\n",
    "        drivers[\"chrome\"]\n",
    "        #executable_path=drivers[\"chrome\"]\n",
    "        # service=service,\n",
    "        # options =chromeOptions\n",
    "    )"
   ]
  },
  {
   "cell_type": "code",
   "execution_count": 52,
   "id": "3ada1a54-8a06-48a7-a4b5-25d9c379e45f",
   "metadata": {},
   "outputs": [],
   "source": [
    "new_driver.get(zhihu_answer_url(3259178660))"
   ]
  },
  {
   "cell_type": "code",
   "execution_count": 295,
   "id": "4768b163-9a4f-46ea-a8f9-e63ea3123e1c",
   "metadata": {},
   "outputs": [],
   "source": []
  },
  {
   "cell_type": "code",
   "execution_count": 276,
   "id": "82db2f21-7d32-433f-8552-83f5b90a2dcd",
   "metadata": {},
   "outputs": [],
   "source": []
  },
  {
   "cell_type": "code",
   "execution_count": 301,
   "id": "a4cbcac0-c007-4d54-a751-83acd3752486",
   "metadata": {},
   "outputs": [],
   "source": [
    "result = Queue()\n",
    "task = Queue()\n",
    "question_parser = QuestionParser(\n",
    "    queue_put_result=result,\n",
    "    queue_put_task=task,\n",
    "    driver=new_driver, logger=None)\n",
    "answer_parser = AnswerParser(\n",
    "    queue_get_task=task,\n",
    "    queue_put_result=result,\n",
    "    driver=new_driver, logger=None)"
   ]
  },
  {
   "cell_type": "code",
   "execution_count": 234,
   "id": "d4aa0533-3eb7-4ad3-831c-1da55de9af33",
   "metadata": {},
   "outputs": [],
   "source": [
    "b = answer_parser.parse(\n",
    "    # 3259178660\n",
    "    # 3259133218\n",
    "    3250133829\n",
    ")"
   ]
  },
  {
   "cell_type": "code",
   "execution_count": 302,
   "id": "aada61b1-140d-4194-a557-0ee175dc0ae8",
   "metadata": {},
   "outputs": [],
   "source": [
    "b = question_parser.parse(\n",
    "    q_id\n",
    ")"
   ]
  },
  {
   "cell_type": "code",
   "execution_count": 303,
   "id": "b96d3915-897a-4655-9a7a-5b1019a799d4",
   "metadata": {},
   "outputs": [],
   "source": [
    "answer_parser.start_parsing()"
   ]
  },
  {
   "cell_type": "code",
   "execution_count": 285,
   "id": "1723c37c-8bd4-4798-9b8d-72856e83c510",
   "metadata": {},
   "outputs": [],
   "source": [
    "for _task in task.l:\n",
    "    answer_parser.parse(\n",
    "        answer_id=_task.answer_id,\n",
    "        question_id=_task.question_id\n",
    "    )"
   ]
  },
  {
   "cell_type": "code",
   "execution_count": 253,
   "id": "82c37190-d845-4fdf-a3ce-ca3467730c08",
   "metadata": {},
   "outputs": [],
   "source": [
    "b = new_driver.find_element_by_xpath(\n",
    "            '//div[@class=\"QuestionPage\"]/meta[@itemprop=\"answerCount\"]'\n",
    "        )"
   ]
  },
  {
   "cell_type": "code",
   "execution_count": 287,
   "id": "d4542328-38b6-4ab9-8335-b5fbd968b0a5",
   "metadata": {},
   "outputs": [
    {
     "data": {
      "text/plain": [
       "[QuestionBriefInfo(question_id=625769474, title='如何评价纪录片《当马克思遇见孔夫子》?', content=[<p data-first-child=\"\"></p>, <figure data-size=\"normal\"><div><img class=\"origin_image zh-lightbox-thumb\" data-original=\"https://pic3.zhimg.com/v2-657d0837f091bb051f08d45ddbe07422_r.jpg\" data-rawheight=\"1080\" data-rawwidth=\"1917\" data-size=\"normal\" src=\"https://pic3.zhimg.com/v2-657d0837f091bb051f08d45ddbe07422_b.png\" width=\"1917\"/></div></figure>, <p>图源b站</p>], answerCount='68', dateCreated='2023-10-12T04:50:29.000Z', dateModified='2023-10-12T04:50:29.000Z'),\n",
       " AnswerBriefInfo(question_id=625769474, answer_id='3252328928', author=None, content=[<p data-first-child=\"\" data-pid=\"kkerF_7K\">这部片子成功达到了和春晚一样的高度</p>, <p data-pid=\"7ccIYuvm\">不管是贴吧，b乎，抖音，微博，乃至小红书</p>, <p data-pid=\"bVub0cca\">不管是左，中还是右</p>, <p data-pid=\"n_aDbji-\">不管是神神还是兔兔</p>, <p data-pid=\"zuE2ZdNq\">不管ip在哪</p>, <p data-pid=\"iN6Dbmjx\">甚至性别都与平时不同</p>, <p data-pid=\"Kadlnu1W\">十分罕见的一致认为这玩意是个垃圾中的垃圾</p>], upvoteCount='50', dateCreated='2023-10-16T11:44:25.000Z', dateModified='2023-10-16T11:44:25.000Z', commentCount='2'),\n",
       " AnswerBriefInfo(question_id=625769474, answer_id='3249748730', author=None, content=[<p data-first-child=\"\" data-pid=\"nfUjWi7n\">历史是任人打扮的老头子。</p>], upvoteCount='49', dateCreated='2023-10-14T10:27:54.000Z', dateModified='2023-10-14T10:27:54.000Z', commentCount='0'),\n",
       " AnswerBriefInfo(question_id=625769474, answer_id='3252760617', author=None, content=[<p data-first-child=\"\" data-pid=\"3xG5IQyO\">我绷不住的主要是让马克思说出《其实我早就是一个中国人了》这句话，直接把恶心程度提高了整个层次，马是世界公民，和世界人民站在一起，我们是要学习他的思想而不是申遗他，让大家耻笑，我希望某台只是为了讨论度而整出这烂活，如果有任何人这么认为我真觉得他有病。。。</p>], upvoteCount='40', dateCreated='2023-10-17T00:13:58.000Z', dateModified='2023-10-17T00:59:15.000Z', commentCount='2'),\n",
       " AnswerBriefInfo(question_id=625769474, answer_id='3250133829', author=None, content=[<p data-first-child=\"\"></p>, <figure data-size=\"normal\"><noscript><img class=\"origin_image zh-lightbox-thumb\" data-caption=\"\" data-default-watermark-src=\"https://picx.zhimg.com/50/v2-aff63e4f2ddafc12f9c82f9b8aa34db5_720w.jpg?source=2c26e567\" data-original=\"https://pica.zhimg.com/v2-2475ce23ab94ef956ccb057a394d60c5_r.jpg?source=2c26e567\" data-original-token=\"v2-25a9856f76ff2360ecdbca7303f753d7\" data-rawheight=\"733\" data-rawwidth=\"1107\" data-size=\"normal\" src=\"https://picx.zhimg.com/50/v2-2475ce23ab94ef956ccb057a394d60c5_720w.jpg?source=2c26e567\" width=\"1107\"/></noscript><div><img class=\"origin_image zh-lightbox-thumb lazy\" data-actualsrc=\"https://picx.zhimg.com/50/v2-2475ce23ab94ef956ccb057a394d60c5_720w.jpg?source=2c26e567\" data-caption=\"\" data-default-watermark-src=\"https://picx.zhimg.com/50/v2-aff63e4f2ddafc12f9c82f9b8aa34db5_720w.jpg?source=2c26e567\" data-lazy-status=\"ok\" data-original=\"https://pica.zhimg.com/v2-2475ce23ab94ef956ccb057a394d60c5_r.jpg?source=2c26e567\" data-original-token=\"v2-25a9856f76ff2360ecdbca7303f753d7\" data-rawheight=\"733\" data-rawwidth=\"1107\" data-size=\"normal\" height=\"733\" src=\"https://picx.zhimg.com/80/v2-2475ce23ab94ef956ccb057a394d60c5_720w.jpg?source=2c26e567\" width=\"1107\"/></div></figure>, <p data-pid=\"FlAtejOD\">可以说是相当流劈了，连教员都给拉来站台了<br/>——————————————————<br/>我不删评论的，看到好几条评论自己不见了，肯定是小管家干的！</p>], upvoteCount='37', dateCreated='2023-10-14T17:08:14.000Z', dateModified='2023-10-21T04:44:10.000Z', commentCount='1'),\n",
       " AnswerBriefInfo(question_id=625769474, answer_id='3249016418', author=None, content=[<p data-first-child=\"\" data-pid=\"wujO9PiD\">太棒了，完全符合我的预期，我爱中国</p>], upvoteCount='30', dateCreated='2023-10-13T18:14:15.000Z', dateModified='2023-10-13T18:14:15.000Z', commentCount='2')]"
      ]
     },
     "execution_count": 287,
     "metadata": {},
     "output_type": "execute_result"
    }
   ],
   "source": [
    "result.l"
   ]
  },
  {
   "cell_type": "code",
   "execution_count": 251,
   "id": "88a98356-e120-41ee-a1ba-1f51eb2f39c1",
   "metadata": {},
   "outputs": [],
   "source": [
    "b = new_driver.find_element_by_xpath(\n",
    "            '//div[@class=\"QuestionPage\"]')\n",
    "\n"
   ]
  },
  {
   "cell_type": "code",
   "execution_count": 252,
   "id": "eb0687c4-b131-4446-bcea-87d7e477192e",
   "metadata": {},
   "outputs": [],
   "source": [
    "b.get_attribute(\"\")"
   ]
  },
  {
   "cell_type": "code",
   "execution_count": 70,
   "id": "15b19b95-c261-4e99-a10d-7f7796b217e6",
   "metadata": {},
   "outputs": [
    {
     "data": {
      "text/plain": [
       "[<selenium.webdriver.remote.webelement.WebElement (session=\"6b3166495063ab3d5fe5993f7e34faa6\", element=\"406BF7D1B846F45993A8049B861C71F2_element_252\")>]"
      ]
     },
     "execution_count": 70,
     "metadata": {},
     "output_type": "execute_result"
    }
   ],
   "source": [
    "content[0].find_element_by_xpath(\n",
    "    ["
   ]
  },
  {
   "cell_type": "code",
   "execution_count": 58,
   "id": "ae5c9858-2169-4e5c-8e36-5dc3aef6a9e0",
   "metadata": {},
   "outputs": [
    {
     "data": {
      "text/plain": [
       "1"
      ]
     },
     "execution_count": 58,
     "metadata": {},
     "output_type": "execute_result"
    }
   ],
   "source": [
    "len(content)"
   ]
  },
  {
   "cell_type": "code",
   "execution_count": 59,
   "id": "718d6218-8631-475c-89b1-263d36d7f08c",
   "metadata": {},
   "outputs": [],
   "source": [
    "new_driver.close()\n"
   ]
  },
  {
   "cell_type": "code",
   "execution_count": 116,
   "id": "880a27d8-0492-4e4f-88ba-201fa3f3b8c8",
   "metadata": {},
   "outputs": [],
   "source": [
    "answer_item = b"
   ]
  },
  {
   "cell_type": "code",
   "execution_count": 122,
   "id": "5f6632ba-aa62-460b-bb86-533b3a1ef623",
   "metadata": {},
   "outputs": [],
   "source": [
    "b.get_attribute(\"data-zop\")"
   ]
  },
  {
   "cell_type": "code",
   "execution_count": 95,
   "id": "14bf8e4b-769d-4db6-926d-aab26d57c6af",
   "metadata": {},
   "outputs": [],
   "source": [
    "answer_item = b[0].find_element_by_xpath(\n",
    "    '//div[@class=\"QuestionAnswer-content\"]'\n",
    ")"
   ]
  },
  {
   "cell_type": "code",
   "execution_count": 97,
   "id": "21d7dd24-c986-45c1-baac-367cf06c31ac",
   "metadata": {},
   "outputs": [],
   "source": [
    "answer_item.get_attribute(\"data-zop\")"
   ]
  },
  {
   "cell_type": "code",
   "execution_count": 117,
   "id": "09c4b111-0bae-4657-baa2-9f913037f2fd",
   "metadata": {},
   "outputs": [],
   "source": [
    "d = answer_item.find_element_by_xpath(\n",
    "    '//meta[@itemprop=\"dateCreated\"]'\n",
    ")"
   ]
  },
  {
   "cell_type": "code",
   "execution_count": 120,
   "id": "8fbd4b12-d2f9-4d8a-90fe-cd6429a10416",
   "metadata": {},
   "outputs": [],
   "source": [
    "h = d.get_attribute(\"outerHTML\")"
   ]
  },
  {
   "cell_type": "code",
   "execution_count": 121,
   "id": "c5fe610e-2304-4631-81e0-53e2ef138466",
   "metadata": {},
   "outputs": [
    {
     "data": {
      "text/plain": [
       "'<meta itemprop=\"dateCreated\" content=\"2023-10-12T04:50:29.000Z\">'"
      ]
     },
     "execution_count": 121,
     "metadata": {},
     "output_type": "execute_result"
    }
   ],
   "source": [
    "h"
   ]
  },
  {
   "cell_type": "code",
   "execution_count": 123,
   "id": "23033a6d-3716-4fe6-89b1-9da43a4cc8ae",
   "metadata": {},
   "outputs": [
    {
     "data": {
      "text/plain": [
       "selenium.webdriver.remote.webelement.WebElement"
      ]
     },
     "execution_count": 123,
     "metadata": {},
     "output_type": "execute_result"
    }
   ],
   "source": [
    "type(b)"
   ]
  },
  {
   "cell_type": "code",
   "execution_count": 164,
   "id": "6f72b48f-699e-4310-933a-dd7f0721a8bf",
   "metadata": {},
   "outputs": [],
   "source": [
    "t = new_driver.find_element_by_xpath(\n",
    "    '//h1[@class=\"QuestionHeader-title\"]'\n",
    ")"
   ]
  },
  {
   "cell_type": "code",
   "execution_count": 166,
   "id": "d72a3c86-a39f-4b4f-a11e-239f8b481154",
   "metadata": {},
   "outputs": [
    {
     "data": {
      "text/plain": [
       "'<h1 class=\"QuestionHeader-title\">如何评价纪录片《当马克思遇见孔夫子》?</h1>'"
      ]
     },
     "execution_count": 166,
     "metadata": {},
     "output_type": "execute_result"
    }
   ],
   "source": [
    "t.get_attribute(\"outerHTML\")"
   ]
  },
  {
   "cell_type": "code",
   "execution_count": 169,
   "id": "baaf1cdf-5f20-4c58-956c-179764b643df",
   "metadata": {},
   "outputs": [
    {
     "data": {
      "text/plain": [
       "<selenium.webdriver.remote.webelement.WebElement (session=\"26433fb6b10e5939807f4856a8755b89\", element=\"4BA0D500254B4C3BEF417E604CDAF8D3_element_193\")>"
      ]
     },
     "execution_count": 169,
     "metadata": {},
     "output_type": "execute_result"
    }
   ],
   "source": []
  },
  {
   "cell_type": "code",
   "execution_count": null,
   "id": "0847e823-f45e-4c41-ad19-5839af5581b3",
   "metadata": {},
   "outputs": [],
   "source": []
  }
 ],
 "metadata": {
  "kernelspec": {
   "display_name": "web",
   "language": "python",
   "name": "web"
  },
  "language_info": {
   "codemirror_mode": {
    "name": "ipython",
    "version": 3
   },
   "file_extension": ".py",
   "mimetype": "text/x-python",
   "name": "python",
   "nbconvert_exporter": "python",
   "pygments_lexer": "ipython3",
   "version": "3.9.18"
  }
 },
 "nbformat": 4,
 "nbformat_minor": 5
}
