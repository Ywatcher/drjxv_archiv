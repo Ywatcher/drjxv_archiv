{
 "cells": [
  {
   "cell_type": "code",
   "execution_count": 65,
   "metadata": {
    "pycharm": {
     "name": "#%%\n"
    },
    "tags": []
   },
   "outputs": [
    {
     "ename": "AttributeError",
     "evalue": "'NoneType' object has no attribute 'title'",
     "output_type": "error",
     "traceback": [
      "\u001b[0;31m---------------------------------------------------------------------------\u001b[0m",
      "\u001b[0;31mAttributeError\u001b[0m                            Traceback (most recent call last)",
      "Cell \u001b[0;32mIn[65], line 7\u001b[0m\n\u001b[1;32m      5\u001b[0m \u001b[38;5;28;01mfrom\u001b[39;00m \u001b[38;5;21;01mbs4\u001b[39;00m \u001b[38;5;28;01mimport\u001b[39;00m BeautifulSoup \u001b[38;5;28;01mas\u001b[39;00m bf\n\u001b[1;32m      6\u001b[0m \u001b[38;5;28;01mfrom\u001b[39;00m \u001b[38;5;21;01mbs4\u001b[39;00m\u001b[38;5;21;01m.\u001b[39;00m\u001b[38;5;21;01melement\u001b[39;00m \u001b[38;5;28;01mimport\u001b[39;00m Tag\n\u001b[0;32m----> 7\u001b[0m \u001b[38;5;28;01mfrom\u001b[39;00m \u001b[38;5;21;01mtest\u001b[39;00m \u001b[38;5;28;01mimport\u001b[39;00m zhihu_question_url, zhihu_answer_url\n\u001b[1;32m     10\u001b[0m \u001b[38;5;66;03m# 导入urllib库的urlopen函数\u001b[39;00m\n\u001b[1;32m     11\u001b[0m \n\u001b[1;32m     12\u001b[0m \u001b[38;5;66;03m# 发出请求，获取html\u001b[39;00m\n\u001b[1;32m     13\u001b[0m \u001b[38;5;66;03m# url = \"https://www.baidu.com/\"\u001b[39;00m\n\u001b[1;32m     14\u001b[0m url \u001b[38;5;241m=\u001b[39m zhihu_question_url(\u001b[38;5;241m20785173\u001b[39m)\n",
      "File \u001b[0;32m/media/ywatcher/ExtDisk1/Files/Packages/web_archiv/src/test.py:30\u001b[0m\n\u001b[1;32m     27\u001b[0m obj \u001b[38;5;241m=\u001b[39m bf(html\u001b[38;5;241m.\u001b[39mread(), \u001b[38;5;124m'\u001b[39m\u001b[38;5;124mhtml.parser\u001b[39m\u001b[38;5;124m'\u001b[39m)\n\u001b[1;32m     29\u001b[0m \u001b[38;5;66;03m# 从标签head、title里提取标题\u001b[39;00m\n\u001b[0;32m---> 30\u001b[0m title \u001b[38;5;241m=\u001b[39m \u001b[43mobj\u001b[49m\u001b[38;5;241;43m.\u001b[39;49m\u001b[43mhead\u001b[49m\u001b[38;5;241;43m.\u001b[39;49m\u001b[43mtitle\u001b[49m\n\u001b[1;32m     31\u001b[0m \u001b[38;5;66;03m# 打印标题\u001b[39;00m\n\u001b[1;32m     32\u001b[0m \u001b[38;5;28mprint\u001b[39m(title)\n",
      "\u001b[0;31mAttributeError\u001b[0m: 'NoneType' object has no attribute 'title'"
     ]
    }
   ],
   "source": [
    "from urllib.request import urlopen\n",
    "from typing import List\n",
    "\n",
    "# 导入BeautifulSoup\n",
    "from bs4 import BeautifulSoup as bf\n",
    "from bs4.element import Tag\n",
    "from test import zhihu_question_url, zhihu_answer_url\n",
    "\n",
    "\n",
    "# 导入urllib库的urlopen函数\n",
    "\n",
    "# 发出请求，获取html\n",
    "# url = \"https://www.baidu.com/\"\n",
    "url = zhihu_question_url(20785173)\n",
    "html = urlopen(url)\n",
    "# 获取的html内容是字节，将其转化为字符串\n",
    "html_text = bytes.decode(html.read())\n",
    "# 打印html内容\n",
    "# print(html_text)\n",
    "\n",
    "# 请求获取HTML\n",
    "\n",
    "# 用BeautifulSoup解析html\n",
    "obj = bf(html_text, 'html.parser')\n",
    "\n",
    "# 从标签head、title里提取标题\n"
   ]
  },
  {
   "cell_type": "code",
   "execution_count": 64,
   "metadata": {},
   "outputs": [],
   "source": [
    "class Author:\n",
    "    pass\n",
    "class Answer:\n",
    "    def __init__(\n",
    "        self, \n",
    "        data_za_index:int,\n",
    "        author_name:str,\n",
    "        answer_id:int,\n",
    "        itemprop: str,\n",
    "        meta:List[Tag],\n",
    "        content=None,\n",
    "        comments=None\n",
    "    ):\n",
    "        self.data_za_index = data_za_index\n",
    "        self.author_name = author_name\n",
    "        self.answer_id = answer_id\n",
    "        self.itemprop = itemprop\n",
    "        self.content = content\n",
    "        self.comments = comments\n",
    "        self.meta = meta\n",
    "        \n",
    "    def get_content_and_comment(self):\n",
    "        url = zhihu_answe\n",
    "        pass"
   ]
  },
  {
   "cell_type": "code",
   "execution_count": null,
   "metadata": {
    "tags": []
   },
   "outputs": [
    {
     "name": "stdout",
     "output_type": "stream",
     "text": [
      "<title data-rh=\"true\">计算机中有什么通用的乐谱文件格式吗？ - 知乎</title>\n"
     ]
    }
   ],
   "source": [
    "title = obj.head.title\n",
    "# 打印标题\n",
    "print(title)\n",
    "answers = obj.find_all('div',class_=\"ContentItem AnswerItem\")"
   ]
  },
  {
   "cell_type": "code",
   "execution_count": 63,
   "metadata": {},
   "outputs": [],
   "source": [
    "def parse_answer_block_from_question(answer:Tag):\n",
    "    index = answer.get(\"data-za-index\")\n",
    "    data_zop_dict = ast.literal_eval(answers[0].get(\"data-zop\"))\n",
    "    author_name = data_zop_dict[\"authorName\"]\n",
    "    answer_id = data_zop_dict[\"itemId\"]\n",
    "    itemprop = answer.get(\"itemprop\")\n",
    "    meta = answer.find_all(\"meta\") \n",
    "    return Answer(\n",
    "        data_za_index=index,\n",
    "        author_name=author_name,\n",
    "        answer_id=answer_id,\n",
    "        itemprop=itemprop,\n",
    "        meta= meta,\n",
    "    )\n",
    "    \n",
    "    \n"
   ]
  },
  {
   "cell_type": "code",
   "execution_count": 34,
   "metadata": {},
   "outputs": [],
   "source": [
    "import ast\n",
    "d = "
   ]
  },
  {
   "cell_type": "code",
   "execution_count": 36,
   "metadata": {},
   "outputs": [
    {
     "data": {
      "text/plain": [
       "dict"
      ]
     },
     "execution_count": 36,
     "metadata": {},
     "output_type": "execute_result"
    }
   ],
   "source": [
    "type(d)"
   ]
  },
  {
   "cell_type": "code",
   "execution_count": 53,
   "metadata": {},
   "outputs": [],
   "source": [
    "def nr_voters(answer:Tag)->int:\n",
    "    v = answer.find_all('span',class_='Voters')\n",
    "    assert(len(v)==1), \"length of result: {}\".format(len(v))\n",
    "    b = v[0].find_all('button')[0]\n",
    "\n",
    "    return int(str(b).strip(\n",
    "        '[<button class=\"Button Button--plain\" type=\"button\">').strip(' 人<!-- -->赞同了该回答</'\n",
    "    ))"
   ]
  },
  {
   "cell_type": "code",
   "execution_count": 56,
   "metadata": {},
   "outputs": [
    {
     "data": {
      "text/plain": [
       "[<meta content=\"知乎用户\" itemprop=\"name\"/>,\n",
       " <meta content=\"https://pic1.zhimg.com/v2-abed1a8c04700ba7d72b45195223e0ff_l.jpg?source=1940ef5c\" itemprop=\"image\"/>,\n",
       " <meta content=\"https://www.zhihu.com/people/\" itemprop=\"url\"/>,\n",
       " <meta content=\"12756\" itemprop=\"zhihu:followerCount\"/>,\n",
       " <meta itemprop=\"image\"/>,\n",
       " <meta content=\"7\" itemprop=\"upvoteCount\"/>,\n",
       " <meta content=\"https://www.zhihu.com/question/20785173/answer/16171216\" itemprop=\"url\"/>,\n",
       " <meta content=\"2013-02-18T10:59:45.000Z\" itemprop=\"dateCreated\"/>,\n",
       " <meta content=\"2017-06-09T09:32:40.000Z\" itemprop=\"dateModified\"/>,\n",
       " <meta content=\"1\" itemprop=\"commentCount\"/>]"
      ]
     },
     "execution_count": 56,
     "metadata": {},
     "output_type": "execute_result"
    }
   ],
   "source": [
    "answers[0]"
   ]
  },
  {
   "cell_type": "code",
   "execution_count": null,
   "metadata": {},
   "outputs": [],
   "source": []
  }
 ],
 "metadata": {
  "kernelspec": {
   "display_name": "web",
   "language": "python",
   "name": "web"
  },
  "language_info": {
   "codemirror_mode": {
    "name": "ipython",
    "version": 3
   },
   "file_extension": ".py",
   "mimetype": "text/x-python",
   "name": "python",
   "nbconvert_exporter": "python",
   "pygments_lexer": "ipython3",
   "version": "3.9.16"
  }
 },
 "nbformat": 4,
 "nbformat_minor": 4
}
